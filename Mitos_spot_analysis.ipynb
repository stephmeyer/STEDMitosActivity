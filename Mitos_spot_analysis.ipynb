{
 "cells": [
  {
   "cell_type": "markdown",
   "id": "f6106aa0-8945-4d63-883d-43d9475c71c3",
   "metadata": {
    "tags": []
   },
   "source": [
    "Analysis of STED Tom20 Mitos Images\n",
    "=========\n",
    "\n",
    "* Old STED data taken 4/09/21 on 2 color STED\n",
    "* New STED data taken on STEDYCON on various days, listed in data folders below"
   ]
  },
  {
   "cell_type": "markdown",
   "id": "89714ef9-13c7-41d9-b466-f7e1ea399165",
   "metadata": {
    "tags": []
   },
   "source": [
    "# Previously done steps:\n",
    "1. Use Weka segmentation to segment mitochondria from the rest of the cell (using defaults)\n",
    "2. Masked out the non-mitos to zero values\n",
    "3. Use Thunderstorm to localize and fit the Tom20 clusters and exported the csv file with the fit data (using defaults)\n",
    "3. Looked at the FFT along the mitos to see if any particular frequencies pop up-no obvious signal (done with data on old 2 color STED)"
   ]
  },
  {
   "cell_type": "markdown",
   "id": "c3716d65-2640-4ae0-a913-73f6b70742a9",
   "metadata": {
    "tags": []
   },
   "source": [
    "\n",
    "# To do now:\n",
    "* Mitos analysis steps:\n",
    "    * Size of Tom20 clusters-start with a basic method, later I can try their method if my results don’t make sense\n",
    "        * Find the average size of the Tom20 clusters in each image (and std) using Thunderstorm csv output\n",
    "        * Plot the 5 images under the same conditions in a boxcar plot-how is heterogeneity?\n",
    "        * Plot the different conditions and controls in a boxcar plot, adding together all the images into one dataset\n",
    "        * maybe do some hypothesis testing of any differences found?\n",
    "    * Density of Tom20 clusters in mitochondria-their method seems complex, I’m not sure if it’s strictly necessary, so start with a basic method and see if it gets me any useful results\n",
    "        * calculate total area of mitochondria in an image using the mitos masks\n",
    "        * calculate the number of spots in the image using Thunderstorm output\n",
    "        * divide spot number by area for each image\n",
    "        * compare the results for images under same conditions-find average and std for each condition\n",
    "        * Hypothesis testing?\n",
    "    * Normalized variance of fluorescence signal\n",
    "        * From Mitos paper: “the local variance in the fluorescence intensity of raw STED images was calculated before image segmentation. To this end, the variance was determined in round ROIs with a diameter of seven pixels (∼140 nm). The resulting variance values were assigned to the central pixel of the analyzed ROI. To evaluate the results of the analysis independently from the absolute brightness of the struc- tures, the individual variance values were normalized to the squared average fluorescence intensity of the respective ROI. The variance calculation was repeated using each pixel successively as an ROI center, leading to an image in which each pixel represents the local variance. Finally, the mitochondria-containing fraction of the image was selected by image segmentation using masks as described above. Then, the median of the variance within the mitochondria was determined.”\n",
    "        * Calculate the fluorescence variance in a round ROI of size ~140 nm for every pixel in the image (except edges of course)\n",
    "        * Normalize individual variance values for each pixel to the squared average fluorescence intensity of the ROI\n",
    "        * Then use the mitos mask to segment the image to keep only the pixels in the inside of the mitos\n",
    "        * Calculate median of the normalized fluorescence values of the pixels."
   ]
  },
  {
   "cell_type": "code",
   "execution_count": 1,
   "id": "31b5042c-86e3-4373-9e7e-181086823258",
   "metadata": {},
   "outputs": [],
   "source": [
    "import numpy as np\n",
    "import pandas as pd\n",
    "import matplotlib.pyplot as plt\n",
    "import matplotlib.image as mpimg\n",
    "import math as m\n",
    "import os"
   ]
  },
  {
   "cell_type": "markdown",
   "id": "060fe59c-686b-4f31-a90c-3b6008f6adde",
   "metadata": {
    "tags": []
   },
   "source": [
    "# STEDYCON: Import the data: **IMPORTANT: folders_path is the path to the data folders.  Change below if you move data.**\n",
    "\n",
    "One folder named YYMMDD in the folders_path contains all the folders with the different analysis steps\n",
    "For the raw data from the STEDYCON, the path below without any additional words is the path.\n",
    "* folders_path + \"YYMMDD/Type/YYYY-MM-DD Pierce S \"\n",
    "* then one of the following:\n",
    "* Decon 3D = deconvolved stack\n",
    "* Decon = deconvolved middle images\n",
    "* Stable 3D = stabilized STED images, not deconvolved yet, 3D\n",
    "* Masks = masks output in different folders for different classifiers\n",
    "* Mitos = Decon STED image multiplied by the Masks-diff folders for diff classifiers\n",
    "* Conf 3D = Confocal images, 3D\n",
    "* TStorm = Thunderstorm output files, in different folders for different classifiers, may also add folders for different TStorm methods/settings\n",
    "\n",
    "- List different classifiers as folders in Masks, Mitos, TStorm\n",
    "- TStorm will have classifiers listed as folder.  Need to modify the importing code if I want to try different TStorm settings\n"
   ]
  },
  {
   "cell_type": "code",
   "execution_count": 4,
   "id": "d4733d5d-d291-4ea3-b241-1d1573942225",
   "metadata": {
    "tags": []
   },
   "outputs": [],
   "source": [
    "#If folders are moved, just change the path below to the new path to the folders with each date\n",
    "folders_path = \"/Users/Stephanie/Library/CloudStorage/OneDrive-TheUniversityofColoradoDenver/From Dropbox/STED/STED Data/\""
   ]
  },
  {
   "cell_type": "code",
   "execution_count": 6,
   "id": "7eda0b8d-75de-447d-8b8b-60d66beda41e",
   "metadata": {},
   "outputs": [],
   "source": [
    "#List the first part of the paths for the first set of samples\n",
    "C1_folder = folders_path + \"230802/Control/2023-08-02 Pierce S \"\n",
    "Glu1_folder = folders_path + \"230825/Glutamate/2023-08-25 Pierce S \"\n",
    "FAP1_folder = folders_path + \"230908/FAP_3hours/2023-09-08 Pierce S \""
   ]
  },
  {
   "cell_type": "code",
   "execution_count": 37,
   "id": "0c334315-e19d-4b28-ae75-c2c8903182d9",
   "metadata": {},
   "outputs": [],
   "source": [
    "#List the second part of the paths for the second set of samples\n",
    "#In this data we took the images for the control sample 2 on two different days\n",
    "#Combine them to compare samples, may want separate comparisons to compare how microscope day to day changes affect results\n",
    "C2_folder = folders_path + \"231019/Control2/2023-10-19 Pierce S \"\n",
    "C2_folder2 = folders_path + \"231117/Control2/2023-11-17 Pierce S \"\n",
    "Glu2_folder = folders_path + \"231117/Glu2/2023-11-17 Pierce S \"\n",
    "FAP2_folder = folders_path + \"231019/4AP2_3hours/2023-10-19 Pierce S \""
   ]
  },
  {
   "cell_type": "markdown",
   "id": "ddfd4f15-8281-4f45-9535-46fc3b7cb7b7",
   "metadata": {
    "tags": []
   },
   "source": [
    "### Here list the folders for the final set of data, and classifiers, respectively, then load data"
   ]
  },
  {
   "cell_type": "code",
   "execution_count": 11,
   "id": "a71b584a-958e-452c-9190-52e1644e4278",
   "metadata": {},
   "outputs": [],
   "source": [
    "#C_folders = [C1_folder,C2_folder, C2_folder2]\n",
    "C_folders = [C1_folder,C2_folder, C2_folder2]\n",
    "C_classifiers = [\"IMG0021_Control_Classifier2\",\"IMG0013 classifier\", \"IMG0013 classifier\"]\n",
    "Glu_folders = [Glu1_folder, Glu2_folder]\n",
    "Glu_classifiers = [\"Glutamate_Image14_Traindata_classifier_2\", \"IMG0036_classifier\"]\n",
    "FAP_folders = [FAP1_folder, FAP2_folder] #\n",
    "FAP_classifiers = [\"IMG0041_4AP_classifier\",\"IMG0012 4AP classifier\"]"
   ]
  },
  {
   "cell_type": "code",
   "execution_count": 107,
   "id": "0d9dae14-f806-48da-87de-330b0354a333",
   "metadata": {
    "tags": []
   },
   "outputs": [],
   "source": [
    "# Read in all the data in one loop\n",
    "#For each classifier/TStorm settings combo, read in .csv file into a Pandas dataframe\n",
    "#inpub classifier name\n",
    "def process_folders(folder_paths, classifiers):\n",
    "    #folder_paths = list of folders with data for this type of sample\n",
    "    #classifier = name of classifier I want to analyze results from (ie name of folder where masks, mitos and Tstorm data are in\n",
    "    #TStorm = CONSIDER ADDING FOR DIFFERENT TSTORM ANALYSIS EVETUALLY, BUT FOR NOW DON'T WORRY ABOUT IT\n",
    "    masks_all = []\n",
    "    TStormResults_all = []\n",
    "    tiffs_stable_all = []\n",
    "\n",
    "    for folder_path, classifier in zip(folder_paths, classifiers):\n",
    "        #For each folder, read in stable STED data for calculating variance in fluorescence\n",
    "        folder_path_stable = folder_path + \"Stable\"\n",
    "        folder_path_masks = folder_path + \"Masks\" +\"/\" + classifier\n",
    "        folder_path_TStorm = folder_path + \"TStorm\" +\"/\" + classifier\n",
    "        \n",
    "        filenames_stable = os.listdir(folder_path_stable)\n",
    "        files_prefix = [filename[:-len(\"_stable.tif\")] for filename in filenames_stable]\n",
    "        print(\"List of names of Stable STED raw image files:\")\n",
    "        print(files_prefix)\n",
    "        filenames_masks = os.listdir(folder_path_masks)\n",
    "        filenames_TStorm = os.listdir(folder_path_TStorm)\n",
    "        \n",
    "        tiffs_stable = []\n",
    "        masks = []\n",
    "        TStormResults = []\n",
    "        for file_prefix in files_prefix:\n",
    "            print(\"Working on this file:\")\n",
    "            print(file_prefix)\n",
    "            if file_prefix != \"IMG0032_Glu2_STED\": #missing one deconvolved file in Glu2 data, skip it for now.\n",
    "                tiffs_stable = tiffs_stable + [plt.imread(os.path.join(folder_path_stable, file_prefix + \"_stable.tif\"))]\n",
    "                #Find filename in masks directory that matches the file prefix in this loop\n",
    "                mask_name = [filename for filename in filenames_masks if (filename.startswith(file_prefix) and filename.endswith(\"_mask.tif\"))][0]\n",
    "                masks = masks + [plt.imread(os.path.join(folder_path_masks, mask_name))]\n",
    "                #Fine filename in TStorm directory that matches the file prefix in this loop\n",
    "                TStorm_name = [filename for filename in filenames_TStorm if (filename.startswith(file_prefix) and filename.endswith(\".csv\"))][0]\n",
    "                TStormResults = TStormResults + [pd.read_csv(os.path.join(folder_path_TStorm, TStorm_name))]\n",
    "        tiffs_stable_all = tiffs_stable_all + [tiffs_stable]\n",
    "        masks_all = masks_all + [masks]\n",
    "        TStormResults_all = TStormResults_all + [TStormResults]\n",
    "    return tiffs_stable_all, masks_all, TStormResults_all\n",
    "\n",
    "\n",
    "\n",
    "\n",
    "                                                         \n",
    "            \n",
    "            \n"
   ]
  },
  {
   "cell_type": "code",
   "execution_count": 109,
   "id": "dfe81b30-3202-49bc-b144-42d0571c54d7",
   "metadata": {
    "tags": []
   },
   "outputs": [
    {
     "name": "stdout",
     "output_type": "stream",
     "text": [
      "List of names of Stable STED raw image files:\n",
      "['IMG0012_Control_STED', 'IMG0016_Control_STED', 'IMG0009_Control_STED', 'IMG0015_Control_STED', 'IMG0011_Control_STED', 'IMG0020_Control_STED', 'IMG0017_Control_STED', 'IMG0018_Control_STED', 'IMG0013_Control_STED', 'IMG0021_Control_STED', 'IMG0014_Control_STED', 'IMG0007_Control_STED']\n",
      "Working on this file:\n",
      "IMG0012_Control_STED\n",
      "Working on this file:\n",
      "IMG0016_Control_STED\n",
      "Working on this file:\n",
      "IMG0009_Control_STED\n",
      "Working on this file:\n",
      "IMG0015_Control_STED\n",
      "Working on this file:\n",
      "IMG0011_Control_STED\n",
      "Working on this file:\n",
      "IMG0020_Control_STED\n",
      "Working on this file:\n",
      "IMG0017_Control_STED\n",
      "Working on this file:\n",
      "IMG0018_Control_STED\n",
      "Working on this file:\n",
      "IMG0013_Control_STED\n",
      "Working on this file:\n",
      "IMG0021_Control_STED\n",
      "Working on this file:\n",
      "IMG0014_Control_STED\n",
      "Working on this file:\n",
      "IMG0007_Control_STED\n",
      "List of names of Stable STED raw image files:\n",
      "['IMG0011_Control2_STED', 'IMG0018_Control2_STED', 'IMG0014_Control2_STED', 'IMG0016_Control2_STED', 'IMG0013_Control2_STED', 'IMG0009_Control2_STED']\n",
      "Working on this file:\n",
      "IMG0011_Control2_STED\n",
      "Working on this file:\n",
      "IMG0018_Control2_STED\n",
      "Working on this file:\n",
      "IMG0014_Control2_STED\n",
      "Working on this file:\n",
      "IMG0016_Control2_STED\n",
      "Working on this file:\n",
      "IMG0013_Control2_STED\n",
      "Working on this file:\n",
      "IMG0009_Control2_STED\n",
      "List of names of Stable STED raw image files:\n",
      "['IMG0019_Control2_STED', 'IMG0011_Control2_STED', 'IMG0022_Control2_STED', 'IMG0015_Control2_STED', 'IMG0021_Control2_STED', 'IMG0017_Control2_STED', 'IMG0013_Control2_STED']\n",
      "Working on this file:\n",
      "IMG0019_Control2_STED\n",
      "Working on this file:\n",
      "IMG0011_Control2_STED\n",
      "Working on this file:\n",
      "IMG0022_Control2_STED\n",
      "Working on this file:\n",
      "IMG0015_Control2_STED\n",
      "Working on this file:\n",
      "IMG0021_Control2_STED\n",
      "Working on this file:\n",
      "IMG0017_Control2_STED\n",
      "Working on this file:\n",
      "IMG0013_Control2_STED\n"
     ]
    }
   ],
   "source": [
    "C_stable_tiffs, C_masks, C_TStorm = process_folders(C_folders, C_classifiers)"
   ]
  },
  {
   "cell_type": "code",
   "execution_count": 111,
   "id": "d1b3df29-c89f-421e-bacd-5d22f58f00d0",
   "metadata": {
    "tags": []
   },
   "outputs": [
    {
     "name": "stdout",
     "output_type": "stream",
     "text": [
      "List of names of Stable STED raw image files:\n",
      "['IMG0023_Glutamate_Tom20_STED', 'IMG0031_Glutamate_Tom20_STED', 'IMG0018_Glutamate_Tom20_STED', 'IMG0025_Glutamate_Tom20_STED', 'IMG0016_Glutamate_Tom20_STED', 'IMG0029_Glutamate_Tom20_STED', 'IMG0033_Glutamate_Tom20_STED', 'IMG0021_Glutamate_Tom20_STED', 'IMG0035_Glutamate_Tom20_STED', 'IMG0014_Glutamate_Tom20_STED', 'IMG0027_Glutamate_Tom20_STED', 'IMG0019_Glutamate_Tom20_STED']\n",
      "Working on this file:\n",
      "IMG0023_Glutamate_Tom20_STED\n",
      "Working on this file:\n",
      "IMG0031_Glutamate_Tom20_STED\n",
      "Working on this file:\n",
      "IMG0018_Glutamate_Tom20_STED\n",
      "Working on this file:\n",
      "IMG0025_Glutamate_Tom20_STED\n",
      "Working on this file:\n",
      "IMG0016_Glutamate_Tom20_STED\n",
      "Working on this file:\n",
      "IMG0029_Glutamate_Tom20_STED\n",
      "Working on this file:\n",
      "IMG0033_Glutamate_Tom20_STED\n",
      "Working on this file:\n",
      "IMG0021_Glutamate_Tom20_STED\n",
      "Working on this file:\n",
      "IMG0035_Glutamate_Tom20_STED\n",
      "Working on this file:\n",
      "IMG0014_Glutamate_Tom20_STED\n",
      "Working on this file:\n",
      "IMG0027_Glutamate_Tom20_STED\n",
      "Working on this file:\n",
      "IMG0019_Glutamate_Tom20_STED\n",
      "List of names of Stable STED raw image files:\n",
      "['IMG0041_Glu2_STED', 'IMG0038_Glu2_STED', 'IMG0032_Glu2_STED', 'IMG0037_Glu2_STED', 'IMG0036_Glu2_STED', 'IMG0040_Glu2_STED', 'IMG0039_Glu2_STED', 'IMG0035_Glu2_STED', 'IMG0027_Glu2_STED', 'IMG0034_Glu2_STED', 'IMG0031_Glu2_STED', 'IMG0029_Glu2_STED']\n",
      "Working on this file:\n",
      "IMG0041_Glu2_STED\n",
      "Working on this file:\n",
      "IMG0038_Glu2_STED\n",
      "Working on this file:\n",
      "IMG0032_Glu2_STED\n",
      "Working on this file:\n",
      "IMG0037_Glu2_STED\n",
      "Working on this file:\n",
      "IMG0036_Glu2_STED\n",
      "Working on this file:\n",
      "IMG0040_Glu2_STED\n",
      "Working on this file:\n",
      "IMG0039_Glu2_STED\n",
      "Working on this file:\n",
      "IMG0035_Glu2_STED\n",
      "Working on this file:\n",
      "IMG0027_Glu2_STED\n",
      "Working on this file:\n",
      "IMG0034_Glu2_STED\n",
      "Working on this file:\n",
      "IMG0031_Glu2_STED\n",
      "Working on this file:\n",
      "IMG0029_Glu2_STED\n"
     ]
    }
   ],
   "source": [
    "Glu_stable_tiffs, Glu_masks, Glu_TStorm = process_folders(Glu_folders, Glu_classifiers)"
   ]
  },
  {
   "cell_type": "code",
   "execution_count": 113,
   "id": "f1bf7eeb-479e-43bf-bc39-2dcaa4914838",
   "metadata": {
    "tags": []
   },
   "outputs": [
    {
     "name": "stdout",
     "output_type": "stream",
     "text": [
      "List of names of Stable STED raw image files:\n",
      "['IMG0037_4AP_STED', 'IMG0038_4AP_STED', 'IMG0039_4AP_STED', 'IMG0044_4AP_STED', 'IMG0045_4AP_STED', 'IMG0041_4AP_STED', 'IMG0040_4AP_STED', 'IMG0043_4AP_STED', 'IMG0042_4AP_STED']\n",
      "Working on this file:\n",
      "IMG0037_4AP_STED\n",
      "Working on this file:\n",
      "IMG0038_4AP_STED\n",
      "Working on this file:\n",
      "IMG0039_4AP_STED\n",
      "Working on this file:\n",
      "IMG0044_4AP_STED\n",
      "Working on this file:\n",
      "IMG0045_4AP_STED\n",
      "Working on this file:\n",
      "IMG0041_4AP_STED\n",
      "Working on this file:\n",
      "IMG0040_4AP_STED\n",
      "Working on this file:\n",
      "IMG0043_4AP_STED\n",
      "Working on this file:\n",
      "IMG0042_4AP_STED\n",
      "List of names of Stable STED raw image files:\n",
      "['IMG0006_4AP_3_hours_STED', 'IMG0009_4AP_3_hours_STED', 'IMG0020_4AP_3_hours_STED', 'IMG0007_4AP_3_hours_STED', 'IMG0011_4AP_3_hours_STED', 'IMG0014_4AP_3_hours_STED', 'IMG0024_4AP_3_hours_STED', 'IMG0022_4AP_3_hours_STED', 'IMG0004_4AP_3_hours_STED', 'IMG0012_4AP_3_hours_STED', 'IMG0026_4AP_3_hours_STED', 'IMG0005_4AP_3_hours_STED']\n",
      "Working on this file:\n",
      "IMG0006_4AP_3_hours_STED\n",
      "Working on this file:\n",
      "IMG0009_4AP_3_hours_STED\n",
      "Working on this file:\n",
      "IMG0020_4AP_3_hours_STED\n",
      "Working on this file:\n",
      "IMG0007_4AP_3_hours_STED\n",
      "Working on this file:\n",
      "IMG0011_4AP_3_hours_STED\n",
      "Working on this file:\n",
      "IMG0014_4AP_3_hours_STED\n",
      "Working on this file:\n",
      "IMG0024_4AP_3_hours_STED\n",
      "Working on this file:\n",
      "IMG0022_4AP_3_hours_STED\n",
      "Working on this file:\n",
      "IMG0004_4AP_3_hours_STED\n",
      "Working on this file:\n",
      "IMG0012_4AP_3_hours_STED\n",
      "Working on this file:\n",
      "IMG0026_4AP_3_hours_STED\n",
      "Working on this file:\n",
      "IMG0005_4AP_3_hours_STED\n"
     ]
    }
   ],
   "source": [
    "FAP_stable_tiffs, FAP_masks, FAP_TStorm = process_folders(FAP_folders, FAP_classifiers)"
   ]
  },
  {
   "cell_type": "markdown",
   "id": "943f5a77-5817-47dd-a935-c146353f3493",
   "metadata": {
    "tags": []
   },
   "source": [
    "# Analysis 1: Size of Tom20 clusters"
   ]
  },
  {
   "cell_type": "markdown",
   "id": "c515a152-d3b2-4397-8989-9cadc959d1ff",
   "metadata": {
    "jp-MarkdownHeadingCollapsed": true,
    "tags": []
   },
   "source": [
    "## Do Thunderstorm Fit Results FWHM analysis"
   ]
  },
  {
   "cell_type": "markdown",
   "id": "d28d9057-eab2-4e96-ab78-9c05c8bc32ac",
   "metadata": {
    "tags": []
   },
   "source": [
    "### Analysis of TStorm Data from each image"
   ]
  },
  {
   "cell_type": "code",
   "execution_count": 21,
   "id": "17c8df14-661e-4075-a012-4403ccfaeeed",
   "metadata": {
    "tags": []
   },
   "outputs": [],
   "source": [
    "### analyze_TStorm\n",
    "### input: TStorm = a list of pandas DataFrames of the csv output from Thunderstorm on each image taken in a session on one sample\n",
    "### output: FWHM_mean_all \n",
    "def analyze_TStorm(TStorm):\n",
    "    FWHM_mean_all = []\n",
    "    FWHM_std_all = []\n",
    "    FWHM_all = []\n",
    "    for sample in TStorm:\n",
    "        num_images = len(sample)\n",
    "        FWHM_mean = np.zeros(num_images)\n",
    "        FWHM_std = np.zeros(num_images)\n",
    "        FWHM = sample[0]['sigma [nm]']\n",
    "        for i in range(num_images):\n",
    "            FWHM_mean[i] = sample[i].mean()['sigma [nm]']\n",
    "            FWHM_std[i] = sample[i].std()['sigma [nm]']\n",
    "            if i!=0:\n",
    "                FWHM = pd.concat([FWHM, sample[i]['sigma [nm]']],ignore_index = True)\n",
    "        print(\"Mean FWHM:\")\n",
    "        print(FWHM_mean)\n",
    "        print(\"STD:\")\n",
    "        print(FWHM_std)\n",
    "        FWHM_mean_all = FWHM_mean_all + [FWHM_mean]\n",
    "        FWHM_std_all = FWHM_std_all +[FWHM_std]\n",
    "        FWHM_all =FWHM_all + [FWHM]\n",
    "    return FWHM_mean_all, FWHM_std_all, FWHM_all"
   ]
  },
  {
   "cell_type": "code",
   "execution_count": 23,
   "id": "966e78e1-e8f9-402d-a26e-d9a5de7e72f2",
   "metadata": {
    "tags": []
   },
   "outputs": [
    {
     "name": "stdout",
     "output_type": "stream",
     "text": [
      "Mean FWHM:\n",
      "[29.6088962  29.84470411 28.86046103 29.43326368 29.33634058 28.8077879\n",
      " 30.42569861 28.48762212 29.16737932 30.61371547 29.43242222 30.4772407 ]\n",
      "STD:\n",
      "[7.47037332 7.25323417 6.9656431  7.28683059 7.30579559 6.48549633\n",
      " 7.54031078 6.74639557 7.33929714 8.21380299 7.3343084  7.09453307]\n",
      "Mean FWHM:\n",
      "[27.78234662 27.39468659 29.0519103  26.4604254  28.7825595  29.05898741]\n",
      "STD:\n",
      "[7.37283854 6.37251385 7.79653669 5.92437278 7.51351533 7.66953177]\n",
      "Mean FWHM:\n",
      "[26.67153294 27.26800027 26.21965374 27.31514506 27.1203048  27.24618065\n",
      " 25.79433578]\n",
      "STD:\n",
      "[7.14049282 6.18212046 6.57121831 6.82838037 6.88020234 6.89347565\n",
      " 6.79914858]\n"
     ]
    }
   ],
   "source": [
    "C_FWHM_mean, C_std, C_FWHM = analyze_TStorm(C_TStorm)"
   ]
  },
  {
   "cell_type": "code",
   "execution_count": 25,
   "id": "275ec0cd-6427-4d5f-85b2-b1c85e789795",
   "metadata": {
    "tags": []
   },
   "outputs": [
    {
     "name": "stdout",
     "output_type": "stream",
     "text": [
      "Mean FWHM:\n",
      "[25.58797343 27.2884305  29.56245446 27.61950106 27.04553787 29.22417309\n",
      " 27.6390289  29.69621722 27.62133406 29.46809351 27.5243253  27.28042156]\n",
      "STD:\n",
      "[6.543911   6.49021836 7.3693262  6.62820716 6.34099466 7.36279998\n",
      " 7.37084974 7.27144442 6.1695569  7.56627246 6.44929252 5.90977589]\n",
      "Mean FWHM:\n",
      "[29.03107223 26.56777462 25.39217053 27.22273696 28.36911982 20.63664964\n",
      " 27.27415432 31.47586968 26.40655737 25.86298321 27.1183091 ]\n",
      "STD:\n",
      "[ 7.39005398  7.58315055  7.64053702  7.21497846  7.86731337 10.56942533\n",
      "  7.31511063  8.981306    6.48187983  6.3755626   7.60723024]\n"
     ]
    }
   ],
   "source": [
    "Glu_FWHM_mean, Glu_std, Glu_FWHM = analyze_TStorm(Glu_TStorm)"
   ]
  },
  {
   "cell_type": "code",
   "execution_count": 27,
   "id": "d3582f40-44cf-402a-aeeb-dab87343db81",
   "metadata": {
    "tags": []
   },
   "outputs": [
    {
     "name": "stdout",
     "output_type": "stream",
     "text": [
      "Mean FWHM:\n",
      "[26.20008626 25.41047892 26.95448138 24.59985018 27.24327285 26.97654086\n",
      " 28.96451699 26.34570038 26.43685529]\n",
      "STD:\n",
      "[6.0978802  6.88345303 6.65071396 6.07529222 6.83796042 6.17264482\n",
      " 8.43142133 6.63499157 8.91401229]\n",
      "Mean FWHM:\n",
      "[26.89751858 30.04613756 30.22163395 28.35652427 27.16266225 28.3613444\n",
      " 28.17066289 27.03969683 28.26424576 28.53312581 29.52440965 22.67045121]\n",
      "STD:\n",
      "[6.84107138 8.37778627 7.90202571 7.10574464 6.30406024 7.47849769\n",
      " 8.02018241 6.84615935 7.22106576 7.22335023 7.66725807 9.14130691]\n"
     ]
    }
   ],
   "source": [
    "FAP_FWHM_mean, FAP_std, FAP_FWHM = analyze_TStorm(FAP_TStorm)"
   ]
  },
  {
   "cell_type": "markdown",
   "id": "7320a522-52be-451a-b747-cbf72738830e",
   "metadata": {
    "jp-MarkdownHeadingCollapsed": true,
    "tags": []
   },
   "source": [
    "### Now Do some TStorm boxplots:"
   ]
  },
  {
   "cell_type": "code",
   "execution_count": null,
   "id": "027c1510-6830-4f3d-af7e-8a19c080c369",
   "metadata": {
    "tags": []
   },
   "outputs": [],
   "source": [
    "print(C_FWHM_mean[1])\n",
    "print(C_FWHM_mean[2])\n",
    "np.concatenate((C_FWHM_mean[1],C_FWHM_mean[2]))"
   ]
  },
  {
   "cell_type": "code",
   "execution_count": null,
   "id": "7914be5d-cc04-45a7-b3d4-9ed0f683ded6",
   "metadata": {
    "tags": []
   },
   "outputs": [],
   "source": [
    "#data = [C_FWHM_mean[0], np.concatenate((C_FWHM_mean[1],C_FWHM_mean[2]), Glu_FWHM_mean[0], Glu_FWHM_mean[1], FAP_FWHM_mean[0]]\n",
    "data = [C_FWHM_mean[0], np.concatenate((C_FWHM_mean[1],C_FWHM_mean[2])), Glu_FWHM_mean[0],Glu_FWHM_mean[1], FAP_FWHM_mean[0], FAP_FWHM_mean[1]]\n",
    "fig1, ax1 = plt.subplots()\n",
    "ax1.set_title('Tom20 STEDYCON mean Tstorm FWHM of images')\n",
    "ax1.set_xlabel('Sample Type')\n",
    "ax1.boxplot(data, labels=['C1','C2','Glu1','Glu2','4AP1', '4AP2'])\n",
    "ax1.set_ylabel('Mean FWHM of fits')\n",
    "plt.show()"
   ]
  },
  {
   "cell_type": "markdown",
   "id": "99f8506f-5a01-4710-832d-89faca4de916",
   "metadata": {},
   "source": [
    "Something looks wrong!  The controls are very different in mean FWHM and the FAP's are also very different, and in the opposite direction.  Get the rest of my data before I worry about it, but I mean need to try using the same classifier again?"
   ]
  },
  {
   "cell_type": "code",
   "execution_count": null,
   "id": "293c6b0c-c1db-4cd0-a00a-a39daff6dfc0",
   "metadata": {
    "tags": []
   },
   "outputs": [],
   "source": [
    "data = [np.concatenate((C_FWHM[0],C_FWHM[1],C_FWHM[2])),np.concatenate((Glu_FWHM[0],Glu_FWHM[1])),np.concatenate((FAP_FWHM[0], FAP_FWHM[1]))]\n",
    "fig1, ax1 = plt.subplots()\n",
    "ax1.set_title('Comparing conditions, combining all images, samples')\n",
    "ax1.boxplot(data, labels=['Control','Glu','4AP'])\n",
    "ax1.set_ylim([0,100])\n",
    "ax1.set_ylabel('Fit FWHM of Tom20 clusters (nm)')\n",
    "plt.show()"
   ]
  },
  {
   "cell_type": "code",
   "execution_count": null,
   "id": "bdbeb21d-3c13-48c2-8ea8-49810b6f35e9",
   "metadata": {
    "tags": []
   },
   "outputs": [],
   "source": [
    "data1 = [result['sigma [nm]'] for result in C_TStorm[0]] \n",
    "#data = [df_glutamate_0p1uM_1['sigma [nm]'], df_glutamate_0p1uM_2['sigma [nm]'],df_glutamate_0p1uM_3['sigma [nm]'],df_glutamate_0p1uM_4['sigma [nm]'],df_glutamate_0p1uM_5['sigma [nm]']]\n",
    "fig1, ax1 = plt.subplots()\n",
    "ax1.set_title('C1 Mitos Tom20 FWHM TStorm')\n",
    "ax1.set_xlabel('Image #')\n",
    "ax1.boxplot(data1)\n",
    "ax1.set_ylabel('Fit FWHM of Tom20 clusters (nm)')\n",
    "plt.show()"
   ]
  },
  {
   "cell_type": "code",
   "execution_count": null,
   "id": "242e36fd-2270-4fa0-937d-8688e6917aaa",
   "metadata": {
    "tags": []
   },
   "outputs": [],
   "source": [
    "data2 = [result['sigma [nm]'] for result in C_TStorm[1]] + [result['sigma [nm]'] for result in C_TStorm[2]]\n",
    "#data = [df_glutamate_0p1uM_1['sigma [nm]'], df_glutamate_0p1uM_2['sigma [nm]'],df_glutamate_0p1uM_3['sigma [nm]'],df_glutamate_0p1uM_4['sigma [nm]'],df_glutamate_0p1uM_5['sigma [nm]']]\n",
    "fig1, ax1 = plt.subplots()\n",
    "ax1.set_title('C2 Mitos Tom20 FWHM TStorm')\n",
    "ax1.set_xlabel('Image #')\n",
    "ax1.boxplot(data2)\n",
    "ax1.set_ylabel('Fit FWHM of Tom20 clusters (nm)')\n",
    "plt.show()"
   ]
  },
  {
   "cell_type": "code",
   "execution_count": null,
   "id": "ec4730fd-844c-4dc0-8fb1-d38805849457",
   "metadata": {
    "tags": []
   },
   "outputs": [],
   "source": [
    "C_FWHM_all = data1+data2\n",
    "fig1, ax1 = plt.subplots()\n",
    "ax1.set_title('Control Mitos Tom20 FWHM TStorm')\n",
    "ax1.set_xlabel('Images')\n",
    "ax1.boxplot(C_FWHM_all)\n",
    "ax1.set_ylabel('Fit FWHM of Tom20 clusters (nm)')\n",
    "plt.show()"
   ]
  },
  {
   "cell_type": "code",
   "execution_count": null,
   "id": "ddd493cf-e414-46ce-9882-b7270583e485",
   "metadata": {
    "tags": []
   },
   "outputs": [],
   "source": [
    "data = [result['sigma [nm]'] for result in Glu_TStorm[0]]\n",
    "#data = [df_glutamate_0p1uM_1['sigma [nm]'], df_glutamate_0p1uM_2['sigma [nm]'],df_glutamate_0p1uM_3['sigma [nm]'],df_glutamate_0p1uM_4['sigma [nm]'],df_glutamate_0p1uM_5['sigma [nm]']]\n",
    "fig1, ax1 = plt.subplots()\n",
    "ax1.set_title('Glu1 Mitos Tom20 FWHM TStorm')\n",
    "ax1.set_xlabel('Image #')\n",
    "ax1.boxplot(data)\n",
    "ax1.set_ylabel('Fit FWHM of Tom20 clusters (nm)')\n",
    "plt.show()"
   ]
  },
  {
   "cell_type": "code",
   "execution_count": null,
   "id": "bf2d87af-39a3-4800-96ed-83a34f54419b",
   "metadata": {
    "tags": []
   },
   "outputs": [],
   "source": [
    "data2 = [result['sigma [nm]'] for result in Glu_TStorm[1]]\n",
    "#data = [df_glutamate_0p1uM_1['sigma [nm]'], df_glutamate_0p1uM_2['sigma [nm]'],df_glutamate_0p1uM_3['sigma [nm]'],df_glutamate_0p1uM_4['sigma [nm]'],df_glutamate_0p1uM_5['sigma [nm]']]\n",
    "fig1, ax1 = plt.subplots()\n",
    "ax1.set_title('Glu2 Mitos Tom20 FWHM TStorm')\n",
    "ax1.set_xlabel('Image #')\n",
    "ax1.boxplot(data)\n",
    "ax1.set_ylabel('Fit FWHM of Tom20 clusters (nm)')\n",
    "plt.show()"
   ]
  },
  {
   "cell_type": "code",
   "execution_count": null,
   "id": "3f062b21-cc88-476e-a8b3-b948eb3cfb41",
   "metadata": {
    "tags": []
   },
   "outputs": [],
   "source": [
    "Glu_FWHM_all = data1+data2\n",
    "fig1, ax1 = plt.subplots()\n",
    "ax1.set_title('Glu Mitos Tom20 FWHM TStorm ALL')\n",
    "ax1.set_xlabel('Images')\n",
    "ax1.boxplot(Glu_FWHM_all)\n",
    "ax1.set_ylabel('Fit FWHM of Tom20 clusters (nm)')\n",
    "plt.show()"
   ]
  },
  {
   "cell_type": "code",
   "execution_count": null,
   "id": "e774bac2-ab9e-4022-82b7-bb9fbc385385",
   "metadata": {
    "tags": []
   },
   "outputs": [],
   "source": [
    "data1 = [result['sigma [nm]'] for result in FAP_TStorm[0]]\n",
    "#data = [df_glutamate_0p1uM_1['sigma [nm]'], df_glutamate_0p1uM_2['sigma [nm]'],df_glutamate_0p1uM_3['sigma [nm]'],df_glutamate_0p1uM_4['sigma [nm]'],df_glutamate_0p1uM_5['sigma [nm]']]\n",
    "fig1, ax1 = plt.subplots()\n",
    "ax1.set_title('FAP1 Mitos Tom20 FWHM TStorm')\n",
    "ax1.set_xlabel('Image #')\n",
    "ax1.boxplot(data1)\n",
    "ax1.set_ylabel('Fit FWHM of Tom20 clusters (nm)')\n",
    "plt.show()"
   ]
  },
  {
   "cell_type": "code",
   "execution_count": null,
   "id": "bfd8c49a-428e-4f22-aa5e-3fcddc2c2c83",
   "metadata": {
    "tags": []
   },
   "outputs": [],
   "source": [
    "data2 = [result['sigma [nm]'] for result in FAP_TStorm[1]]\n",
    "#data = [df_glutamate_0p1uM_1['sigma [nm]'], df_glutamate_0p1uM_2['sigma [nm]'],df_glutamate_0p1uM_3['sigma [nm]'],df_glutamate_0p1uM_4['sigma [nm]'],df_glutamate_0p1uM_5['sigma [nm]']]\n",
    "fig1, ax1 = plt.subplots()\n",
    "ax1.set_title('FAP2 Mitos Tom20 FWHM TStorm')\n",
    "ax1.set_xlabel('Image #')\n",
    "ax1.boxplot(data2)\n",
    "ax1.set_ylabel('Fit FWHM of Tom20 clusters (nm)')\n",
    "plt.show()"
   ]
  },
  {
   "cell_type": "code",
   "execution_count": null,
   "id": "62d1c373-e4bb-4050-8371-13d8caba1e92",
   "metadata": {
    "tags": []
   },
   "outputs": [],
   "source": [
    "FAP_FWHM_all=data1+data2\n",
    "#data = [df_glutamate_0p1uM_1['sigma [nm]'], df_glutamate_0p1uM_2['sigma [nm]'],df_glutamate_0p1uM_3['sigma [nm]'],df_glutamate_0p1uM_4['sigma [nm]'],df_glutamate_0p1uM_5['sigma [nm]']]\n",
    "fig1, ax1 = plt.subplots()\n",
    "ax1.set_title('FAP Mitos Tom20 FWHM TStorm')\n",
    "ax1.set_xlabel('Image #')\n",
    "ax1.boxplot(FAP_FWHM_all)\n",
    "ax1.set_ylabel('Fit FWHM of Tom20 clusters (nm)')\n",
    "plt.show()"
   ]
  },
  {
   "cell_type": "markdown",
   "id": "e8f0bab3-ed29-4da6-94c5-6f2ae7171c7d",
   "metadata": {
    "jp-MarkdownHeadingCollapsed": true,
    "tags": []
   },
   "source": [
    "### List the mean and std of the different samples and combines mean/std"
   ]
  },
  {
   "cell_type": "code",
   "execution_count": null,
   "id": "3e24a8e3-9e4b-49c0-b220-0c52ef790930",
   "metadata": {
    "tags": []
   },
   "outputs": [],
   "source": [
    "C1_mean = C_FWHM[0].mean()\n",
    "C1_std = C_FWHM[0].std()\n",
    "C2_mean = pd.concat([C_FWHM[1],C_FWHM[2]],ignore_index=True).mean()\n",
    "C2_std = pd.concat([C_FWHM[1],C_FWHM[2]],ignore_index=True).std()\n",
    "C_mean = pd.concat([C_FWHM[0], C_FWHM[1],C_FWHM[2]],ignore_index = True).mean()\n",
    "C_std = pd.concat([C_FWHM[0], C_FWHM[1],C_FWHM[2]],ignore_index = True).std()\n",
    "\n",
    "Glu1_mean = Glu_FWHM[0].mean()\n",
    "Glu1_std = Glu_FWHM[0].std()\n",
    "Glu2_mean = Glu_FWHM[1].mean()\n",
    "Glu2_std = Glu_FWHM[1].mean()\n",
    "Glu_mean =  pd.concat([Glu_FWHM[0], Glu_FWHM[1]],ignore_index = True).mean()\n",
    "Glu_std = pd.concat([Glu_FWHM[0], Glu_FWHM[1]],ignore_index = True).std()\n",
    "\n",
    "FAP1_mean = FAP_FWHM[0].mean()\n",
    "FAP1_std = FAP_FWHM[0].std()\n",
    "FAP2_mean = FAP_FWHM[1].mean()\n",
    "FAP2_std = FAP_FWHM[1].std()\n",
    "FAP_mean = pd.concat([FAP_FWHM[0], FAP_FWHM[1]],ignore_index = True).mean()\n",
    "FAP_std = pd.concat([FAP_FWHM[0], FAP_FWHM[1]],ignore_index = True).std()\n",
    "\n",
    "print('Control1 sigma mean +/- std')\n",
    "print(f'{C1_mean:.2f}', ' +/- ', f'{C1_std:.2f}')\n",
    "print('Control2 sigma mean +/- std')\n",
    "print(f'{C2_mean:.2f}', ' +/- ', f'{C2_std:.2f}')\n",
    "print('Control sigma mean +/- std')\n",
    "print(f'{C_mean:.2f}', ' +/- ', f'{C_std:.2f}')\n",
    "print('Glu1 sigma mean +/- std')\n",
    "print(f'{Glu1_mean:.2f}', ' +/- ', f'{Glu1_std:.2f}')\n",
    "print('Glu2 sigma mean +/- std')\n",
    "print(f'{Glu2_mean:.2f}', ' +/- ', f'{Glu2_std:.2f}')\n",
    "print('Glu sigma mean +/- std')\n",
    "print(f'{Glu_mean:.2f}', ' +/- ', f'{Glu_std:.2f}')\n",
    "print('FAP1 sigma mean +/- std')\n",
    "print(f'{FAP1_mean:.2f}', ' +/- ', f'{FAP1_std:.2f}')\n",
    "print('FAP2 sigma mean +/- std')\n",
    "print(f'{FAP2_mean:.2f}', ' +/- ', f'{FAP2_std:.2f}')\n",
    "print('FAP sigma mean +/- std')\n",
    "print(f'{FAP_mean:.2f}', ' +/- ', f'{FAP_std:.2f}')"
   ]
  },
  {
   "cell_type": "markdown",
   "id": "08acd6dd-9a55-48eb-8db1-6f5ab6ed3363",
   "metadata": {
    "jp-MarkdownHeadingCollapsed": true,
    "tags": []
   },
   "source": [
    "### Old method folder loading function"
   ]
  },
  {
   "cell_type": "code",
   "execution_count": null,
   "id": "5e602950-e233-4ba0-bc54-c9b6c52b8ed1",
   "metadata": {},
   "outputs": [],
   "source": [
    "#OLD METHOD: For each classifier, list all the .csv files in the Tstorm folder\n",
    "folder_paths = C_folders #list with all folders that have control data\n",
    "file_type = '.csv'\n",
    "\n",
    "\n",
    "C_subfolders = []\n",
    "C_TStormResults_all = []\n",
    "\n",
    "for folder_path in folder_paths:\n",
    "    folder_path = folder_path+\"TStorm\"\n",
    "    files_and_subfolders = os.listdir(folder_path)\n",
    "    #subfolders should list the different classifiers and/or T\n",
    "    subfolders = [file for file in files_and_subfolders if os.path.isdir(os.path.join(folder_path, file))]\n",
    "    print(subfolders)\n",
    "    C_subfolders = C_subfolders + [subfolders] #list of lists of subfolders for each Control data folder\n",
    "    C_TStormResults = []\n",
    "# Use a list comprehension to filter out files that do not match the file type\n",
    "    for subfolder in subfolders:\n",
    "        files = os.listdir(os.path.join(folder_path, subfolder))\n",
    "        #print(files)\n",
    "        match_files = [file for file in files if file.endswith(file_type)]\n",
    "# Print the list of matching files\n",
    "        #print(match_files)\n",
    "        C_TStorm_Temp = []\n",
    "\n",
    "        for file in match_files:\n",
    "            temp = pd.read_csv(os.path.join(folder_path, subfolder, file))\n",
    "            #print(temp.info())\n",
    "            C_TStorm_Temp = C_TStorm_Temp + [temp] #list of databases for subfolder\n",
    "        C_TStormResults = C_TStormResults +[C_TStorm_Temp]  #list of lists of pandas databases with TStorm results for each\n",
    "    C_TStormResults_all = C_TStormResults_all + [C_TStormResults]\n",
    "\n",
    "#print(C_TStormResults_all[0][0][5])\n",
    "\n",
    "\n",
    "                                                         \n",
    "            \n",
    "            \n"
   ]
  },
  {
   "cell_type": "markdown",
   "id": "f29dad7d-61e6-4428-8c7b-7c1d5085a081",
   "metadata": {
    "jp-MarkdownHeadingCollapsed": true,
    "tags": []
   },
   "source": [
    "## Load Data from OLD 2 Color STED Below"
   ]
  },
  {
   "cell_type": "code",
   "execution_count": 137,
   "id": "0612aa43-5a2d-4727-bc90-aa86b6c4b073",
   "metadata": {},
   "outputs": [],
   "source": [
    "df_4AP_4mM_1 = pd.read_csv('/Users/Stephanie/Library/CloudStorage/OneDrive-TheUniversityofColoradoDenver/STED_FultonR_final_20210409/STED_deconv_10iter_seg1_TStorm1/4AP_4mM_1_deconv_10_TStorm1.csv')\n",
    "df_4AP_4mM_2 = pd.read_csv('/Users/Stephanie/Library/CloudStorage/OneDrive-TheUniversityofColoradoDenver/STED_FultonR_final_20210409/STED_deconv_10iter_seg1_TStorm1/4AP_4mM_2_deconv_10_TStorm1.csv')\n",
    "df_4AP_4mM_3 = pd.read_csv('/Users/Stephanie/Library/CloudStorage/OneDrive-TheUniversityofColoradoDenver/STED_FultonR_final_20210409/STED_deconv_10iter_seg1_TStorm1/4AP_4mM_3_deconv_10_TStorm1.csv')\n",
    "df_4AP_4mM_4 = pd.read_csv('/Users/Stephanie/Library/CloudStorage/OneDrive-TheUniversityofColoradoDenver/STED_FultonR_final_20210409/STED_deconv_10iter_seg1_TStorm1/4AP_4mM_4_deconv_10_TStorm1.csv')\n",
    "df_4AP_4mM_5 = pd.read_csv('/Users/Stephanie/Library/CloudStorage/OneDrive-TheUniversityofColoradoDenver/STED_FultonR_final_20210409/STED_deconv_10iter_seg1_TStorm1/4AP_4mM_5_deconv_10_TStorm1.csv')"
   ]
  },
  {
   "cell_type": "code",
   "execution_count": 139,
   "id": "8e187e48-63e2-46a8-a91c-230d2f6c195f",
   "metadata": {},
   "outputs": [],
   "source": [
    "df_4AP_control_1 = pd.read_csv('/Users/Stephanie/Library/CloudStorage/OneDrive-TheUniversityofColoradoDenver/STED_FultonR_final_20210409/STED_deconv_10iter_seg1_TStorm1/4AP_control_1_deconv_10_TStorm1.csv')\n",
    "df_4AP_control_2 = pd.read_csv('/Users/Stephanie/Library/CloudStorage/OneDrive-TheUniversityofColoradoDenver/STED_FultonR_final_20210409/STED_deconv_10iter_seg1_TStorm1/4AP_control_2_deconv_10_TStorm1.csv')\n",
    "df_4AP_control_3 = pd.read_csv('/Users/Stephanie/Library/CloudStorage/OneDrive-TheUniversityofColoradoDenver/STED_FultonR_final_20210409/STED_deconv_10iter_seg1_TStorm1/4AP_control_3_deconv_10_TStorm1.csv')\n",
    "df_4AP_control_4 = pd.read_csv('/Users/Stephanie/Library/CloudStorage/OneDrive-TheUniversityofColoradoDenver/STED_FultonR_final_20210409/STED_deconv_10iter_seg1_TStorm1/4AP_control_4_deconv_10_TStorm1.csv')\n",
    "df_4AP_control_5 = pd.read_csv('/Users/Stephanie/Library/CloudStorage/OneDrive-TheUniversityofColoradoDenver/STED_FultonR_final_20210409/STED_deconv_10iter_seg1_TStorm1/4AP_control_5_deconv_10_TStorm1.csv')"
   ]
  },
  {
   "cell_type": "code",
   "execution_count": 141,
   "id": "1b3d67e7-bef2-4e3a-a012-c771a657499e",
   "metadata": {},
   "outputs": [],
   "source": [
    "df_glutamate_0p1uM_1 = pd.read_csv('/Users/Stephanie/Library/CloudStorage/OneDrive-TheUniversityofColoradoDenver/STED_FultonR_final_20210409/STED_deconv_10iter_seg1_TStorm1/glutamate_0p1uM_1_deconv_10_TStorm1.csv')\n",
    "df_glutamate_0p1uM_2 = pd.read_csv('/Users/Stephanie/Library/CloudStorage/OneDrive-TheUniversityofColoradoDenver/STED_FultonR_final_20210409/STED_deconv_10iter_seg1_TStorm1/glutamate_0p1uM_2_deconv_10_TStorm1.csv')\n",
    "df_glutamate_0p1uM_3 = pd.read_csv('/Users/Stephanie/Library/CloudStorage/OneDrive-TheUniversityofColoradoDenver/STED_FultonR_final_20210409/STED_deconv_10iter_seg1_TStorm1/glutamate_0p1uM_3_deconv_10_TStorm1.csv')\n",
    "df_glutamate_0p1uM_4 = pd.read_csv('/Users/Stephanie/Library/CloudStorage/OneDrive-TheUniversityofColoradoDenver/STED_FultonR_final_20210409/STED_deconv_10iter_seg1_TStorm1/glutamate_0p1uM_4_deconv_10_TStorm1.csv')\n",
    "df_glutamate_0p1uM_5 = pd.read_csv('/Users/Stephanie/Library/CloudStorage/OneDrive-TheUniversityofColoradoDenver/STED_FultonR_final_20210409/STED_deconv_10iter_seg1_TStorm1/glutamate_0p1uM_5_deconv_10_TStorm1.csv')"
   ]
  },
  {
   "cell_type": "code",
   "execution_count": 143,
   "id": "c65c87fb-abfa-4002-84d6-3eada91fe56c",
   "metadata": {},
   "outputs": [],
   "source": [
    "df_glutamate_control_1 = pd.read_csv('/Users/Stephanie/Library/CloudStorage/OneDrive-TheUniversityofColoradoDenver/STED_FultonR_final_20210409/STED_deconv_10iter_seg1_TStorm1/glutamate_control_1_deconv_10_TStorm1.csv')\n",
    "df_glutamate_control_2 = pd.read_csv('/Users/Stephanie/Library/CloudStorage/OneDrive-TheUniversityofColoradoDenver/STED_FultonR_final_20210409/STED_deconv_10iter_seg1_TStorm1/glutamate_control_2_deconv_10_TStorm1.csv')\n",
    "df_glutamate_control_3 = pd.read_csv('/Users/Stephanie/Library/CloudStorage/OneDrive-TheUniversityofColoradoDenver/STED_FultonR_final_20210409/STED_deconv_10iter_seg1_TStorm1/glutamate_control_3_deconv_10_TStorm1.csv')\n",
    "df_glutamate_control_4 = pd.read_csv('/Users/Stephanie/Library/CloudStorage/OneDrive-TheUniversityofColoradoDenver/STED_FultonR_final_20210409/STED_deconv_10iter_seg1_TStorm1/glutamate_control_4_deconv_10_TStorm1.csv')\n",
    "df_glutamate_control_5 = pd.read_csv('/Users/Stephanie/Library/CloudStorage/OneDrive-TheUniversityofColoradoDenver/STED_FultonR_final_20210409/STED_deconv_10iter_seg1_TStorm1/glutamate_control_5_deconv_10_TStorm1.csv')"
   ]
  },
  {
   "cell_type": "code",
   "execution_count": null,
   "id": "24446951-5be7-453a-8b7a-5019ff84d1fb",
   "metadata": {},
   "outputs": [],
   "source": [
    "df_glutamate_control_1.head()"
   ]
  },
  {
   "cell_type": "markdown",
   "id": "de47a436-664d-43cb-858f-82ad4fdd45a8",
   "metadata": {
    "jp-MarkdownHeadingCollapsed": true,
    "tags": []
   },
   "source": [
    "## OLD STED: Take mean of Thunderstorm Fit values for FWHM\n",
    "* STEDYCON Analysis: Stop here Jan 18-skip to Density analysis\n",
    "* For each type of sample, and for each imaging session, and for each analysis type, find the mean and std of the FWHM for each image\n",
    "* Start with keeping the images separate to see if they look very different, since lots of heterogeneity is seen in the different cells in the paper Ruth sent.  \n",
    "* Probably need a lot more data to see this with statistical relevance if it's even an effect in our cells though."
   ]
  },
  {
   "cell_type": "markdown",
   "id": "58d17e59-b3dc-4252-863d-edd62d1da20a",
   "metadata": {},
   "source": [
    "###  Starting with Control:"
   ]
  },
  {
   "cell_type": "code",
   "execution_count": null,
   "id": "905cec78-1d74-4676-8057-439e474a2a2c",
   "metadata": {},
   "outputs": [],
   "source": [
    "C_FWHM_mean_all = []\n",
    "C_FWHM_std_all = []\n",
    "C_FWHM_all = []\n",
    "for sample in C_TStormResults_all:\n",
    "    num_images = len(sample[0])\n",
    "    C_FWHM_mean = np.zeros(num_images)\n",
    "    C_FWHM_std = np.zeros(num_images)\n",
    "    C_FWHM_mean_temp = []\n",
    "    C_FWHM_std_temp = []\n",
    "    C_FWHM_temp = []\n",
    "    for analysis in sample:\n",
    "        C_FWHM = analysis[0]['sigma [nm]']\n",
    "        for i in range(num_images):\n",
    "            C_FWHM_mean[i] = analysis[i].mean()['sigma [nm]']\n",
    "            C_FWHM_std[i] = analysis[i].std()['sigma [nm]']\n",
    "            if i!=0:\n",
    "                C_FWHM.append(analysis[i]['sigma [nm]'],ignore_index = True)\n",
    "        C_FWHM_mean_temp = C_FWHM_mean_temp + [C_FWHM_mean]\n",
    "        C_FWHM_std_temp = C_FWHM_std_temp = [C_FWHM_std]\n",
    "        C_FWHM_temp = C_FWHM_temp +[C_FWHM]\n",
    "    C_FWHM_mean_all = C_FWHM_mean_all + [C_FWHM_mean_temp]\n",
    "    C_FWHM_std_all = C_FWHM_std_all +[C_FWHM_std_temp]\n",
    "    C_FWHM_all = C_FWHM_all + [C_FWHM_temp]\n",
    "\n",
    "print(C_FWHM_mean_all[0][0])\n",
    "    "
   ]
  },
  {
   "cell_type": "markdown",
   "id": "7e013c18-c929-4aae-b410-9779be899387",
   "metadata": {},
   "source": [
    "### Glutamate"
   ]
  },
  {
   "cell_type": "code",
   "execution_count": null,
   "id": "b9e75d20-b85a-4c26-af27-39809573c864",
   "metadata": {},
   "outputs": [],
   "source": [
    "Glu_FWHM_mean_all = []\n",
    "Glu_FWHM_std_all = []\n",
    "Glu_FWHM_all = []\n",
    "for sample in Glu_TStormResults_all:\n",
    "    num_images = len(sample[0])\n",
    "    Glu_FWHM_mean = np.zeros(num_images)\n",
    "    Glu_FWHM_std = np.zeros(num_images)\n",
    "    Glu_FWHM_mean_temp = []\n",
    "    Glu_FWHM_std_temp = []\n",
    "    Glu_FWHM_temp = []\n",
    "    for analysis in sample:\n",
    "        Glu_FWHM = analysis[0]['sigma [nm]']\n",
    "        for i in range(num_images):\n",
    "            Glu_FWHM_mean[i] = analysis[i].mean()['sigma [nm]']\n",
    "            Glu_FWHM_std[i] = analysis[i].std()['sigma [nm]']\n",
    "            if i != 0:\n",
    "                Glu_FWHM.append(analysis[i]['sigma [nm]'],ignore_index = True)\n",
    "        Glu_FWHM_mean_temp = Glu_FWHM_mean_temp + [Glu_FWHM_mean]\n",
    "        Glu_FWHM_std_temp = Glu_FWHM_std_temp + [Glu_FWHM_std]\n",
    "        Glu_FWHM_temp = Glu_FWHM_temp + [Glu_FWHM]\n",
    "    Glu_FWHM_mean_all = Glu_FWHM_mean_all + [Glu_FWHM_mean_temp]\n",
    "    Glu_FWHM_std_all = Glu_FWHM_std_all +[Glu_FWHM_std_temp]\n",
    "    Glu_FWHM_all = Glu_FWHM_all +[Glu_FWHM_temp]"
   ]
  },
  {
   "cell_type": "code",
   "execution_count": null,
   "id": "723a4d78-0725-4804-9540-7eb128b3b14a",
   "metadata": {},
   "outputs": [],
   "source": [
    "data = [C_FWHM_mean_all[0][0], Glu_FWHM_mean_all[0][0], Glu_FWHM_mean_all[0][1]]\n",
    "fig1, ax1 = plt.subplots()\n",
    "ax1.set_title('Control Tom20 STEDYCON mean FWHM across images in one session/sample')\n",
    "ax1.set_xlabel('Control')\n",
    "ax1.boxplot(data, labels=['Control','Glu-analysis1','Glu-analysis2'])\n",
    "ax1.set_ylabel('Mean FWHM of fits')\n",
    "plt.show()"
   ]
  },
  {
   "cell_type": "code",
   "execution_count": null,
   "id": "28279ca2-cdb8-4f6f-a150-f87834e2dbf5",
   "metadata": {},
   "outputs": [],
   "source": [
    "data = [result['sigma [nm]'] for result in C_TStormResults_all[0][0]]\n",
    "#data = [df_glutamate_0p1uM_1['sigma [nm]'], df_glutamate_0p1uM_2['sigma [nm]'],df_glutamate_0p1uM_3['sigma [nm]'],df_glutamate_0p1uM_4['sigma [nm]'],df_glutamate_0p1uM_5['sigma [nm]']]\n",
    "fig1, ax1 = plt.subplots()\n",
    "ax1.set_title('Boxplot control Mitos Tom20 FWHM TStorm Fit for images')\n",
    "ax1.set_xlabel('Image #')\n",
    "ax1.boxplot(data)\n",
    "ax1.set_ylabel('Fit FWHM of Tom20 clusters (nm)')\n",
    "plt.show()"
   ]
  },
  {
   "cell_type": "code",
   "execution_count": null,
   "id": "646a74e5-839a-4ce5-ba1c-9308c770df90",
   "metadata": {},
   "outputs": [],
   "source": [
    "data = [result['sigma [nm]'] for result in Glu_TStormResults_all[0][0]]\n",
    "#data = [df_glutamate_0p1uM_1['sigma [nm]'], df_glutamate_0p1uM_2['sigma [nm]'],df_glutamate_0p1uM_3['sigma [nm]'],df_glutamate_0p1uM_4['sigma [nm]'],df_glutamate_0p1uM_5['sigma [nm]']]\n",
    "fig1, ax1 = plt.subplots()\n",
    "ax1.set_title('Boxplot Glutamate Mitos Tom20 FWHM TStorm Fit for images')\n",
    "ax1.set_xlabel('Image #')\n",
    "ax1.boxplot(data)\n",
    "ax1.set_ylabel('Fit FWHM of Tom20 clusters (nm)')\n",
    "plt.show()"
   ]
  },
  {
   "cell_type": "code",
   "execution_count": null,
   "id": "024c1ee2-5471-488f-b46e-61a3144eb9cb",
   "metadata": {},
   "outputs": [],
   "source": [
    "data = [result['sigma [nm]'] for result in Glu_TStormResults_all[0][1]]\n",
    "#data = [df_glutamate_0p1uM_1['sigma [nm]'], df_glutamate_0p1uM_2['sigma [nm]'],df_glutamate_0p1uM_3['sigma [nm]'],df_glutamate_0p1uM_4['sigma [nm]'],df_glutamate_0p1uM_5['sigma [nm]']]\n",
    "fig1, ax1 = plt.subplots()\n",
    "ax1.set_title('Boxplot Glutamate Mitos Tom20 FWHM TStorm Fit for images')\n",
    "ax1.set_xlabel('Image #')\n",
    "ax1.boxplot(data)\n",
    "ax1.set_ylabel('Fit FWHM of Tom20 clusters (nm)')\n",
    "plt.show()"
   ]
  },
  {
   "cell_type": "markdown",
   "id": "de7675aa-788f-4cbe-aa16-245cddb9ed1f",
   "metadata": {},
   "source": [
    "### Now put all the results from each imaging session together and compare control to Glutamate and 4AP"
   ]
  },
  {
   "cell_type": "code",
   "execution_count": null,
   "id": "43123128-8bda-47cb-a2a4-f79af826a220",
   "metadata": {},
   "outputs": [],
   "source": [
    "C1_mean = C_FWHM_all[0][0].mean()\n",
    "C1_std = C_FWHM_all[0][0].std()\n",
    "Glu1_mean = Glu_FWHM_all[0][0].mean()\n",
    "Glu1_std = Glu_FWHM_all[0][0].std()\n",
    "Glu2_mean = Glu_FWHM_all[0][1].mean()\n",
    "Glu2_std = Glu_FWHM_all[0][1].std()\n",
    "\n",
    "print('Control sigma mean +/- std')\n",
    "print(f'{C1_mean:.2f}', ' +/- ', f'{C1_std:.2f}')\n",
    "print('Glutamate analysis 1 sigma mean +/- std')\n",
    "print(f'{Glu1_mean:.2f}', ' +/- ', f'{Glu1_std:.2f}')\n",
    "print('Glutamate analysis 2 sigma mean +/- std')\n",
    "print(f'{Glu2_mean:.2f}', ' +/- ', f'{Glu2_std:.2f}')"
   ]
  },
  {
   "cell_type": "markdown",
   "id": "e96c740b-dbc6-41d2-ae1e-d9656e7e6145",
   "metadata": {},
   "source": [
    "Now do a boxplot for the data I currently have analyzed with Thunderstorm, comparing Mask types"
   ]
  },
  {
   "cell_type": "code",
   "execution_count": null,
   "id": "1ae3a436-fab1-4bd6-a469-44b6b52ce5b7",
   "metadata": {},
   "outputs": [],
   "source": [
    "data = [C_FWHM_all[0][0], Glu_FWHM_all[0][0],Glu_FWHM_all[0][1]]\n",
    "fig1, ax1 = plt.subplots()\n",
    "ax1.set_title('Comparing conditions and analysis, combining all ROIs')\n",
    "ax1.boxplot(data, labels=['Control','Glu A1','Glu A2'])\n",
    "ax1.set_ylim([0,100])\n",
    "ax1.set_ylabel('Fit FWHM of Tom20 clusters (nm)')\n",
    "plt.show()"
   ]
  },
  {
   "cell_type": "markdown",
   "id": "a076a9c6-9087-453d-b8a2-1da5a93ea1ef",
   "metadata": {
    "jp-MarkdownHeadingCollapsed": true,
    "tags": []
   },
   "source": [
    "## OLD STED data leave here in case I need it for comparison"
   ]
  },
  {
   "cell_type": "code",
   "execution_count": null,
   "id": "a6fd1406-bd67-4dc0-869e-1f4bcb63df65",
   "metadata": {
    "tags": []
   },
   "outputs": [],
   "source": [
    "df_4AP_4mM_1_sigma_mean = df_4AP_4mM_1.mean()['sigma [nm]']\n",
    "df_4AP_4mM_1_sigma_std = df_4AP_4mM_1.std()['sigma [nm]']\n",
    "df_4AP_4mM_2_sigma_mean = df_4AP_4mM_2.mean()['sigma [nm]']\n",
    "df_4AP_4mM_2_sigma_std = df_4AP_4mM_2.std()['sigma [nm]']\n",
    "df_4AP_4mM_3_sigma_mean = df_4AP_4mM_3.mean()['sigma [nm]']\n",
    "df_4AP_4mM_3_sigma_std = df_4AP_4mM_3.std()['sigma [nm]']\n",
    "df_4AP_4mM_4_sigma_mean = df_4AP_4mM_4.mean()['sigma [nm]']\n",
    "df_4AP_4mM_4_sigma_std = df_4AP_4mM_4.std()['sigma [nm]']\n",
    "df_4AP_4mM_5_sigma_mean = df_4AP_4mM_5.mean()['sigma [nm]']\n",
    "df_4AP_4mM_5_sigma_std = df_4AP_4mM_5.std()['sigma [nm]']\n",
    "print(f'{df_4AP_4mM_1_sigma_mean:.1f}', ' +/- ', f'{df_4AP_4mM_1_sigma_std:.1f}')\n",
    "print(f'{df_4AP_4mM_2_sigma_mean:.1f}', ' +/- ', f'{df_4AP_4mM_2_sigma_std:.1f}')\n",
    "print(f'{df_4AP_4mM_3_sigma_mean:.1f}', ' +/- ', f'{df_4AP_4mM_3_sigma_std:.1f}')\n",
    "print(f'{df_4AP_4mM_4_sigma_mean:.1f}', ' +/- ', f'{df_4AP_4mM_4_sigma_std:.1f}')\n",
    "print(f'{df_4AP_4mM_5_sigma_mean:.1f}', ' +/- ', f'{df_4AP_4mM_5_sigma_std:.1f}')"
   ]
  },
  {
   "cell_type": "markdown",
   "id": "b3866b8f-ffed-4c05-a3ed-fb6f669463b4",
   "metadata": {},
   "source": [
    "### 4AP Boxplots"
   ]
  },
  {
   "cell_type": "code",
   "execution_count": null,
   "id": "aa06ad1c-7d75-4aa8-98d7-90cca7bf5a4b",
   "metadata": {},
   "outputs": [],
   "source": [
    "data = [df_4AP_4mM_1['sigma [nm]'], df_4AP_4mM_2['sigma [nm]'],df_4AP_4mM_3['sigma [nm]'],df_4AP_4mM_4['sigma [nm]'],df_4AP_4mM_5['sigma [nm]']]\n",
    "fig1, ax1 = plt.subplots()\n",
    "ax1.set_title('4AP 4mM Tom20')\n",
    "ax1.set_xlabel('ROI #')\n",
    "ax1.boxplot(data)\n",
    "ax1.set_ylabel('Fit FWHM of Tom20 clusters (nm)')\n",
    "plt.show()"
   ]
  },
  {
   "cell_type": "markdown",
   "id": "47d22445-6df3-429d-b7de-ac8c2bd3df54",
   "metadata": {},
   "source": [
    "### 4AP Controls Mean FWHM of Thunderstorm fits"
   ]
  },
  {
   "cell_type": "code",
   "execution_count": null,
   "id": "35ebcb39-14f9-443b-8b89-65e8a534dcc9",
   "metadata": {},
   "outputs": [],
   "source": [
    "df_4AP_control_1_sigma_mean = df_4AP_control_1.mean()['sigma [nm]']\n",
    "df_4AP_control_1_sigma_std = df_4AP_control_1.std()['sigma [nm]']\n",
    "df_4AP_control_2_sigma_mean = df_4AP_control_2.mean()['sigma [nm]']\n",
    "df_4AP_control_2_sigma_std = df_4AP_control_2.std()['sigma [nm]']\n",
    "df_4AP_control_3_sigma_mean = df_4AP_control_3.mean()['sigma [nm]']\n",
    "df_4AP_control_3_sigma_std = df_4AP_control_3.std()['sigma [nm]']\n",
    "df_4AP_control_4_sigma_mean = df_4AP_control_4.mean()['sigma [nm]']\n",
    "df_4AP_control_4_sigma_std = df_4AP_control_4.std()['sigma [nm]']\n",
    "df_4AP_control_5_sigma_mean = df_4AP_control_5.mean()['sigma [nm]']\n",
    "df_4AP_control_5_sigma_std = df_4AP_control_5.std()['sigma [nm]']\n",
    "print(f'{df_4AP_control_1_sigma_mean:.1f}', ' +/- ', f'{df_4AP_control_1_sigma_std:.1f}')\n",
    "print(f'{df_4AP_control_2_sigma_mean:.1f}', ' +/- ', f'{df_4AP_control_2_sigma_std:.1f}')\n",
    "print(f'{df_4AP_control_3_sigma_mean:.1f}', ' +/- ', f'{df_4AP_control_3_sigma_std:.1f}')\n",
    "print(f'{df_4AP_control_4_sigma_mean:.1f}', ' +/- ', f'{df_4AP_control_4_sigma_std:.1f}')\n",
    "print(f'{df_4AP_control_5_sigma_mean:.1f}', ' +/- ', f'{df_4AP_control_5_sigma_std:.1f}')"
   ]
  },
  {
   "cell_type": "markdown",
   "id": "61204ccb-26f7-46f7-bc55-ded38fb3795b",
   "metadata": {},
   "source": [
    "### 4AP Controls Boxplot"
   ]
  },
  {
   "cell_type": "code",
   "execution_count": null,
   "id": "4c18f305-47f4-4302-81ae-f57c438e6ed5",
   "metadata": {},
   "outputs": [],
   "source": [
    "data = [df_4AP_control_1['sigma [nm]'], df_4AP_control_2['sigma [nm]'],df_4AP_control_3['sigma [nm]'],df_4AP_control_4['sigma [nm]'],df_4AP_control_5['sigma [nm]']]\n",
    "fig1, ax1 = plt.subplots()\n",
    "ax1.set_title('4AP Control  Tom20')\n",
    "ax1.set_xlabel('ROI #')\n",
    "ax1.boxplot(data)\n",
    "ax1.set_ylabel('Fit FWHM of Tom20 clusters (nm)')\n",
    "plt.show()"
   ]
  },
  {
   "cell_type": "markdown",
   "id": "8c083d72-dc01-4200-bcbc-46610d3e1df9",
   "metadata": {},
   "source": [
    "### Glutamate Mean FWHM of Thunderstorm fits"
   ]
  },
  {
   "cell_type": "code",
   "execution_count": null,
   "id": "710f1aad-dbce-4bd2-b56a-8476957a2b7e",
   "metadata": {},
   "outputs": [],
   "source": [
    "df_glutamate_0p1uM_1_sigma_mean = df_glutamate_0p1uM_1.mean()['sigma [nm]']\n",
    "df_glutamate_0p1uM_1_sigma_std = df_glutamate_0p1uM_1.std()['sigma [nm]']\n",
    "df_glutamate_0p1uM_2_sigma_mean = df_glutamate_0p1uM_2.mean()['sigma [nm]']\n",
    "df_glutamate_0p1uM_2_sigma_std = df_glutamate_0p1uM_2.std()['sigma [nm]']\n",
    "df_glutamate_0p1uM_3_sigma_mean = df_glutamate_0p1uM_3.mean()['sigma [nm]']\n",
    "df_glutamate_0p1uM_3_sigma_std = df_glutamate_0p1uM_3.std()['sigma [nm]']\n",
    "df_glutamate_0p1uM_4_sigma_mean = df_glutamate_0p1uM_4.mean()['sigma [nm]']\n",
    "df_glutamate_0p1uM_4_sigma_std = df_glutamate_0p1uM_4.std()['sigma [nm]']\n",
    "df_glutamate_0p1uM_5_sigma_mean = df_glutamate_0p1uM_5.mean()['sigma [nm]']\n",
    "df_glutamate_0p1uM_5_sigma_std = df_glutamate_0p1uM_5.std()['sigma [nm]']\n",
    "print(f'{df_glutamate_0p1uM_1_sigma_mean:.1f}', ' +/- ', f'{df_glutamate_0p1uM_1_sigma_std:.1f}')\n",
    "print(f'{df_glutamate_0p1uM_2_sigma_mean:.1f}', ' +/- ', f'{df_glutamate_0p1uM_2_sigma_std:.1f}')\n",
    "print(f'{df_glutamate_0p1uM_3_sigma_mean:.1f}', ' +/- ', f'{df_glutamate_0p1uM_3_sigma_std:.1f}')\n",
    "print(f'{df_glutamate_0p1uM_4_sigma_mean:.1f}', ' +/- ', f'{df_glutamate_0p1uM_4_sigma_std:.1f}')\n",
    "print(f'{df_glutamate_0p1uM_5_sigma_mean:.1f}', ' +/- ', f'{df_glutamate_0p1uM_5_sigma_std:.1f}')"
   ]
  },
  {
   "cell_type": "markdown",
   "id": "ba13438c-bc35-44e5-8ae9-dba6d697ea92",
   "metadata": {},
   "source": [
    "### Glutamate Boxplots"
   ]
  },
  {
   "cell_type": "code",
   "execution_count": null,
   "id": "b332ce0b-325c-4f27-9e43-0cafd9790e69",
   "metadata": {},
   "outputs": [],
   "source": [
    "data = [df_glutamate_0p1uM_1['sigma [nm]'], df_glutamate_0p1uM_2['sigma [nm]'],df_glutamate_0p1uM_3['sigma [nm]'],df_glutamate_0p1uM_4['sigma [nm]'],df_glutamate_0p1uM_5['sigma [nm]']]\n",
    "fig1, ax1 = plt.subplots()\n",
    "ax1.set_title('Glutamate 0.1 um Tom20')\n",
    "ax1.set_xlabel('ROI #')\n",
    "ax1.boxplot(data)\n",
    "ax1.set_ylabel('Fit FWHM of Tom20 clusters (nm)')\n",
    "plt.show()"
   ]
  },
  {
   "cell_type": "markdown",
   "id": "b1a54381-eb67-4cf7-83a1-8669f9049fd0",
   "metadata": {},
   "source": [
    "###  Glutmate Controls Mean FWHM of Thunderstorm fits"
   ]
  },
  {
   "cell_type": "code",
   "execution_count": null,
   "id": "bc590830-c96a-4831-9c82-cc4122889053",
   "metadata": {},
   "outputs": [],
   "source": [
    "df_glutamate_control_1_sigma_mean = df_glutamate_control_1.mean()['sigma [nm]']\n",
    "df_glutamate_control_1_sigma_std = df_glutamate_control_1.std()['sigma [nm]']\n",
    "df_glutamate_control_2_sigma_mean = df_glutamate_control_2.mean()['sigma [nm]']\n",
    "df_glutamate_control_2_sigma_std = df_glutamate_control_2.std()['sigma [nm]']\n",
    "df_glutamate_control_3_sigma_mean = df_glutamate_control_3.mean()['sigma [nm]']\n",
    "df_glutamate_control_3_sigma_std = df_glutamate_control_3.std()['sigma [nm]']\n",
    "df_glutamate_control_4_sigma_mean = df_glutamate_control_4.mean()['sigma [nm]']\n",
    "df_glutamate_control_4_sigma_std = df_glutamate_control_4.std()['sigma [nm]']\n",
    "df_glutamate_control_5_sigma_mean = df_glutamate_control_5.mean()['sigma [nm]']\n",
    "df_glutamate_control_5_sigma_std = df_glutamate_control_5.std()['sigma [nm]']\n",
    "print(f'{df_glutamate_control_1_sigma_mean:.1f}', ' +/- ', f'{df_glutamate_control_1_sigma_std:.1f}')\n",
    "print(f'{df_glutamate_control_2_sigma_mean:.1f}', ' +/- ', f'{df_glutamate_control_2_sigma_std:.1f}')\n",
    "print(f'{df_glutamate_control_3_sigma_mean:.1f}', ' +/- ', f'{df_glutamate_control_3_sigma_std:.1f}')\n",
    "print(f'{df_glutamate_control_4_sigma_mean:.1f}', ' +/- ', f'{df_glutamate_control_4_sigma_std:.1f}')\n",
    "print(f'{df_glutamate_control_5_sigma_mean:.1f}', ' +/- ', f'{df_glutamate_control_5_sigma_std:.1f}')"
   ]
  },
  {
   "cell_type": "markdown",
   "id": "02f4c4c5-8457-40da-a6f6-fd22e5a90a49",
   "metadata": {},
   "source": [
    "### Glutamate Controls Boxplot"
   ]
  },
  {
   "cell_type": "code",
   "execution_count": null,
   "id": "3e1ab1c8-2104-4aef-9fd0-6af89510fd83",
   "metadata": {},
   "outputs": [],
   "source": [
    "data = [df_glutamate_control_1['sigma [nm]'], df_glutamate_control_2['sigma [nm]'],df_glutamate_control_3['sigma [nm]'],df_glutamate_control_4['sigma [nm]'],df_glutamate_control_5['sigma [nm]']]\n",
    "fig1, ax1 = plt.subplots()\n",
    "ax1.set_title('Glutamate Control Tom20')\n",
    "ax1.set_xlabel('ROI #')\n",
    "ax1.boxplot(data)\n",
    "ax1.set_ylabel('Fit FWHM of Tom20 clusters (nm)')\n",
    "plt.show()"
   ]
  },
  {
   "cell_type": "markdown",
   "id": "c6724942-1ded-4279-83c1-513f90de3cfc",
   "metadata": {
    "tags": []
   },
   "source": [
    "## OLD STED: Now combine the data from each condition."
   ]
  },
  {
   "cell_type": "code",
   "execution_count": null,
   "id": "e232d4b6-d98a-424d-8095-ee73588a17ae",
   "metadata": {},
   "outputs": [],
   "source": [
    "df_4AP_4mM = df_4AP_4mM_1.append(df_4AP_4mM_2, sort=False, ignore_index=True)\n",
    "df_4AP_4mM = df_4AP_4mM.append(df_4AP_4mM_3, sort=False, ignore_index=True)\n",
    "df_4AP_4mM = df_4AP_4mM.append(df_4AP_4mM_4, sort=False, ignore_index=True)\n",
    "df_4AP_4mM = df_4AP_4mM.append(df_4AP_4mM_5, sort=False, ignore_index=True)\n",
    "df_4AP_4mM_sigma_mean = df_4AP_4mM.mean()['sigma [nm]']\n",
    "df_4AP_4mM_sigma_std = df_4AP_4mM.std()['sigma [nm]']\n",
    "print('4AP 4mM sigma mean +/- std')\n",
    "print(f'{df_4AP_4mM_sigma_mean:.1f}', ' +/- ', f'{df_4AP_4mM_sigma_std:.1f}')"
   ]
  },
  {
   "cell_type": "code",
   "execution_count": null,
   "id": "63fa833f-d308-43b1-9f3f-63e4515ea252",
   "metadata": {},
   "outputs": [],
   "source": [
    "df_4AP_control = df_4AP_control_1.append(df_4AP_control_2, sort=False, ignore_index=True)\n",
    "df_4AP_control = df_4AP_control.append(df_4AP_control_3, sort=False, ignore_index=True)\n",
    "df_4AP_control = df_4AP_control.append(df_4AP_control_4, sort=False, ignore_index=True)\n",
    "df_4AP_control = df_4AP_control.append(df_4AP_control_5, sort=False, ignore_index=True)\n",
    "df_4AP_control_sigma_mean = df_4AP_control.mean()['sigma [nm]']\n",
    "df_4AP_control_sigma_std = df_4AP_control.std()['sigma [nm]']\n",
    "print('4AP Control sigma mean +/- std')\n",
    "print(f'{df_4AP_control_sigma_mean:.1f}', ' +/- ', f'{df_4AP_control_sigma_std:.1f}')"
   ]
  },
  {
   "cell_type": "code",
   "execution_count": null,
   "id": "834a0516-7521-403d-8219-347ab771ea1a",
   "metadata": {},
   "outputs": [],
   "source": [
    "df_glutamate_0p1uM = df_glutamate_0p1uM_1.append(df_glutamate_0p1uM_2, sort=False, ignore_index=True)\n",
    "df_glutamate_0p1uM = df_glutamate_0p1uM.append(df_glutamate_0p1uM_3, sort=False, ignore_index=True)\n",
    "df_glutamate_0p1uM = df_glutamate_0p1uM.append(df_glutamate_0p1uM_4, sort=False, ignore_index=True)\n",
    "df_glutamate_0p1uM = df_glutamate_0p1uM.append(df_glutamate_0p1uM_5, sort=False, ignore_index=True)\n",
    "df_glutamate_0p1uM_sigma_mean = df_glutamate_0p1uM.mean()['sigma [nm]']\n",
    "df_glutamate_0p1uM_sigma_std = df_glutamate_0p1uM.std()['sigma [nm]']\n",
    "print('Glutamate 0.1 uM sigma mean +/- std')\n",
    "print(f'{df_glutamate_0p1uM_sigma_mean:.1f}', ' +/- ', f'{df_glutamate_0p1uM_sigma_std:.1f}')"
   ]
  },
  {
   "cell_type": "code",
   "execution_count": null,
   "id": "07967d08-5729-4dd7-83c1-d26de4b8bbf8",
   "metadata": {},
   "outputs": [],
   "source": [
    "df_glutamate_control = df_glutamate_control_1.append(df_glutamate_control_2, sort=False, ignore_index=True)\n",
    "df_glutamate_control = df_glutamate_control.append(df_glutamate_control_3, sort=False, ignore_index=True)\n",
    "df_glutamate_control = df_glutamate_control.append(df_glutamate_control_4, sort=False, ignore_index=True)\n",
    "df_glutamate_control = df_glutamate_control.append(df_glutamate_control_5, sort=False, ignore_index=True)\n",
    "df_glutamate_control_sigma_mean = df_glutamate_control.mean()['sigma [nm]']\n",
    "df_glutamate_control_sigma_std = df_glutamate_control.std()['sigma [nm]']\n",
    "print('Glutamate Control sigma mean +/- std')\n",
    "print(f'{df_glutamate_control_sigma_mean:.1f}', ' +/- ', f'{df_glutamate_control_sigma_std:.1f}')"
   ]
  },
  {
   "cell_type": "code",
   "execution_count": null,
   "id": "c1b5840b-7d3d-4b8d-ba4e-10dc3ae9fe92",
   "metadata": {},
   "outputs": [],
   "source": [
    "data = [df_4AP_4mM['sigma [nm]'], df_4AP_control['sigma [nm]'],df_glutamate_0p1uM['sigma [nm]'],df_glutamate_control['sigma [nm]']]\n",
    "fig1, ax1 = plt.subplots()\n",
    "ax1.set_title('Comparing conditions, combining all ROIs')\n",
    "ax1.boxplot(data, labels=['4AP','4AP control','glutamate','glutamate control'])\n",
    "ax1.set_ylim([0,100])\n",
    "ax1.set_ylabel('Fit FWHM of Tom20 clusters (nm)')\n",
    "plt.show()"
   ]
  },
  {
   "cell_type": "markdown",
   "id": "80c8f055-0986-4c11-99a8-3660c6e1edb8",
   "metadata": {},
   "source": [
    "# Analysis 2: Tom20 Spot Density"
   ]
  },
  {
   "cell_type": "markdown",
   "id": "52c2092b-9e4c-4b4e-b1af-ac5134f9f9ad",
   "metadata": {
    "jp-MarkdownHeadingCollapsed": true,
    "tags": []
   },
   "source": [
    "## STEDYCON DATA: Find Spot density using Mitos masks\n",
    "* Find the total area of mitos in spots per pixel of mitos.\n",
    "* Scale to spots/micron^2 by dividing by 1 pixel/(.020 um)^2\n",
    "* Size of the pixels in STEDYCON data is 25 nm\n",
    "* Take total length of dataframe with TStorm output and divide by total number of pixels in mask, divided by pixel size squared"
   ]
  },
  {
   "cell_type": "code",
   "execution_count": 115,
   "id": "1c6d96fc-0dd0-43b6-8535-bc407cd9fd3e",
   "metadata": {
    "tags": []
   },
   "outputs": [
    {
     "name": "stdout",
     "output_type": "stream",
     "text": [
      "num images in this session:  12\n",
      "density =  [12.61475192 14.87772452 13.84355765 13.97267519 14.41514386 13.63669846\n",
      " 14.55706277 11.07160634 15.00148845 12.53581037 13.18801675 13.14264271]\n",
      "num images in this session:  6\n",
      "density =  [20.87064993 22.07655199 18.22950837 20.91280404 21.55600107 20.10305708]\n",
      "num images in this session:  7\n",
      "density =  [18.15522307 18.06039386 16.92465578 17.39481792 16.28904217 17.42769213\n",
      " 16.3540923 ]\n",
      "num images in this session:  12\n",
      "density =  [14.66773359 13.67560103 14.67696394 13.93823652 17.04678681 14.1803701\n",
      " 15.74599037 13.21711029 14.29898354 18.17685812 13.09301444 14.15763527]\n",
      "num images in this session:  11\n",
      "density =  [26.31638925 21.04063596 23.12873566 19.80716901 24.21720902 23.72788138\n",
      " 21.25240017 35.24344495 18.02315976 18.48532054 16.84165668]\n",
      "num images in this session:  9\n",
      "density =  [26.80726493 21.93335533 22.75928858 24.40342283 30.37585312 23.15572701\n",
      " 21.99896344 31.52215531 21.87701209]\n",
      "num images in this session:  12\n",
      "density =  [19.15900752 20.86812395 22.34347018 21.88923152 19.33774706 19.6226041\n",
      " 23.89943532 21.50272041 42.16586733 20.92826182 20.8332292  19.53523073]\n",
      "12.614751922062364\n",
      "14.66773359138024\n",
      "26.807264929244457\n"
     ]
    }
   ],
   "source": [
    "def calc_density(TStorms,Masks):\n",
    "    density_all = []\n",
    "    for sesh_TStorms, sesh_Masks in zip(TStorms, Masks):\n",
    "            num_images = len(sesh_TStorms)\n",
    "            print('num images in this session: ', num_images)\n",
    "            density = np.zeros(num_images)\n",
    "            for i in range(num_images):\n",
    "                density[i] = (sesh_TStorms[i].shape[0]/np.sum(sesh_Masks[i]/255))/(0.025**2)\n",
    "            print('density = ', density)\n",
    "            density_all = density_all + [density]\n",
    "    return density_all\n",
    "C_density = calc_density(C_TStorm, C_masks)\n",
    "Glu_density = calc_density(Glu_TStorm,Glu_masks)\n",
    "FAP_density = calc_density(FAP_TStorm,FAP_masks)\n",
    "\n",
    "print(C_density[0][0])\n",
    "print(Glu_density[0][0])\n",
    "print(FAP_density[0][0])"
   ]
  },
  {
   "cell_type": "markdown",
   "id": "ad1b394f-bdb6-4a55-93a2-ac1a5bb5b84e",
   "metadata": {},
   "source": [
    "### SAVE: Density results into Results Folder for Statistics Analysis by Emily"
   ]
  },
  {
   "cell_type": "code",
   "execution_count": 119,
   "id": "8b0b2fb0-5aee-40f6-b0c9-22316101c85d",
   "metadata": {
    "tags": []
   },
   "outputs": [],
   "source": [
    "np.savetxt(C1_folder + 'Results/C1_Density.csv', np.array(C_density[0]), delimiter=',')\n",
    "np.savetxt(C2_folder + 'Results/C2_Density1', np.array(C_density[1]), delimiter=',')\n",
    "np.savetxt(C2_folder2 + 'Results/C2_Density2', np.array(C_density[2]),delimiter=',')\n",
    "np.savetxt(C2_folder2 + 'Results/C2_Density', np.concatenate((C_density[1],C_density[2])), delimiter=',')\n",
    "np.savetxt(Glu1_folder + 'Results/Glu1_Density.csv', np.array(Glu_density[0]), delimiter=',')\n",
    "np.savetxt(Glu2_folder + 'Results/Glu2_Density.csv', np.array(Glu_density[1]), delimiter=',')\n",
    "np.savetxt(FAP1_folder + 'Results/FAP1_Density.csv', np.array(FAP_density[0]), delimiter=',')\n",
    "np.savetxt(FAP2_folder + 'Results/FAP2_Density.csv', np.array(FAP_density[1]), delimiter=',')"
   ]
  },
  {
   "cell_type": "code",
   "execution_count": 121,
   "id": "2e784d0d-2fb5-4d89-9396-1863cb3e51f4",
   "metadata": {
    "tags": []
   },
   "outputs": [
    {
     "data": {
      "image/png": "[encoded data removed]",
      "text/plain": [
       "<Figure size 640x480 with 1 Axes>"
      ]
     },
     "metadata": {},
     "output_type": "display_data"
    }
   ],
   "source": [
    "data = [C_density[0]] + [np.concatenate((C_density[1],C_density[2]))] + Glu_density + FAP_density\n",
    "\n",
    "fig1, ax1 = plt.subplots()\n",
    "ax1.set_title('Boxplot showing density values for images in each sample')\n",
    "ax1.boxplot(data, labels=['C1','C2','Glu1','Glu2','4AP1','4AP2'])\n",
    "#ax1.set_ylim([0,100])\n",
    "ax1.set_ylabel('Calculated density (spots/micron^2)')\n",
    "plt.show()"
   ]
  },
  {
   "cell_type": "markdown",
   "id": "5817dd93-7baa-4574-ae50-834f44de89d2",
   "metadata": {
    "jp-MarkdownHeadingCollapsed": true,
    "tags": []
   },
   "source": [
    "# OLD STED DATA: Now find the spot density by using the Mitos masks"
   ]
  },
  {
   "cell_type": "code",
   "execution_count": 127,
   "id": "619ab21d-4011-473e-a67c-3d080e2a605d",
   "metadata": {},
   "outputs": [],
   "source": [
    "mask_4AP_4mM_1 = plt.imread('/Users/Stephanie/Library/CloudStorage/OneDrive-TheUniversityofColoradoDenver/STED_FultonR_final_20210409/STED_deconv_10iter_seg1_FilledOpenMasks/4AP_4mM_1_deconv_10_ClassifierResult.tif')/255\n",
    "mask_4AP_4mM_2 = plt.imread('/Users/Stephanie/Library/CloudStorage/OneDrive-TheUniversityofColoradoDenver/STED_FultonR_final_20210409/STED_deconv_10iter_seg1_FilledOpenMasks/4AP_4mM_2_deconv_10_ClassifierResult.tif')/255\n",
    "mask_4AP_4mM_3 = plt.imread('/Users/Stephanie/Library/CloudStorage/OneDrive-TheUniversityofColoradoDenver/STED_FultonR_final_20210409/STED_deconv_10iter_seg1_FilledOpenMasks/4AP_4mM_3_deconv_10_ClassifierResult.tif')/255\n",
    "mask_4AP_4mM_4 = plt.imread('/Users/Stephanie/Library/CloudStorage/OneDrive-TheUniversityofColoradoDenver/STED_FultonR_final_20210409/STED_deconv_10iter_seg1_FilledOpenMasks/4AP_4mM_4_deconv_10_ClassifierResult.tif')/255\n",
    "mask_4AP_4mM_5 = plt.imread('/Users/Stephanie/Library/CloudStorage/OneDrive-TheUniversityofColoradoDenver/STED_FultonR_final_20210409/STED_deconv_10iter_seg1_FilledOpenMasks/4AP_4mM_5_deconv_10_ClassifierResult.tif')/255"
   ]
  },
  {
   "cell_type": "code",
   "execution_count": 129,
   "id": "c0016971-6c55-4492-8080-7a209e648828",
   "metadata": {},
   "outputs": [],
   "source": [
    "mask_4AP_control_1 = plt.imread('/Users/Stephanie/Library/CloudStorage/OneDrive-TheUniversityofColoradoDenver/STED_FultonR_final_20210409/STED_deconv_10iter_seg1_FilledOpenMasks/4AP_control_1_deconv_10_ClassifierResult.tif')/255\n",
    "mask_4AP_control_2 = plt.imread('/Users/Stephanie/Library/CloudStorage/OneDrive-TheUniversityofColoradoDenver/STED_FultonR_final_20210409/STED_deconv_10iter_seg1_FilledOpenMasks/4AP_control_2_deconv_10_ClassifierResult.tif')/255\n",
    "mask_4AP_control_3 = plt.imread('/Users/Stephanie/Library/CloudStorage/OneDrive-TheUniversityofColoradoDenver/STED_FultonR_final_20210409/STED_deconv_10iter_seg1_FilledOpenMasks/4AP_control_3_deconv_10_ClassifierResult.tif')/255\n",
    "mask_4AP_control_4 = plt.imread('/Users/Stephanie/Library/CloudStorage/OneDrive-TheUniversityofColoradoDenver/STED_FultonR_final_20210409/STED_deconv_10iter_seg1_FilledOpenMasks/4AP_control_4_deconv_10_ClassifierResult.tif')/255\n",
    "mask_4AP_control_5 = plt.imread('/Users/Stephanie/Library/CloudStorage/OneDrive-TheUniversityofColoradoDenver/STED_FultonR_final_20210409/STED_deconv_10iter_seg1_FilledOpenMasks/4AP_control_5_deconv_10_ClassifierResult.tif')/255"
   ]
  },
  {
   "cell_type": "code",
   "execution_count": 131,
   "id": "0e703915-0e7b-477c-8dc3-4d3a4bbdf554",
   "metadata": {},
   "outputs": [],
   "source": [
    "mask_glutamate_0p1uM_1 = plt.imread('/Users/Stephanie/Library/CloudStorage/OneDrive-TheUniversityofColoradoDenver/STED_FultonR_final_20210409/STED_deconv_10iter_seg1_FilledOpenMasks/glutamate_0p1uM_1_deconv_10_ClassifierResult.tif')/255\n",
    "mask_glutamate_0p1uM_2 = plt.imread('/Users/Stephanie/Library/CloudStorage/OneDrive-TheUniversityofColoradoDenver/STED_FultonR_final_20210409/STED_deconv_10iter_seg1_FilledOpenMasks/glutamate_0p1uM_2_deconv_10_ClassifierResult.tif')/255\n",
    "mask_glutamate_0p1uM_3 = plt.imread('/Users/Stephanie/Library/CloudStorage/OneDrive-TheUniversityofColoradoDenver/STED_FultonR_final_20210409/STED_deconv_10iter_seg1_FilledOpenMasks/glutamate_0p1uM_3_deconv_10_ClassifierResult.tif')/255\n",
    "mask_glutamate_0p1uM_4 = plt.imread('/Users/Stephanie/Library/CloudStorage/OneDrive-TheUniversityofColoradoDenver/STED_FultonR_final_20210409/STED_deconv_10iter_seg1_FilledOpenMasks/glutamate_0p1uM_4_deconv_10_ClassifierResult.tif')/255\n",
    "mask_glutamate_0p1uM_5 = plt.imread('/Users/Stephanie/Library/CloudStorage/OneDrive-TheUniversityofColoradoDenver/STED_FultonR_final_20210409/STED_deconv_10iter_seg1_FilledOpenMasks/glutamate_0p1uM_5_deconv_10_ClassifierResult.tif')/255"
   ]
  },
  {
   "cell_type": "code",
   "execution_count": 133,
   "id": "4353b74f-cb25-4bc1-b496-0f8c878825de",
   "metadata": {},
   "outputs": [],
   "source": [
    "mask_glutamate_control_1 = plt.imread('/Users/Stephanie/Library/CloudStorage/OneDrive-TheUniversityofColoradoDenver/STED_FultonR_final_20210409/STED_deconv_10iter_seg1_FilledOpenMasks/glutamate_control_1_deconv_10_ClassifierResult.tif')/255\n",
    "mask_glutamate_control_2 = plt.imread('/Users/Stephanie/Library/CloudStorage/OneDrive-TheUniversityofColoradoDenver/STED_FultonR_final_20210409/STED_deconv_10iter_seg1_FilledOpenMasks/glutamate_control_2_deconv_10_ClassifierResult.tif')/255\n",
    "mask_glutamate_control_3 = plt.imread('/Users/Stephanie/Library/CloudStorage/OneDrive-TheUniversityofColoradoDenver/STED_FultonR_final_20210409/STED_deconv_10iter_seg1_FilledOpenMasks/glutamate_control_3_deconv_10_ClassifierResult.tif')/255\n",
    "mask_glutamate_control_4 = plt.imread('/Users/Stephanie/Library/CloudStorage/OneDrive-TheUniversityofColoradoDenver/STED_FultonR_final_20210409/STED_deconv_10iter_seg1_FilledOpenMasks/glutamate_control_4_deconv_10_ClassifierResult.tif')/255\n",
    "mask_glutamate_control_5 = plt.imread('/Users/Stephanie/Library/CloudStorage/OneDrive-TheUniversityofColoradoDenver/STED_FultonR_final_20210409/STED_deconv_10iter_seg1_FilledOpenMasks/glutamate_control_5_deconv_10_ClassifierResult.tif')/255"
   ]
  },
  {
   "cell_type": "markdown",
   "id": "e2e1c82d-3993-467a-b0e9-ac255d80bd0f",
   "metadata": {
    "tags": []
   },
   "source": [
    "### Find the total area of mitos in spots per pixel of mitos.\n",
    "Scale to spots/micron^2 by dividing by 1 pixel/(.020 um)^2"
   ]
  },
  {
   "cell_type": "code",
   "execution_count": 145,
   "id": "cabc5fdc-8b9a-4512-88b9-7f4d330c8e4f",
   "metadata": {},
   "outputs": [
    {
     "name": "stdout",
     "output_type": "stream",
     "text": [
      "0.020548276534144237\n"
     ]
    }
   ],
   "source": [
    "dens_4AP_4mM_1 = (df_4AP_4mM_1.shape[0]/np.sum(mask_4AP_4mM_1))/(0.02**2)\n",
    "dens_4AP_4mM_2 = (df_4AP_4mM_2.shape[0]/np.sum(mask_4AP_4mM_2))/(0.02**2)\n",
    "dens_4AP_4mM_3 = (df_4AP_4mM_3.shape[0]/np.sum(mask_4AP_4mM_3))/(0.02**2)\n",
    "dens_4AP_4mM_4 = (df_4AP_4mM_4.shape[0]/np.sum(mask_4AP_4mM_4))/(0.02**2)\n",
    "dens_4AP_4mM_5 = (df_4AP_4mM_5.shape[0]/np.sum(mask_4AP_4mM_5))/(0.02**2)\n",
    "STED1_density_4AP = np.array([dens_4AP_4mM_1,dens_4AP_4mM_2, dens_4AP_4mM_3, dens_4AP_4mM_4, dens_4AP_4mM_5])\n",
    "print((df_4AP_4mM_1.shape[0]/np.sum(mask_4AP_4mM_1) + df_4AP_4mM_2.shape[0]/np.sum(mask_4AP_4mM_2)+df_4AP_4mM_3.shape[0]/np.sum(mask_4AP_4mM_3)+df_4AP_4mM_4.shape[0]/np.sum(mask_4AP_4mM_4)+df_4AP_4mM_5.shape[0]/np.sum(mask_4AP_4mM_5))/5)"
   ]
  },
  {
   "cell_type": "code",
   "execution_count": 147,
   "id": "7c8928bb-e812-43c7-8036-0ea094293b39",
   "metadata": {
    "tags": []
   },
   "outputs": [],
   "source": [
    "FAP_density_all = FAP_density + [STED1_density_4AP]"
   ]
  },
  {
   "cell_type": "code",
   "execution_count": 149,
   "id": "078d76ce-fb92-4a76-ab64-e29264f5f865",
   "metadata": {},
   "outputs": [
    {
     "name": "stdout",
     "output_type": "stream",
     "text": [
      "51.40522498855801\n",
      "47.148409733670086\n",
      "49.71953085160632\n",
      "56.24963355287588\n",
      "52.33065755009265\n",
      "51.3706913353606\n"
     ]
    }
   ],
   "source": [
    "print(dens_4AP_4mM_1)\n",
    "print(dens_4AP_4mM_2)\n",
    "print(dens_4AP_4mM_3)\n",
    "print(dens_4AP_4mM_4)\n",
    "print(dens_4AP_4mM_5)\n",
    "print((dens_4AP_4mM_1+dens_4AP_4mM_2+dens_4AP_4mM_3+dens_4AP_4mM_4+dens_4AP_4mM_5)/5)"
   ]
  },
  {
   "cell_type": "code",
   "execution_count": 151,
   "id": "349fdbae-67f7-4413-a431-fb9688b1fd21",
   "metadata": {
    "tags": []
   },
   "outputs": [],
   "source": [
    "dens_4AP_control_1 = (df_4AP_control_1.shape[0]/np.sum(mask_4AP_control_1))/(0.02**2)\n",
    "dens_4AP_control_2 = (df_4AP_control_2.shape[0]/np.sum(mask_4AP_control_2))/(0.02**2)\n",
    "dens_4AP_control_3 = (df_4AP_control_3.shape[0]/np.sum(mask_4AP_control_3))/(0.02**2)\n",
    "dens_4AP_control_4 = (df_4AP_control_4.shape[0]/np.sum(mask_4AP_control_4))/(0.02**2)\n",
    "dens_4AP_control_5 = (df_4AP_control_5.shape[0]/np.sum(mask_4AP_control_5))/(0.02**2)\n",
    "STED1_density_4AP_control = np.array([dens_4AP_control_1,dens_4AP_control_2, dens_4AP_control_3, dens_4AP_control_4, dens_4AP_control_5])"
   ]
  },
  {
   "cell_type": "code",
   "execution_count": 153,
   "id": "8667d350-e95b-4015-8eb0-8aaf63d56c40",
   "metadata": {
    "tags": []
   },
   "outputs": [],
   "source": [
    "C_density_all = C_density + [STED1_density_4AP_control]"
   ]
  },
  {
   "cell_type": "code",
   "execution_count": 155,
   "id": "b29f0897-12a1-4c89-9f67-1baabf9c6d9f",
   "metadata": {},
   "outputs": [
    {
     "name": "stdout",
     "output_type": "stream",
     "text": [
      "61.53059697770684\n",
      "71.35302876386356\n",
      "64.76325687735084\n",
      "50.572447306263065\n",
      "69.45488178507428\n",
      "63.53484234205172\n"
     ]
    }
   ],
   "source": [
    "print(dens_4AP_control_1)\n",
    "print(dens_4AP_control_2)\n",
    "print(dens_4AP_control_3)\n",
    "print(dens_4AP_control_4)\n",
    "print(dens_4AP_control_5)\n",
    "print((dens_4AP_control_1+dens_4AP_control_2+dens_4AP_control_3+dens_4AP_control_4+dens_4AP_control_5)/5)"
   ]
  },
  {
   "cell_type": "code",
   "execution_count": 157,
   "id": "2c62ce4e-536f-4a84-97e0-4fab64844b92",
   "metadata": {},
   "outputs": [],
   "source": [
    "dens_glutamate_0p1uM_1 = (df_glutamate_0p1uM_1.shape[0]/np.sum(mask_glutamate_0p1uM_1))/(0.02**2)\n",
    "dens_glutamate_0p1uM_2 = (df_glutamate_0p1uM_2.shape[0]/np.sum(mask_glutamate_0p1uM_2))/(0.02**2)\n",
    "dens_glutamate_0p1uM_3 = (df_glutamate_0p1uM_3.shape[0]/np.sum(mask_glutamate_0p1uM_3))/(0.02**2)\n",
    "dens_glutamate_0p1uM_4 = (df_glutamate_0p1uM_4.shape[0]/np.sum(mask_glutamate_0p1uM_4))/(0.02**2)\n",
    "dens_glutamate_0p1uM_5 = (df_glutamate_0p1uM_5.shape[0]/np.sum(mask_glutamate_0p1uM_5))/(0.02**2)\n",
    "STED1_density_glu = np.array([dens_glutamate_0p1uM_1,dens_glutamate_0p1uM_2, dens_glutamate_0p1uM_3,dens_glutamate_0p1uM_4,dens_glutamate_0p1uM_5])"
   ]
  },
  {
   "cell_type": "code",
   "execution_count": 159,
   "id": "c0d9bd6e-b20c-4fe7-8674-3cb21b8bf5c4",
   "metadata": {
    "tags": []
   },
   "outputs": [],
   "source": [
    "Glu_density_all = Glu_density + [STED1_density_glu]"
   ]
  },
  {
   "cell_type": "code",
   "execution_count": null,
   "id": "da979b9c-6b0a-48b6-84e6-f2d1dfb5aed3",
   "metadata": {},
   "outputs": [],
   "source": [
    "print(dens_glutamate_0p1uM_1)\n",
    "print(dens_glutamate_0p1uM_2)\n",
    "print(dens_glutamate_0p1uM_3)\n",
    "print(dens_glutamate_0p1uM_4)\n",
    "print(dens_glutamate_0p1uM_5)\n",
    "print((dens_glutamate_0p1uM_1+dens_glutamate_0p1uM_2+dens_glutamate_0p1uM_3+dens_glutamate_0p1uM_4+dens_glutamate_0p1uM_5)/5)"
   ]
  },
  {
   "cell_type": "code",
   "execution_count": 161,
   "id": "a6be131f-e035-4f08-a3d9-95e0273fafc9",
   "metadata": {},
   "outputs": [],
   "source": [
    "dens_glutamate_control_1 = (df_glutamate_control_1.shape[0]/np.sum(mask_glutamate_control_1))/(0.02**2)\n",
    "dens_glutamate_control_2 = (df_glutamate_control_2.shape[0]/np.sum(mask_glutamate_control_2))/(0.02**2)\n",
    "dens_glutamate_control_3 = (df_glutamate_control_3.shape[0]/np.sum(mask_glutamate_control_3))/(0.02**2)\n",
    "dens_glutamate_control_4 = (df_glutamate_control_4.shape[0]/np.sum(mask_glutamate_control_4))/(0.02**2)\n",
    "dens_glutamate_control_5 = (df_glutamate_control_5.shape[0]/np.sum(mask_glutamate_control_5))/(0.02**2)\n",
    "STED1_density_glu_control = np.array([dens_glutamate_control_1,dens_glutamate_control_3, dens_glutamate_control_3, dens_glutamate_control_4,dens_glutamate_control_5])"
   ]
  },
  {
   "cell_type": "code",
   "execution_count": 163,
   "id": "80e2f857-e5e8-42a6-9e0f-d4b7f59a1e77",
   "metadata": {
    "tags": []
   },
   "outputs": [],
   "source": [
    "C_density_all = C_density_all + [STED1_density_glu_control]"
   ]
  },
  {
   "cell_type": "code",
   "execution_count": null,
   "id": "0dafec8d-2f4c-4c09-9d54-569dbdd19dc9",
   "metadata": {},
   "outputs": [],
   "source": [
    "print(dens_glutamate_control_1)\n",
    "print(dens_glutamate_control_2)\n",
    "print(dens_glutamate_control_3)\n",
    "print(dens_glutamate_control_4)\n",
    "print(dens_glutamate_control_5)\n",
    "print((dens_glutamate_control_1+dens_glutamate_control_2+dens_glutamate_control_3+dens_glutamate_control_4+dens_glutamate_control_5)/5)"
   ]
  },
  {
   "cell_type": "markdown",
   "id": "b174160e-2acd-4042-8bd5-0a7fa56593ff",
   "metadata": {},
   "source": [
    "## Now plot STED1 density and STEDYCON density on same axes"
   ]
  },
  {
   "cell_type": "code",
   "execution_count": null,
   "id": "66f643a3-c55c-4581-be0a-0888ec88f8c1",
   "metadata": {
    "tags": []
   },
   "outputs": [],
   "source": [
    "C_density_all[4]"
   ]
  },
  {
   "cell_type": "code",
   "execution_count": 165,
   "id": "d13f18d5-4798-42e5-82c0-0881b5202870",
   "metadata": {
    "tags": []
   },
   "outputs": [
    {
     "data": {
      "image/png": "[encoded data removed]",
      "text/plain": [
       "<Figure size 640x480 with 1 Axes>"
      ]
     },
     "metadata": {},
     "output_type": "display_data"
    }
   ],
   "source": [
    "data = [C_density_all[0]] + [np.concatenate((C_density_all[1],C_density_all[2]))]+[np.concatenate((C_density_all[3],C_density_all[4]))]+ Glu_density_all + FAP_density_all\n",
    "\n",
    "fig1, ax1 = plt.subplots()\n",
    "ax1.set_title('Boxplot showing density values (1,2 STEDYCON, 3 Old STED)')\n",
    "ax1.boxplot(data, labels=['C1','C2','C_3','Glu1','Glu2', 'Glu_3','4AP1','4AP2','4AP_3'])\n",
    "#ax1.set_ylim([0,100])\n",
    "ax1.set_ylabel('Calculated density (spots/micron^2)')\n",
    "plt.show()"
   ]
  },
  {
   "cell_type": "code",
   "execution_count": null,
   "id": "fce54ec2-3b29-4f3a-8b25-922c2bd503df",
   "metadata": {
    "tags": []
   },
   "outputs": [],
   "source": [
    "print(len(FAP_density_all))"
   ]
  },
  {
   "cell_type": "code",
   "execution_count": 167,
   "id": "6ef34bb2-2fb6-4211-b6b2-8f8cc0281813",
   "metadata": {
    "tags": []
   },
   "outputs": [
    {
     "data": {
      "image/png": "[encoded data removed]",
      "text/plain": [
       "<Figure size 640x480 with 1 Axes>"
      ]
     },
     "metadata": {},
     "output_type": "display_data"
    }
   ],
   "source": [
    "data = [np.concatenate((C_density_all[0],C_density_all[1],C_density_all[2]))]+[np.concatenate((C_density_all[3],C_density_all[4]))]+ [np.concatenate((Glu_density_all[0],Glu_density_all[1]))]+[Glu_density_all[2]] + [np.concatenate((FAP_density_all[0],FAP_density_all[1]))]+[FAP_density_all[2]]\n",
    "\n",
    "fig1, ax1 = plt.subplots()\n",
    "ax1.set_title('Image density values (1,2 STEDYCON, 3 Old STED w/ combined controls)')\n",
    "ax1.boxplot(data, labels=['C1+C2','C_3','Glu1+Glu2','Glu_3','4AP1+4AP2','4AP_3'])\n",
    "#ax1.set_ylim([0,100])\n",
    "ax1.set_ylabel('Calculated density (spots/micron^2)')\n",
    "plt.show()"
   ]
  },
  {
   "cell_type": "markdown",
   "id": "8df8fe62-7246-4ff8-bd87-6ec451d909be",
   "metadata": {
    "tags": []
   },
   "source": [
    "# Analysis 3: Mitos variance of fluorescence\n",
    "\n",
    "From the Tom20 STED paper:\n",
    "\"Variance Analysis. To exclude an influence of the image segmentation process on the determined variance values, the local variance in the fluorescence intensity of raw STED images was calculated before image segmentation. To this end, the variance was determined in round ROIs with a diameter of seven pixels (∼140 nm). The resulting variance values were assigned to the central pixel of the analyzed ROI. To evaluate the results of the analysis independently from the absolute brightness of the structures,\n",
    "the individual variancevalues werenormalized to the\n",
    "squared average fluorescence intensity of the respective ROI. The variance calculation was repeated using each pixel successively as an ROI center, leading to an image in which each pixel represents the local variance. Finally, the mitochondria-containing fraction of the image was selected by image segmentation using masks as described above. Then, the median of the variance within the mitochondria was determined.\""
   ]
  },
  {
   "cell_type": "markdown",
   "id": "59fff7b9-e844-42c8-bcfd-382ca9e316e0",
   "metadata": {
    "jp-MarkdownHeadingCollapsed": true,
    "tags": []
   },
   "source": [
    "## Loading OLD STED Data"
   ]
  },
  {
   "cell_type": "code",
   "execution_count": null,
   "id": "4fb8d7e1-886b-47d6-ae0f-c3dec1aeb337",
   "metadata": {},
   "outputs": [],
   "source": [
    "raw_4AP_4mM_1 = plt.imread('/Users/Stephanie/Library/CloudStorage/OneDrive-TheUniversityofColoradoDenver/STED_FultonR_final_20210409/STED_raw/4AP_4mM_1_raw.tif')\n",
    "raw_4AP_4mM_2 = plt.imread('/Users/Stephanie/Library/CloudStorage/OneDrive-TheUniversityofColoradoDenver/STED_FultonR_final_20210409/STED_raw/4AP_4mM_2_raw.tif')\n",
    "raw_4AP_4mM_3 = plt.imread('/Users/Stephanie/Library/CloudStorage/OneDrive-TheUniversityofColoradoDenver/STED_FultonR_final_20210409/STED_raw/4AP_4mM_3_raw.tif')\n",
    "raw_4AP_4mM_4 = plt.imread('/Users/Stephanie/Library/CloudStorage/OneDrive-TheUniversityofColoradoDenver/STED_FultonR_final_20210409/STED_raw/4AP_4mM_4_raw.tif')\n",
    "raw_4AP_4mM_5 = plt.imread('/Users/Stephanie/Library/CloudStorage/OneDrive-TheUniversityofColoradoDenver/STED_FultonR_final_20210409/STED_raw/4AP_4mM_5_raw.tif')"
   ]
  },
  {
   "cell_type": "code",
   "execution_count": null,
   "id": "e8ad9896-db88-4855-a383-ad4bcb5ace32",
   "metadata": {},
   "outputs": [],
   "source": [
    "raw_4AP_control_1 = plt.imread('/Users/Stephanie/Library/CloudStorage/OneDrive-TheUniversityofColoradoDenver/STED_FultonR_final_20210409/STED_raw/4AP_control_1_raw.tif')\n",
    "raw_4AP_control_2 = plt.imread('/Users/Stephanie/Library/CloudStorage/OneDrive-TheUniversityofColoradoDenver/STED_FultonR_final_20210409/STED_raw/4AP_control_2_raw.tif')\n",
    "raw_4AP_control_3 = plt.imread('/Users/Stephanie/Library/CloudStorage/OneDrive-TheUniversityofColoradoDenver/STED_FultonR_final_20210409/STED_raw/4AP_control_3_raw.tif')\n",
    "raw_4AP_control_4 = plt.imread('/Users/Stephanie/Library/CloudStorage/OneDrive-TheUniversityofColoradoDenver/STED_FultonR_final_20210409/STED_raw/4AP_control_4_raw.tif')\n",
    "raw_4AP_control_5 = plt.imread('/Users/Stephanie/Library/CloudStorage/OneDrive-TheUniversityofColoradoDenver/STED_FultonR_final_20210409/STED_raw/4AP_control_5_raw.tif')"
   ]
  },
  {
   "cell_type": "code",
   "execution_count": null,
   "id": "639b5dc9-1e3a-4b0f-b1a1-652fb377f0d5",
   "metadata": {},
   "outputs": [],
   "source": [
    "raw_glutamate_0p1uM_1 = plt.imread('/Users/Stephanie/Library/CloudStorage/OneDrive-TheUniversityofColoradoDenver/STED_FultonR_final_20210409/STED_raw/glutamate_0p1uM_1_raw.tif')\n",
    "raw_glutamate_0p1uM_2 = plt.imread('/Users/Stephanie/Library/CloudStorage/OneDrive-TheUniversityofColoradoDenver/STED_FultonR_final_20210409/STED_raw/glutamate_0p1uM_2_raw.tif')\n",
    "raw_glutamate_0p1uM_3 = plt.imread('/Users/Stephanie/Library/CloudStorage/OneDrive-TheUniversityofColoradoDenver/STED_FultonR_final_20210409/STED_raw/glutamate_0p1uM_3_raw.tif')\n",
    "raw_glutamate_0p1uM_4 = plt.imread('/Users/Stephanie/Library/CloudStorage/OneDrive-TheUniversityofColoradoDenver/STED_FultonR_final_20210409/STED_raw/glutamate_0p1uM_4_raw.tif')\n",
    "raw_glutamate_0p1uM_5 = plt.imread('/Users/Stephanie/Library/CloudStorage/OneDrive-TheUniversityofColoradoDenver/STED_FultonR_final_20210409/STED_raw/glutamate_0p1uM_5_raw.tif')"
   ]
  },
  {
   "cell_type": "code",
   "execution_count": null,
   "id": "d7025d56-503f-4b0f-92b3-87a71aececdd",
   "metadata": {},
   "outputs": [],
   "source": [
    "raw_glutamate_control_1 = plt.imread('/Users/Stephanie/Library/CloudStorage/OneDrive-TheUniversityofColoradoDenver/STED_FultonR_final_20210409/STED_raw/glutamate_control_1_raw.tif')\n",
    "raw_glutamate_control_2 = plt.imread('/Users/Stephanie/Library/CloudStorage/OneDrive-TheUniversityofColoradoDenver/STED_FultonR_final_20210409/STED_raw/glutamate_control_2_raw.tif')\n",
    "raw_glutamate_control_3 = plt.imread('/Users/Stephanie/Library/CloudStorage/OneDrive-TheUniversityofColoradoDenver/STED_FultonR_final_20210409/STED_raw/glutamate_control_3_raw.tif')\n",
    "raw_glutamate_control_4 = plt.imread('/Users/Stephanie/Library/CloudStorage/OneDrive-TheUniversityofColoradoDenver/STED_FultonR_final_20210409/STED_raw/glutamate_control_4_raw.tif')\n",
    "raw_glutamate_control_5 = plt.imread('/Users/Stephanie/Library/CloudStorage/OneDrive-TheUniversityofColoradoDenver/STED_FultonR_final_20210409/STED_raw/glutamate_control_5_raw.tif')"
   ]
  },
  {
   "cell_type": "code",
   "execution_count": null,
   "id": "579516db-f16b-422d-bbf8-a2054d51eabf",
   "metadata": {},
   "outputs": [],
   "source": [
    "plt.imshow(raw_4AP_4mM_1)\n"
   ]
  },
  {
   "cell_type": "markdown",
   "id": "cef8aaac-99da-4ef3-8f46-04c7893bd4c9",
   "metadata": {
    "tags": []
   },
   "source": [
    "## Function to calculate normalized fluorescence variance image:\n",
    "* At each point that is far enough from an edge\n",
    "    * select out the ROI values with pixel centers <= r+1/2 from (i,j)\n",
    "    * Take the variance\n",
    "    * put at the center pixel value for the new var matrix."
   ]
  },
  {
   "cell_type": "code",
   "execution_count": 169,
   "id": "4fe25b8c-881a-4030-8e0d-75f600b20c86",
   "metadata": {},
   "outputs": [],
   "source": [
    "# r must be positive, in units of pixel size\n",
    "### fluo_var_image generates an image of the variance of the fluorescence for an image with an ROI half radius, rounded down, of r.\n",
    "def fluo_var_image(image,r):\n",
    "    (xmax,ymax)=image.shape\n",
    "    var_image = np.zeros((xmax,ymax))\n",
    "    select_mat = np.zeros((2*r+1,2*r+1))\n",
    "    for p in range(2*r+1):\n",
    "        for q in range(2*r+1):\n",
    "            if (m.sqrt((p-(r))**2 + (q-(r))**2) <= (r+0.5)):\n",
    "                select_mat[p,q] = 1\n",
    "            else:\n",
    "                select_mat[p,q] = np.nan\n",
    "    for i in range(xmax):\n",
    "        for j in range(ymax):\n",
    "            if ((i-r) > 0 and (i+r) < (xmax-1)) and ((j-r) > 0 and (j+r) < (ymax-1)):\n",
    "               # roi = np.multiply(image[i-r:i+r+1,j-r:j+r+1],select_mat)\n",
    "                roi = np.multiply(image[i-r:i+r+1,j-r:j+r+1],select_mat)\n",
    "                var_image[i,j] = np.nanvar(roi)/(np.nanmean(roi)**2)\n",
    "    return var_image"
   ]
  },
  {
   "cell_type": "markdown",
   "id": "983d32e3-95a7-4f34-a2a1-bb9249526910",
   "metadata": {
    "tags": []
   },
   "source": [
    "## Testing the function:\n",
    "Check if it's all zeros or all ones that I get what I expect (zero and undefined)"
   ]
  },
  {
   "cell_type": "code",
   "execution_count": null,
   "id": "cd9c564c-e549-4b4f-a701-c95c2cf5534b",
   "metadata": {},
   "outputs": [],
   "source": [
    "test_ones = np.ones((128,128))\n",
    "test_zeros = np.zeros((128,128))\n",
    "print(fluo_var_image(test_ones,3))\n",
    "print(fluo_var_image(test_zeros,3))"
   ]
  },
  {
   "cell_type": "markdown",
   "id": "980478e8-8a57-46d6-8c1c-6133a93e9c72",
   "metadata": {
    "jp-MarkdownHeadingCollapsed": true,
    "tags": []
   },
   "source": [
    "### Test on Random image"
   ]
  },
  {
   "cell_type": "code",
   "execution_count": null,
   "id": "d2f6de6c-50b8-4229-b8e5-34bed80b544d",
   "metadata": {},
   "outputs": [],
   "source": [
    "a = np.random.rand(10000)\n",
    "a=50 * a\n",
    "image =np.reshape(a,(100,100))\n",
    "test = fluo_var_image(image, 3)"
   ]
  },
  {
   "cell_type": "markdown",
   "id": "51d10c4a-5bf3-41c7-a496-b6903ed61ab4",
   "metadata": {},
   "source": [
    "The Values I'm getting are all below one and most are closer to 0 than 1, as expected from a random number distribution on \\[0,1]"
   ]
  },
  {
   "cell_type": "code",
   "execution_count": null,
   "id": "140dd10a-173d-483e-ada5-f39325533786",
   "metadata": {},
   "outputs": [],
   "source": [
    "fig, ax = plt.subplots(figsize=(16,16), nrows=1,ncols=2)\n",
    "plt.tight_layout() \n",
    "#Gaussian Excitation\n",
    "\n",
    "im1 = ax[0].imshow(test,cmap='jet'); ax[0].set_title('Random Data test')\n",
    "plt.colorbar(im1)\n",
    "plt.show()"
   ]
  },
  {
   "cell_type": "markdown",
   "id": "304801f0-7161-4b0e-8d80-6dc48694d135",
   "metadata": {
    "jp-MarkdownHeadingCollapsed": true,
    "tags": []
   },
   "source": [
    "### Normalized variance calculation on the images.\n",
    "* First calcualte the normalized fluorescence image\n",
    "* Then use the mito mask to select only the normalized fluorescence values inside the mitos\n",
    "* Then calculate the median normalized fluorescence in each image and for each condition find the total median."
   ]
  },
  {
   "cell_type": "markdown",
   "id": "202d4b47-34e0-4357-b9d6-a5bb1d321ec1",
   "metadata": {
    "tags": []
   },
   "source": [
    "## STEDYCON Data Analysis of Normalized Variance of Fluorescence\n",
    "* In a loop for each sample, for each image\n",
    "    * Calculate norm variance of fluor image from raw image\n",
    "    * Multiply norm variance of fluor image by mask/255\n",
    "    * Get rid of values that are 0\n",
    "    * Save results in a csv file for Emily"
   ]
  },
  {
   "cell_type": "code",
   "execution_count": 172,
   "id": "722b8fe2-b5ca-4d0e-b21f-1800d81db2ea",
   "metadata": {
    "tags": []
   },
   "outputs": [
    {
     "name": "stdout",
     "output_type": "stream",
     "text": [
      "num images in this session:  12\n"
     ]
    },
    {
     "name": "stderr",
     "output_type": "stream",
     "text": [
      "/var/folders/_n/8p0r8jdj1zl2x6wdg499kh000000gn/T/ipykernel_78214/730883764.py:18: RuntimeWarning: invalid value encountered in scalar divide\n",
      "  var_image[i,j] = np.nanvar(roi)/(np.nanmean(roi)**2)\n"
     ]
    },
    {
     "name": "stdout",
     "output_type": "stream",
     "text": [
      "num images in this session:  6\n",
      "num images in this session:  7\n"
     ]
    },
    {
     "ename": "NameError",
     "evalue": "name 'Glu_Stable_tiffs' is not defined",
     "output_type": "error",
     "traceback": [
      "\u001b[0;31m---------------------------------------------------------------------------\u001b[0m",
      "\u001b[0;31mNameError\u001b[0m                                 Traceback (most recent call last)",
      "Cell \u001b[0;32mIn[172], line 14\u001b[0m\n\u001b[1;32m     10\u001b[0m                 np\u001b[38;5;241m.\u001b[39msavetxt(sesh_folder \u001b[38;5;241m+\u001b[39m \u001b[38;5;124m\"\u001b[39m\u001b[38;5;124mResults/NormFluor\u001b[39m\u001b[38;5;124m\"\u001b[39m \u001b[38;5;241m+\u001b[39m \u001b[38;5;28mstr\u001b[39m(i) \u001b[38;5;241m+\u001b[39m \u001b[38;5;124m\"\u001b[39m\u001b[38;5;124m.csv\u001b[39m\u001b[38;5;124m\"\u001b[39m, temp3, delimiter\u001b[38;5;241m=\u001b[39m\u001b[38;5;124m'\u001b[39m\u001b[38;5;124m,\u001b[39m\u001b[38;5;124m'\u001b[39m)\n\u001b[1;32m     13\u001b[0m calc_save_normfluor(C_stable_tiffs,C_masks,C_folders)\n\u001b[0;32m---> 14\u001b[0m calc_save_normfluor(Glu_Stable_tiffs,Glu_Masks,Glu_folders)\n\u001b[1;32m     15\u001b[0m calc_save_normfluor(FAP_Stable_tiffs,FAP_Masks,FAP_folders)\n",
      "\u001b[0;31mNameError\u001b[0m: name 'Glu_Stable_tiffs' is not defined"
     ]
    }
   ],
   "source": [
    "def calc_save_normfluor(Stable,Masks,folders):\n",
    "    for sesh_Stable, sesh_Masks, sesh_folder in zip(Stable, Masks, folders):\n",
    "            num_images = len(sesh_Stable)\n",
    "            print('num images in this session: ', num_images)\n",
    "            \n",
    "            for i in range(num_images):\n",
    "                temp1 = fluo_var_image(sesh_Stable[i],3)\n",
    "                temp2 = np.multiply(sesh_Masks[i],temp1)/255\n",
    "                temp3 = temp2[temp2!=0]\n",
    "                np.savetxt(sesh_folder + \"Results/NormFluor\" + str(i) + \".csv\", temp3, delimiter=',')\n",
    "\n",
    "                \n",
    "calc_save_normfluor(C_stable_tiffs,C_masks,C_folders)\n",
    "calc_save_normfluor(Glu_stable_tiffs,Glu_masks,Glu_folders)\n",
    "calc_save_normfluor(FAP_stable_tiffs,FAP_masks,FAP_folders)"
   ]
  },
  {
   "cell_type": "markdown",
   "id": "5fc8655c-888c-4d0e-a87a-6c7bce280319",
   "metadata": {
    "jp-MarkdownHeadingCollapsed": true,
    "tags": []
   },
   "source": [
    "## OLD STED Data Normalized Variance of Fluorescence:\n"
   ]
  },
  {
   "cell_type": "markdown",
   "id": "03f87e57-d5b0-481d-8257-895dd0bd9928",
   "metadata": {
    "jp-MarkdownHeadingCollapsed": true,
    "tags": []
   },
   "source": [
    "### 4AP Normalized Variance of Fluorescence Calculation\n"
   ]
  },
  {
   "cell_type": "code",
   "execution_count": null,
   "id": "ddca6184-761e-4c5f-9b01-10f70f0ecd4b",
   "metadata": {},
   "outputs": [],
   "source": [
    "normvar_4AP_4mM_1 = fluo_var_image(raw_4AP_4mM_1,3)"
   ]
  },
  {
   "cell_type": "code",
   "execution_count": null,
   "id": "ddf3a2ff-26d3-4f53-a0ed-3de72a217af0",
   "metadata": {},
   "outputs": [],
   "source": [
    "normvar_4AP_4mM_2 = fluo_var_image(raw_4AP_4mM_2,3)"
   ]
  },
  {
   "cell_type": "code",
   "execution_count": null,
   "id": "7487811e-5bb9-4f4b-804f-f8581f2cf20d",
   "metadata": {},
   "outputs": [],
   "source": [
    "normvar_4AP_4mM_3 = fluo_var_image(raw_4AP_4mM_3,3)"
   ]
  },
  {
   "cell_type": "code",
   "execution_count": null,
   "id": "7a2a04ef-2316-4c64-ba46-f535be8e2527",
   "metadata": {},
   "outputs": [],
   "source": [
    "normvar_4AP_4mM_4 = fluo_var_image(raw_4AP_4mM_4,3)"
   ]
  },
  {
   "cell_type": "code",
   "execution_count": null,
   "id": "6fdfa188-2c0e-487b-bfdb-d39f6dda64c6",
   "metadata": {},
   "outputs": [],
   "source": [
    "normvar_4AP_4mM_5 = fluo_var_image(raw_4AP_4mM_5,3)"
   ]
  },
  {
   "cell_type": "code",
   "execution_count": null,
   "id": "b9208a85-1aa6-49b6-8603-001b22476b20",
   "metadata": {},
   "outputs": [],
   "source": [
    "mask_4AP_4mM_1 = plt.imread('/Users/Stephanie/Library/CloudStorage/OneDrive-TheUniversityofColoradoDenver/STED_FultonR_final_20210409/STED_deconv_10iter_seg1_FilledOpenMasks/4AP_4mM_1_deconv_10_ClassifierResult.tif')\n",
    "mask_4AP_4mM_2 = plt.imread('/Users/Stephanie/Library/CloudStorage/OneDrive-TheUniversityofColoradoDenver/STED_FultonR_final_20210409/STED_deconv_10iter_seg1_FilledOpenMasks/4AP_4mM_2_deconv_10_ClassifierResult.tif')\n",
    "mask_4AP_4mM_3 = plt.imread('/Users/Stephanie/Library/CloudStorage/OneDrive-TheUniversityofColoradoDenver/STED_FultonR_final_20210409/STED_deconv_10iter_seg1_FilledOpenMasks/4AP_4mM_3_deconv_10_ClassifierResult.tif')\n",
    "mask_4AP_4mM_4 = plt.imread('/Users/Stephanie/Library/CloudStorage/OneDrive-TheUniversityofColoradoDenver/STED_FultonR_final_20210409/STED_deconv_10iter_seg1_FilledOpenMasks/4AP_4mM_4_deconv_10_ClassifierResult.tif')\n",
    "mask_4AP_4mM_5 = plt.imread('/Users/Stephanie/Library/CloudStorage/OneDrive-TheUniversityofColoradoDenver/STED_FultonR_final_20210409/STED_deconv_10iter_seg1_FilledOpenMasks/4AP_4mM_5_deconv_10_ClassifierResult.tif')"
   ]
  },
  {
   "cell_type": "markdown",
   "id": "f64d83d0-f60f-4674-99b9-3ad29e174d8d",
   "metadata": {},
   "source": [
    "Multiply normalized variance image by mask, then divide by 255 since it's 8-bit."
   ]
  },
  {
   "cell_type": "code",
   "execution_count": null,
   "id": "d70a3f62-c827-4fcc-81c6-e231d2fd7b24",
   "metadata": {},
   "outputs": [],
   "source": [
    "nvarr_m_4AP_4mM_1 = np.multiply(mask_4AP_4mM_1,normvar_4AP_4mM_1)/255 #m=masked, f=final version with 0's removed\n",
    "nvarr_f_4AP_4mM_1 = nvarr_m_4AP_4mM_1[nvarr_m_4AP_4mM_1 != 0]\n",
    "nvarr_m_4AP_4mM_2 = np.multiply(mask_4AP_4mM_2, normvar_4AP_4mM_2)/255\n",
    "nvarr_f_4AP_4mM_2 = nvarr_m_4AP_4mM_2[nvarr_m_4AP_4mM_2 != 0]\n",
    "nvarr_m_4AP_4mM_3 = np.multiply(mask_4AP_4mM_3,normvar_4AP_4mM_3)/255\n",
    "nvarr_f_4AP_4mM_3 = nvarr_m_4AP_4mM_3[nvarr_m_4AP_4mM_3 != 0]\n",
    "nvarr_m_4AP_4mM_4 = np.multiply(mask_4AP_4mM_4,normvar_4AP_4mM_4)/255\n",
    "nvarr_f_4AP_4mM_4 = nvarr_m_4AP_4mM_4[nvarr_m_4AP_4mM_4 != 0]\n",
    "nvarr_m_4AP_4mM_5 = np.multiply(mask_4AP_4mM_5,normvar_4AP_4mM_5)/255\n",
    "nvarr_f_4AP_4mM_5 = nvarr_m_4AP_4mM_5[nvarr_m_4AP_4mM_5 != 0]"
   ]
  },
  {
   "cell_type": "code",
   "execution_count": null,
   "id": "3757da9e-4fa5-4069-9f44-614ee1425493",
   "metadata": {},
   "outputs": [],
   "source": [
    "#nvarr_f_4AP_4mM_1.shape\n",
    "x = np.arange(0,267079, 1)\n",
    "plt.hist(nvarr_f_4AP_4mM_1)"
   ]
  },
  {
   "cell_type": "code",
   "execution_count": null,
   "id": "3ae8db9d-fe17-4447-8a3a-fa7b8022c9d4",
   "metadata": {},
   "outputs": [],
   "source": [
    "#data = [df_glutamate_control_1['sigma [nm]'], df_glutamate_control_2['sigma [nm]'],df_glutamate_control_3['sigma [nm]'],df_glutamate_control_4['sigma [nm]'],df_glutamate_control_5['sigma [nm]']]\n",
    "fig1, ax1 = plt.subplots(figsize=(16,8), nrows=1,ncols=5)\n",
    "ax1[0].set_title('4AP 4mM Tom20')\n",
    "ax1[0].set_xlabel('1')\n",
    "ax1[0].boxplot(nvarr_f_4AP_4mM_1)\n",
    "ax1[0].set_ylabel('Normalized Fluorescence')\n",
    "ax1[1].set_xlabel('2')\n",
    "ax1[1].boxplot(nvarr_f_4AP_4mM_2)\n",
    "ax1[2].set_xlabel('3')\n",
    "ax1[2].boxplot(nvarr_f_4AP_4mM_3)\n",
    "ax1[3].set_xlabel('4')\n",
    "ax1[3].boxplot(nvarr_f_4AP_4mM_4)\n",
    "ax1[4].set_xlabel('5')\n",
    "ax1[4].boxplot(nvarr_f_4AP_4mM_5)\n",
    "plt.show()"
   ]
  },
  {
   "cell_type": "code",
   "execution_count": null,
   "id": "923eb80e-3fbd-48b5-9121-bf4ea8d18b92",
   "metadata": {},
   "outputs": [],
   "source": [
    "print(np.median(nvarr_f_4AP_4mM_1))\n",
    "print(np.median(nvarr_f_4AP_4mM_2))\n",
    "print(np.median(nvarr_f_4AP_4mM_3))\n",
    "print(np.median(nvarr_f_4AP_4mM_4))\n",
    "print(np.median(nvarr_f_4AP_4mM_5))"
   ]
  },
  {
   "cell_type": "code",
   "execution_count": null,
   "id": "51009619-5524-4192-a092-7349460681e3",
   "metadata": {},
   "outputs": [],
   "source": [
    "print(np.std(nvarr_f_4AP_4mM_1))\n",
    "print(np.std(nvarr_f_4AP_4mM_2))\n",
    "print(np.std(nvarr_f_4AP_4mM_3))\n",
    "print(np.std(nvarr_f_4AP_4mM_4))\n",
    "print(np.std(nvarr_f_4AP_4mM_5))"
   ]
  },
  {
   "cell_type": "markdown",
   "id": "3617b370-a4b2-4c07-beee-849bf528ee28",
   "metadata": {},
   "source": [
    "Wait a second, the standard deviation is higher than the median for some of these images's normalized fluorescence values!  Weird.  It's for the images where there are values really far from the median...might want to throw away some outliers but how to decide?"
   ]
  },
  {
   "cell_type": "markdown",
   "id": "91573777-334e-4040-967a-b196bdb43c5b",
   "metadata": {
    "tags": []
   },
   "source": [
    "### 4AP Control Normalized Variance of Fluorescence Calculation"
   ]
  },
  {
   "cell_type": "code",
   "execution_count": null,
   "id": "06b1e6b4-069c-47d3-b607-2e954b6fbe27",
   "metadata": {},
   "outputs": [],
   "source": [
    "mask_4AP_control_1 = plt.imread('/Users/Stephanie/Library/CloudStorage/OneDrive-TheUniversityofColoradoDenver/STED_FultonR_final_20210409/STED_deconv_10iter_seg1_FilledOpenMasks/4AP_control_1_deconv_10_ClassifierResult.tif')\n",
    "mask_4AP_control_2 = plt.imread('/Users/Stephanie/Library/CloudStorage/OneDrive-TheUniversityofColoradoDenver/STED_FultonR_final_20210409/STED_deconv_10iter_seg1_FilledOpenMasks/4AP_control_2_deconv_10_ClassifierResult.tif')\n",
    "mask_4AP_control_3 = plt.imread('/Users/Stephanie/Library/CloudStorage/OneDrive-TheUniversityofColoradoDenver/STED_FultonR_final_20210409/STED_deconv_10iter_seg1_FilledOpenMasks/4AP_control_3_deconv_10_ClassifierResult.tif')\n",
    "mask_4AP_control_4 = plt.imread('/Users/Stephanie/Library/CloudStorage/OneDrive-TheUniversityofColoradoDenver/STED_FultonR_final_20210409/STED_deconv_10iter_seg1_FilledOpenMasks/4AP_control_4_deconv_10_ClassifierResult.tif')\n",
    "mask_4AP_control_5 = plt.imread('/Users/Stephanie/Library/CloudStorage/OneDrive-TheUniversityofColoradoDenver/STED_FultonR_final_20210409/STED_deconv_10iter_seg1_FilledOpenMasks/4AP_control_5_deconv_10_ClassifierResult.tif')"
   ]
  },
  {
   "cell_type": "code",
   "execution_count": null,
   "id": "be99db66-a29d-47c6-bfd7-f1cc8d92f9e4",
   "metadata": {},
   "outputs": [],
   "source": [
    "normvar_4AP_control_1 = fluo_var_image(raw_4AP_control_1,3)"
   ]
  },
  {
   "cell_type": "code",
   "execution_count": null,
   "id": "bf00f5e6-85de-4075-8cb5-ea564efd3328",
   "metadata": {},
   "outputs": [],
   "source": [
    "normvar_4AP_control_2 = fluo_var_image(raw_4AP_control_2,3)"
   ]
  },
  {
   "cell_type": "code",
   "execution_count": null,
   "id": "12f89eba-a482-469f-9bd5-a13018e40fcd",
   "metadata": {},
   "outputs": [],
   "source": [
    "normvar_4AP_control_3 = fluo_var_image(raw_4AP_control_3,3)"
   ]
  },
  {
   "cell_type": "code",
   "execution_count": null,
   "id": "1b7ccb9c-a627-4af2-8f3f-3bc65e8f0187",
   "metadata": {},
   "outputs": [],
   "source": [
    "normvar_4AP_control_4 = fluo_var_image(raw_4AP_control_4,3)"
   ]
  },
  {
   "cell_type": "code",
   "execution_count": null,
   "id": "7b3aa99b-ddee-4c64-9ffe-ab14c56e621a",
   "metadata": {},
   "outputs": [],
   "source": [
    "normvar_4AP_control_5 = fluo_var_image(raw_4AP_control_5,3)"
   ]
  },
  {
   "cell_type": "code",
   "execution_count": null,
   "id": "be142511-b7b1-4609-b31a-d4798e410f1a",
   "metadata": {},
   "outputs": [],
   "source": [
    "nvarr_m_4AP_control_1 = np.multiply(mask_4AP_control_1,normvar_4AP_control_1)/255 #m=masked, f=final version with 0's removed\n",
    "nvarr_f_4AP_control_1 = nvarr_m_4AP_control_1[nvarr_m_4AP_control_1 != 0]\n",
    "nvarr_m_4AP_control_2 = np.multiply(mask_4AP_control_2, normvar_4AP_control_2)/255\n",
    "nvarr_f_4AP_control_2 = nvarr_m_4AP_control_2[nvarr_m_4AP_control_2 != 0]\n",
    "nvarr_m_4AP_control_3 = np.multiply(mask_4AP_control_3,normvar_4AP_control_3)/255\n",
    "nvarr_f_4AP_control_3 = nvarr_m_4AP_control_3[nvarr_m_4AP_control_3 != 0]\n",
    "nvarr_m_4AP_control_4 = np.multiply(mask_4AP_control_4,normvar_4AP_control_4)/255\n",
    "nvarr_f_4AP_control_4 = nvarr_m_4AP_control_4[nvarr_m_4AP_control_4 != 0]\n",
    "nvarr_m_4AP_control_5 = np.multiply(mask_4AP_control_5,normvar_4AP_control_5)/255\n",
    "nvarr_f_4AP_control_5 = nvarr_m_4AP_control_5[nvarr_m_4AP_control_5 != 0]"
   ]
  },
  {
   "cell_type": "code",
   "execution_count": null,
   "id": "585ca5ca-337c-4696-97e2-e99b2322641c",
   "metadata": {},
   "outputs": [],
   "source": [
    "#data = [df_glutamate_control_1['sigma [nm]'], df_glutamate_control_2['sigma [nm]'],df_glutamate_control_3['sigma [nm]'],df_glutamate_control_4['sigma [nm]'],df_glutamate_control_5['sigma [nm]']]\n",
    "fig1, ax1 = plt.subplots(figsize=(16,8), nrows=1,ncols=5)\n",
    "ax1[0].set_title('4AP control Tom20')\n",
    "ax1[0].set_xlabel('1')\n",
    "ax1[0].boxplot(nvarr_f_4AP_control_1)\n",
    "ax1[0].set_ylabel('Normalized Fluorescence')\n",
    "ax1[1].set_xlabel('2')\n",
    "ax1[1].boxplot(nvarr_f_4AP_control_2)\n",
    "ax1[2].set_xlabel('3')\n",
    "ax1[2].boxplot(nvarr_f_4AP_control_3)\n",
    "ax1[3].set_xlabel('4')\n",
    "ax1[3].boxplot(nvarr_f_4AP_control_4)\n",
    "ax1[4].set_xlabel('5')\n",
    "ax1[4].boxplot(nvarr_f_4AP_control_5)\n",
    "plt.show()"
   ]
  },
  {
   "cell_type": "code",
   "execution_count": null,
   "id": "cac77362-8290-4756-b055-70742459402e",
   "metadata": {},
   "outputs": [],
   "source": [
    "print(np.median(nvarr_f_4AP_control_1))\n",
    "print(np.median(nvarr_f_4AP_control_2))\n",
    "print(np.median(nvarr_f_4AP_control_3))\n",
    "print(np.median(nvarr_f_4AP_control_4))\n",
    "print(np.median(nvarr_f_4AP_control_5))"
   ]
  },
  {
   "cell_type": "code",
   "execution_count": null,
   "id": "590df870-6068-4a93-be11-203fd2f5d366",
   "metadata": {},
   "outputs": [],
   "source": [
    "print(np.std(nvarr_f_4AP_control_1))\n",
    "print(np.std(nvarr_f_4AP_control_2))\n",
    "print(np.std(nvarr_f_4AP_control_3))\n",
    "print(np.std(nvarr_f_4AP_control_4))\n",
    "print(np.std(nvarr_f_4AP_control_5))"
   ]
  },
  {
   "cell_type": "markdown",
   "id": "8c56525b-449d-4ace-a547-427849190daf",
   "metadata": {
    "jp-MarkdownHeadingCollapsed": true,
    "tags": []
   },
   "source": [
    "### Glutamate Normalized Variance of Fluorescence Calculation"
   ]
  },
  {
   "cell_type": "code",
   "execution_count": null,
   "id": "de9139cf-f398-4e55-8076-e3964a2783e2",
   "metadata": {},
   "outputs": [],
   "source": [
    "mask_glutamate_0p1uM_1 = plt.imread('/Users/Stephanie/Library/CloudStorage/OneDrive-TheUniversityofColoradoDenver/STED_FultonR_final_20210409/STED_deconv_10iter_seg1_FilledOpenMasks/glutamate_0p1uM_1_deconv_10_ClassifierResult.tif')\n",
    "mask_glutamate_0p1uM_2 = plt.imread('/Users/Stephanie/Library/CloudStorage/OneDrive-TheUniversityofColoradoDenver/STED_FultonR_final_20210409/STED_deconv_10iter_seg1_FilledOpenMasks/glutamate_0p1uM_2_deconv_10_ClassifierResult.tif')\n",
    "mask_glutamate_0p1uM_3 = plt.imread('/Users/Stephanie/Library/CloudStorage/OneDrive-TheUniversityofColoradoDenver/STED_FultonR_final_20210409/STED_deconv_10iter_seg1_FilledOpenMasks/glutamate_0p1uM_3_deconv_10_ClassifierResult.tif')\n",
    "mask_glutamate_0p1uM_4 = plt.imread('/Users/Stephanie/Library/CloudStorage/OneDrive-TheUniversityofColoradoDenver/STED_FultonR_final_20210409/STED_deconv_10iter_seg1_FilledOpenMasks/glutamate_0p1uM_4_deconv_10_ClassifierResult.tif')\n",
    "mask_glutamate_0p1uM_5 = plt.imread('/Users/Stephanie/Library/CloudStorage/OneDrive-TheUniversityofColoradoDenver/STED_FultonR_final_20210409/STED_deconv_10iter_seg1_FilledOpenMasks/glutamate_0p1uM_5_deconv_10_ClassifierResult.tif')"
   ]
  },
  {
   "cell_type": "code",
   "execution_count": null,
   "id": "8ce84f99-926b-43d8-b0d1-8de3e4224b5f",
   "metadata": {},
   "outputs": [],
   "source": [
    "normvar_glutamate_0p1uM_1 = fluo_var_image(raw_glutamate_0p1uM_1,3)"
   ]
  },
  {
   "cell_type": "code",
   "execution_count": null,
   "id": "cf9df57b-d917-4c50-bc67-e7281d6f7998",
   "metadata": {},
   "outputs": [],
   "source": [
    "normvar_glutamate_0p1uM_2 = fluo_var_image(raw_glutamate_0p1uM_2,3)"
   ]
  },
  {
   "cell_type": "code",
   "execution_count": null,
   "id": "f3b38bc7-5b82-4f77-9279-41c27f8b8bd4",
   "metadata": {},
   "outputs": [],
   "source": [
    "normvar_glutamate_0p1uM_3 = fluo_var_image(raw_glutamate_0p1uM_3,3)"
   ]
  },
  {
   "cell_type": "code",
   "execution_count": null,
   "id": "f8bfd80f-b83f-4fe4-9f05-8c065d50adae",
   "metadata": {},
   "outputs": [],
   "source": [
    "normvar_glutamate_0p1uM_4 = fluo_var_image(raw_glutamate_0p1uM_4,3)"
   ]
  },
  {
   "cell_type": "code",
   "execution_count": null,
   "id": "b825f5c9-2559-42e0-b38f-3a641e2db7f2",
   "metadata": {},
   "outputs": [],
   "source": [
    "normvar_glutamate_0p1uM_5 = fluo_var_image(raw_glutamate_0p1uM_5,3)"
   ]
  },
  {
   "cell_type": "code",
   "execution_count": null,
   "id": "3607803f-dc59-47a7-84eb-53b6329c220b",
   "metadata": {},
   "outputs": [],
   "source": [
    "nvarr_m_glutamate_0p1uM_1 = np.multiply(mask_glutamate_0p1uM_1,normvar_glutamate_0p1uM_1)/255 #m=masked, f=final version with 0's removed\n",
    "nvarr_f_glutamate_0p1uM_1 = nvarr_m_glutamate_0p1uM_1[nvarr_m_glutamate_0p1uM_1 != 0]\n",
    "nvarr_m_glutamate_0p1uM_2 = np.multiply(mask_glutamate_0p1uM_2, normvar_glutamate_0p1uM_2)/255\n",
    "nvarr_f_glutamate_0p1uM_2 = nvarr_m_glutamate_0p1uM_2[nvarr_m_glutamate_0p1uM_2 != 0]\n",
    "nvarr_m_glutamate_0p1uM_3 = np.multiply(mask_glutamate_0p1uM_3,normvar_glutamate_0p1uM_3)/255\n",
    "nvarr_f_glutamate_0p1uM_3 = nvarr_m_glutamate_0p1uM_3[nvarr_m_glutamate_0p1uM_3 != 0]\n",
    "nvarr_m_glutamate_0p1uM_4 = np.multiply(mask_glutamate_0p1uM_4,normvar_glutamate_0p1uM_4)/255\n",
    "nvarr_f_glutamate_0p1uM_4 = nvarr_m_glutamate_0p1uM_4[nvarr_m_glutamate_0p1uM_4 != 0]\n",
    "nvarr_m_glutamate_0p1uM_5 = np.multiply(mask_glutamate_0p1uM_5,normvar_glutamate_0p1uM_5)/255\n",
    "nvarr_f_glutamate_0p1uM_5 = nvarr_m_glutamate_0p1uM_5[nvarr_m_glutamate_0p1uM_5 != 0]"
   ]
  },
  {
   "cell_type": "code",
   "execution_count": null,
   "id": "3abb851a-b75c-4f41-bb47-876ada6f4eab",
   "metadata": {},
   "outputs": [],
   "source": [
    "#data = [df_glutamate_control_1['sigma [nm]'], df_glutamate_control_2['sigma [nm]'],df_glutamate_control_3['sigma [nm]'],df_glutamate_control_4['sigma [nm]'],df_glutamate_control_5['sigma [nm]']]\n",
    "fig1, ax1 = plt.subplots(figsize=(16,8), nrows=1,ncols=5)\n",
    "ax1[0].set_title('glutamate 0p1uM Tom20')\n",
    "ax1[0].set_xlabel('1')\n",
    "ax1[0].boxplot(nvarr_f_glutamate_0p1uM_1)\n",
    "ax1[0].set_ylabel('Normalized Fluorescence')\n",
    "ax1[1].set_xlabel('2')\n",
    "ax1[1].boxplot(nvarr_f_glutamate_0p1uM_2)\n",
    "ax1[2].set_xlabel('3')\n",
    "ax1[2].boxplot(nvarr_f_glutamate_0p1uM_3)\n",
    "ax1[3].set_xlabel('4')\n",
    "ax1[3].boxplot(nvarr_f_glutamate_0p1uM_4)\n",
    "ax1[4].set_xlabel('5')\n",
    "ax1[4].boxplot(nvarr_f_glutamate_0p1uM_5)\n",
    "plt.show()"
   ]
  },
  {
   "cell_type": "code",
   "execution_count": null,
   "id": "20558317-937b-4e3d-a481-a58a262bc6fc",
   "metadata": {},
   "outputs": [],
   "source": [
    "print(np.median(nvarr_f_glutamate_0p1uM_1))\n",
    "print(np.median(nvarr_f_glutamate_0p1uM_2))\n",
    "print(np.median(nvarr_f_glutamate_0p1uM_3))\n",
    "print(np.median(nvarr_f_glutamate_0p1uM_4))\n",
    "print(np.median(nvarr_f_glutamate_0p1uM_5))"
   ]
  },
  {
   "cell_type": "code",
   "execution_count": null,
   "id": "b5256485-1e88-46b5-968e-d129d13b7563",
   "metadata": {},
   "outputs": [],
   "source": [
    "print(np.std(nvarr_f_glutamate_0p1uM_1))\n",
    "print(np.std(nvarr_f_glutamate_0p1uM_2))\n",
    "print(np.std(nvarr_f_glutamate_0p1uM_3))\n",
    "print(np.std(nvarr_f_glutamate_0p1uM_4))\n",
    "print(np.std(nvarr_f_glutamate_0p1uM_5))"
   ]
  },
  {
   "cell_type": "markdown",
   "id": "89d9291b-2002-48f9-abe4-56c4e0bfebe9",
   "metadata": {},
   "source": [
    "### Glutamate Control Normalized Variance of the Fluorescence Calculation"
   ]
  },
  {
   "cell_type": "code",
   "execution_count": null,
   "id": "c5b6397f-2fdd-46d5-a8af-97a5c87fea5c",
   "metadata": {},
   "outputs": [],
   "source": [
    "mask_glutamate_control_1 = plt.imread('/Users/Stephanie/Library/CloudStorage/OneDrive-TheUniversityofColoradoDenver/STED_FultonR_final_20210409/STED_deconv_10iter_seg1_FilledOpenMasks/glutamate_control_1_deconv_10_ClassifierResult.tif')\n",
    "mask_glutamate_control_2 = plt.imread('/Users/Stephanie/Library/CloudStorage/OneDrive-TheUniversityofColoradoDenver/STED_FultonR_final_20210409/STED_deconv_10iter_seg1_FilledOpenMasks/glutamate_control_2_deconv_10_ClassifierResult.tif')\n",
    "mask_glutamate_control_3 = plt.imread('/Users/Stephanie/Library/CloudStorage/OneDrive-TheUniversityofColoradoDenver/STED_FultonR_final_20210409/STED_deconv_10iter_seg1_FilledOpenMasks/glutamate_control_3_deconv_10_ClassifierResult.tif')\n",
    "mask_glutamate_control_4 = plt.imread('/Users/Stephanie/Library/CloudStorage/OneDrive-TheUniversityofColoradoDenver/STED_FultonR_final_20210409/STED_deconv_10iter_seg1_FilledOpenMasks/glutamate_control_4_deconv_10_ClassifierResult.tif')\n",
    "mask_glutamate_control_5 = plt.imread('/Users/Stephanie/Library/CloudStorage/OneDrive-TheUniversityofColoradoDenver/STED_FultonR_final_20210409/STED_deconv_10iter_seg1_FilledOpenMasks/glutamate_control_5_deconv_10_ClassifierResult.tif')"
   ]
  },
  {
   "cell_type": "code",
   "execution_count": null,
   "id": "7f6a695b-8274-4e97-97c1-0cd1cf8a32b5",
   "metadata": {},
   "outputs": [],
   "source": [
    "normvar_glutamate_control_1 = fluo_var_image(raw_glutamate_control_1,3)"
   ]
  },
  {
   "cell_type": "code",
   "execution_count": null,
   "id": "b07a2567-ffc0-480d-b4bb-0f9931641d34",
   "metadata": {},
   "outputs": [],
   "source": [
    "normvar_glutamate_control_2 = fluo_var_image(raw_glutamate_control_2,3)"
   ]
  },
  {
   "cell_type": "code",
   "execution_count": null,
   "id": "64a659f5-522c-405d-ac31-e8e8b424e762",
   "metadata": {},
   "outputs": [],
   "source": [
    "normvar_glutamate_control_3 = fluo_var_image(raw_glutamate_control_3,3)"
   ]
  },
  {
   "cell_type": "code",
   "execution_count": null,
   "id": "6fa3973f-3d45-4392-8b42-4b6ed576bf97",
   "metadata": {},
   "outputs": [],
   "source": [
    "normvar_glutamate_control_4 = fluo_var_image(raw_glutamate_control_4,3)"
   ]
  },
  {
   "cell_type": "code",
   "execution_count": null,
   "id": "5582f45b-b378-423c-87c3-519ccf26417f",
   "metadata": {},
   "outputs": [],
   "source": [
    "normvar_glutamate_control_5 = fluo_var_image(raw_glutamate_control_5,3)"
   ]
  },
  {
   "cell_type": "code",
   "execution_count": null,
   "id": "c02281ce-bb20-4cc1-bc6a-597cd71c5b33",
   "metadata": {},
   "outputs": [],
   "source": [
    "nvarr_m_glutamate_control_1 = np.multiply(mask_glutamate_control_1,normvar_glutamate_control_1)/255 #m=masked, f=final version with 0's removed\n",
    "nvarr_f_glutamate_control_1 = nvarr_m_glutamate_control_1[nvarr_m_glutamate_control_1 != 0]\n",
    "nvarr_m_glutamate_control_2 = np.multiply(mask_glutamate_control_2, normvar_glutamate_control_2)/255\n",
    "nvarr_f_glutamate_control_2 = nvarr_m_glutamate_control_2[nvarr_m_glutamate_control_2 != 0]\n",
    "nvarr_m_glutamate_control_3 = np.multiply(mask_glutamate_control_3,normvar_glutamate_control_3)/255\n",
    "nvarr_f_glutamate_control_3 = nvarr_m_glutamate_control_3[nvarr_m_glutamate_control_3 != 0]\n",
    "nvarr_m_glutamate_control_4 = np.multiply(mask_glutamate_control_4,normvar_glutamate_control_4)/255\n",
    "nvarr_f_glutamate_control_4 = nvarr_m_glutamate_control_4[nvarr_m_glutamate_control_4 != 0]\n",
    "nvarr_m_glutamate_control_5 = np.multiply(mask_glutamate_control_5,normvar_glutamate_control_5)/255\n",
    "nvarr_f_glutamate_control_5 = nvarr_m_glutamate_control_5[nvarr_m_glutamate_control_5 != 0]"
   ]
  },
  {
   "cell_type": "code",
   "execution_count": null,
   "id": "f1d66c31-f676-4115-8b5c-3fb3af6f6ab0",
   "metadata": {},
   "outputs": [],
   "source": [
    "#data = [df_glutamate_control_1['sigma [nm]'], df_glutamate_control_2['sigma [nm]'],df_glutamate_control_3['sigma [nm]'],df_glutamate_control_4['sigma [nm]'],df_glutamate_control_5['sigma [nm]']]\n",
    "fig1, ax1 = plt.subplots(figsize=(16,8), nrows=1,ncols=5)\n",
    "ax1[0].set_title('glutamate control Tom20')\n",
    "ax1[0].set_xlabel('1')\n",
    "ax1[0].boxplot(nvarr_f_glutamate_control_1)\n",
    "ax1[0].set_ylabel('Normalized Fluorescence')\n",
    "ax1[1].set_xlabel('2')\n",
    "ax1[1].boxplot(nvarr_f_glutamate_control_2)\n",
    "ax1[2].set_xlabel('3')\n",
    "ax1[2].boxplot(nvarr_f_glutamate_control_3)\n",
    "ax1[3].set_xlabel('4')\n",
    "ax1[3].boxplot(nvarr_f_glutamate_control_4)\n",
    "ax1[4].set_xlabel('5')\n",
    "ax1[4].boxplot(nvarr_f_glutamate_control_5)\n",
    "plt.show()"
   ]
  },
  {
   "cell_type": "code",
   "execution_count": null,
   "id": "b1290360-bbc6-4ae5-8767-6e2c8298aa77",
   "metadata": {},
   "outputs": [],
   "source": [
    "print(np.median(nvarr_f_glutamate_control_1))\n",
    "print(np.median(nvarr_f_glutamate_control_2))\n",
    "print(np.median(nvarr_f_glutamate_control_3))\n",
    "print(np.median(nvarr_f_glutamate_control_4))\n",
    "print(np.median(nvarr_f_glutamate_control_5))"
   ]
  },
  {
   "cell_type": "code",
   "execution_count": null,
   "id": "e500c9ed-ec30-4fe7-a5d4-3ff3b24ae106",
   "metadata": {},
   "outputs": [],
   "source": [
    "print(np.std(nvarr_f_glutamate_control_1))\n",
    "print(np.std(nvarr_f_glutamate_control_2))\n",
    "print(np.std(nvarr_f_glutamate_control_3))\n",
    "print(np.std(nvarr_f_glutamate_control_4))\n",
    "print(np.std(nvarr_f_glutamate_control_5))"
   ]
  },
  {
   "cell_type": "markdown",
   "id": "a83fbe18-9a9d-44d2-80f2-9219c3cebeaa",
   "metadata": {},
   "source": [
    "### OLD STED Data Now calculate the median and generate boxplots of each type of condition"
   ]
  },
  {
   "cell_type": "code",
   "execution_count": null,
   "id": "25326a74-7461-4545-93c2-dba7adb1df2f",
   "metadata": {},
   "outputs": [],
   "source": [
    "print(np.median(np.concatenate((nvarr_f_4AP_4mM_1,nvarr_f_4AP_4mM_2,nvarr_f_4AP_4mM_3,nvarr_f_4AP_4mM_4,nvarr_f_4AP_4mM_5), axis=0)))"
   ]
  },
  {
   "cell_type": "code",
   "execution_count": null,
   "id": "104ca799-888f-406f-b5be-b4a7a79ce455",
   "metadata": {},
   "outputs": [],
   "source": [
    "print(np.median(np.concatenate((nvarr_f_4AP_control_1,nvarr_f_4AP_control_2,nvarr_f_4AP_control_3,nvarr_f_4AP_control_4,nvarr_f_4AP_control_5), axis=0)))"
   ]
  },
  {
   "cell_type": "code",
   "execution_count": null,
   "id": "110d379e-bdca-468f-9318-af76c98edf1a",
   "metadata": {},
   "outputs": [],
   "source": [
    "print(np.median(np.concatenate((nvarr_f_glutamate_0p1uM_1,nvarr_f_glutamate_0p1uM_2,nvarr_f_glutamate_0p1uM_3,nvarr_f_glutamate_0p1uM_4,nvarr_f_glutamate_0p1uM_5), axis=0)))"
   ]
  },
  {
   "cell_type": "code",
   "execution_count": null,
   "id": "7bd42ead-0c61-4cc6-8b85-223a583ad8ed",
   "metadata": {},
   "outputs": [],
   "source": [
    "print(np.median(np.concatenate((nvarr_f_glutamate_control_1,nvarr_f_glutamate_control_2,nvarr_f_glutamate_control_3,nvarr_f_glutamate_control_4,nvarr_f_glutamate_control_5), axis=0)))"
   ]
  },
  {
   "cell_type": "markdown",
   "id": "b9b9d105-ad14-4ab6-9c21-9fe81c247325",
   "metadata": {
    "jp-MarkdownHeadingCollapsed": true,
    "tags": []
   },
   "source": [
    "### OLD STED Data Now save the numpy arrays with the normalized fluorescence values for Emily, then she can compare the images to one another and the conditions to one another by binning the data together"
   ]
  },
  {
   "cell_type": "markdown",
   "id": "ba057bd1-620c-45e8-bd0e-c25564a35956",
   "metadata": {},
   "source": [
    "4AP 4mM data:"
   ]
  },
  {
   "cell_type": "code",
   "execution_count": null,
   "id": "7bab506a-84e4-400b-9033-73e5e674ef9e",
   "metadata": {},
   "outputs": [],
   "source": [
    "np.savetxt('/Users/Stephanie/Library/CloudStorage/OneDrive-TheUniversityofColoradoDenver/STED_FultonR_final_20210409/For Emily/nvarr_4AP_4mM_1.csv', nvarr_f_4AP_4mM_1, delimiter=',')\n",
    "np.savetxt('/Users/Stephanie/Library/CloudStorage/OneDrive-TheUniversityofColoradoDenver/STED_FultonR_final_20210409/For Emily/nvarr_4AP_4mM_2.csv', nvarr_f_4AP_4mM_2, delimiter=',')\n",
    "np.savetxt('/Users/Stephanie/Library/CloudStorage/OneDrive-TheUniversityofColoradoDenver/STED_FultonR_final_20210409/For Emily/nvarr_4AP_4mM_3.csv', nvarr_f_4AP_4mM_3, delimiter=',')\n",
    "np.savetxt('/Users/Stephanie/Library/CloudStorage/OneDrive-TheUniversityofColoradoDenver/STED_FultonR_final_20210409/For Emily/nvarr_4AP_4mM_4.csv', nvarr_f_4AP_4mM_4, delimiter=',')\n",
    "np.savetxt('/Users/Stephanie/Library/CloudStorage/OneDrive-TheUniversityofColoradoDenver/STED_FultonR_final_20210409/For Emily/nvarr_4AP_4mM_5.csv', nvarr_f_4AP_4mM_5, delimiter=',')"
   ]
  },
  {
   "cell_type": "markdown",
   "id": "7eba1c47-00ee-440e-860a-cb08b851dd3e",
   "metadata": {},
   "source": [
    "4AP control data:"
   ]
  },
  {
   "cell_type": "code",
   "execution_count": null,
   "id": "84a74580-99ff-4375-8625-e8803fa5692f",
   "metadata": {},
   "outputs": [],
   "source": [
    "np.savetxt('/Users/Stephanie/Library/CloudStorage/OneDrive-TheUniversityofColoradoDenver/STED_FultonR_final_20210409/For Emily/nvarr_4AP_control_1.csv', nvarr_f_4AP_control_1, delimiter=',')\n",
    "np.savetxt('/Users/Stephanie/Library/CloudStorage/OneDrive-TheUniversityofColoradoDenver/STED_FultonR_final_20210409/For Emily/nvarr_4AP_control_2.csv', nvarr_f_4AP_control_2, delimiter=',')\n",
    "np.savetxt('/Users/Stephanie/Library/CloudStorage/OneDrive-TheUniversityofColoradoDenver/STED_FultonR_final_20210409/For Emily/nvarr_4AP_control_3.csv', nvarr_f_4AP_control_3, delimiter=',')\n",
    "np.savetxt('/Users/Stephanie/Library/CloudStorage/OneDrive-TheUniversityofColoradoDenver/STED_FultonR_final_20210409/For Emily/nvarr_4AP_control_4.csv', nvarr_f_4AP_control_4, delimiter=',')\n",
    "np.savetxt('/Users/Stephanie/Library/CloudStorage/OneDrive-TheUniversityofColoradoDenver/STED_FultonR_final_20210409/For Emily/nvarr_4AP_control_5.csv', nvarr_f_4AP_control_5, delimiter=',')"
   ]
  },
  {
   "cell_type": "code",
   "execution_count": null,
   "id": "049907a3-69db-4e93-972b-b84aeb9b230b",
   "metadata": {},
   "outputs": [],
   "source": [
    "np.savetxt('/Users/Stephanie/Library/CloudStorage/OneDrive-TheUniversityofColoradoDenver/STED_FultonR_final_20210409/For Emily/nvarr_glutamate_0p1uM_1.csv', nvarr_f_glutamate_0p1uM_1, delimiter=',')\n",
    "np.savetxt('/Users/Stephanie/Library/CloudStorage/OneDrive-TheUniversityofColoradoDenver/STED_FultonR_final_20210409/For Emily/nvarr_glutamate_0p1uM_2.csv', nvarr_f_glutamate_0p1uM_2, delimiter=',')\n",
    "np.savetxt('/Users/Stephanie/Library/CloudStorage/OneDrive-TheUniversityofColoradoDenver/STED_FultonR_final_20210409/For Emily/nvarr_glutamate_0p1uM_3.csv', nvarr_f_glutamate_0p1uM_3, delimiter=',')\n",
    "np.savetxt('/Users/Stephanie/Library/CloudStorage/OneDrive-TheUniversityofColoradoDenver/STED_FultonR_final_20210409/For Emily/nvarr_glutamate_0p1uM_4.csv', nvarr_f_glutamate_0p1uM_4, delimiter=',')\n",
    "np.savetxt('/Users/Stephanie/Library/CloudStorage/OneDrive-TheUniversityofColoradoDenver/STED_FultonR_final_20210409/For Emily/nvarr_glutamate_0p1uM_5.csv', nvarr_f_glutamate_0p1uM_5, delimiter=',')"
   ]
  },
  {
   "cell_type": "code",
   "execution_count": null,
   "id": "1dfe5e5f-866e-4b0e-a132-89e324db07b1",
   "metadata": {},
   "outputs": [],
   "source": [
    "np.savetxt('/Users/Stephanie/Library/CloudStorage/OneDrive-TheUniversityofColoradoDenver/STED_FultonR_final_20210409/For Emily/nvarr_glutamate_control_1.csv', nvarr_f_glutamate_control_1, delimiter=',')\n",
    "np.savetxt('/Users/Stephanie/Library/CloudStorage/OneDrive-TheUniversityofColoradoDenver/STED_FultonR_final_20210409/For Emily/nvarr_glutamate_control_2.csv', nvarr_f_glutamate_control_2, delimiter=',')\n",
    "np.savetxt('/Users/Stephanie/Library/CloudStorage/OneDrive-TheUniversityofColoradoDenver/STED_FultonR_final_20210409/For Emily/nvarr_glutamate_control_3.csv', nvarr_f_glutamate_control_3, delimiter=',')\n",
    "np.savetxt('/Users/Stephanie/Library/CloudStorage/OneDrive-TheUniversityofColoradoDenver/STED_FultonR_final_20210409/For Emily/nvarr_glutamate_control_4.csv', nvarr_f_glutamate_control_4, delimiter=',')\n",
    "np.savetxt('/Users/Stephanie/Library/CloudStorage/OneDrive-TheUniversityofColoradoDenver/STED_FultonR_final_20210409/For Emily/nvarr_glutamate_control_5.csv', nvarr_f_glutamate_control_5, delimiter=',')"
   ]
  },
  {
   "cell_type": "code",
   "execution_count": null,
   "id": "483ad74c-5e43-4e7d-8efd-42e5c812a93d",
   "metadata": {},
   "outputs": [],
   "source": []
  }
 ],
 "metadata": {
  "kernelspec": {
   "display_name": "Python 3 (ipykernel)",
   "language": "python",
   "name": "python3"
  },
  "language_info": {
   "codemirror_mode": {
    "name": "ipython",
    "version": 3
   },
   "file_extension": ".py",
   "mimetype": "text/x-python",
   "name": "python",
   "nbconvert_exporter": "python",
   "pygments_lexer": "ipython3",
   "version": "3.11.5"
  }
 },
 "nbformat": 4,
 "nbformat_minor": 5
}
