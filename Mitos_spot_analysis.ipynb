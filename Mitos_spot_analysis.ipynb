{
 "cells": [
  {
   "cell_type": "markdown",
   "id": "f6106aa0-8945-4d63-883d-43d9475c71c3",
   "metadata": {},
   "source": [
    "# Analysis of Tom20 Mitos data taken 4/09/21 on 2 color STED"
   ]
  },
  {
   "cell_type": "markdown",
   "id": "89714ef9-13c7-41d9-b466-f7e1ea399165",
   "metadata": {},
   "source": [
    "## Previously done steps:\n",
    "1. Use Weka segmentation to segment mitochondria from the rest of the cell (using defaults)\n",
    "2. Masked out the non-mitos to zero values\n",
    "3. Use Thunderstorm to localize and fit the Tom20 clusters and exported the csv file with the fit data (using defaults)\n",
    "3. Looked at the FFT along the mitos to see if any particular frequencies pop up-no obvious signal\n",
    "\n",
    "## To do now:\n",
    "* Mitos analysis steps:\n",
    "    * Size of Tom20 clusters-start with a basic method, later I can try their method if my results don’t make sense\n",
    "        * Find the average size of the Tom20 clusters in each image (and std) using Thunderstorm csv output\n",
    "        * Plot the 5 images under the same conditions in a boxcar plot-how is heterogeneity?\n",
    "        * Plot the different conditions and controls in a boxcar plot, adding together all the images into one dataset\n",
    "        * maybe do some hypothesis testing of any differences found?\n",
    "    * Density of Tom20 clusters in mitochondria-their method seems complex, I’m not sure if it’s strictly necessary, so start with a basic method and see if it gets me any useful results\n",
    "        * calculate total area of mitochondria in an image using the mitos masks\n",
    "        * calculate the number of spots in the image using Thunderstorm output\n",
    "        * divide spot number by area for each image\n",
    "        * compare the results for images under same conditions-find average and std for each condition\n",
    "        * Hypothesis testing?\n",
    "    * Normalized variance of fluorescence signal\n",
    "        * From Mitos paper: “the local variance in the fluorescence intensity of raw STED images was calculated before image segmentation. To this end, the variance was determined in round ROIs with a diameter of seven pixels (∼140 nm). The resulting variance values were assigned to the central pixel of the analyzed ROI. To evaluate the results of the analysis independently from the absolute brightness of the struc- tures, the individual variance values were normalized to the squared average fluorescence intensity of the respective ROI. The variance calculation was repeated using each pixel successively as an ROI center, leading to an image in which each pixel represents the local variance. Finally, the mitochondria-containing fraction of the image was selected by image segmentation using masks as described above. Then, the median of the variance within the mitochondria was determined.”\n",
    "        * Calculate the fluorescence variance in a round ROI of size ~140 nm for every pixel in the image (except edges of course)\n",
    "        * Normalize individual variance values for each pixel to the squared average fluorescence intensity of the ROI\n",
    "        * Then use the mitos mask to segment the image to keep only the pixels in the inside of the mitos\n",
    "        * Calculate median of the normalized fluorescence values of the pixels."
   ]
  },
  {
   "cell_type": "code",
   "execution_count": 10,
   "id": "31b5042c-86e3-4373-9e7e-181086823258",
   "metadata": {},
   "outputs": [],
   "source": [
    "import numpy as np\n",
    "import pandas as pd\n",
    "import matplotlib.pyplot as plt\n",
    "import matplotlib.image as mpimg\n",
    "import math as m\n",
    "import os\n"
   ]
  },
  {
   "cell_type": "markdown",
   "id": "060fe59c-686b-4f31-a90c-3b6008f6adde",
   "metadata": {},
   "source": [
    "## Import the data\n",
    "#### Put the folder names where the data for each sample live\n",
    "one folder named YYMMDD contains all the folders with the different analysis steps\n",
    "* \"...STED Data/YYMMDD/Type/YYYY-MM-DD Pierce S \"\n",
    "* then one of the following:\n",
    "* Decon 3D = deconvolved stack\n",
    "* Decon = deconvolved middle images\n",
    "* Stable = stabilized STED images, not deconvolved yet\n",
    "* Masks = masks output in different folders for different classifiers\n",
    "* Mitos = Decon STED image multiplied by the Masks-diff folders for diff classifiers\n",
    "* Conf = Confocal images\n",
    "* TStorm = Thunderstorm output files, in different folders for different classifiers, may also add folders for different TStorm methods/settings\n",
    "\n",
    "- List different classifiers as folders in Masks, TStorm will have classifiers, plus possibly different settings for TStorm\n"
   ]
  },
  {
   "cell_type": "code",
   "execution_count": 11,
   "id": "7eda0b8d-75de-447d-8b8b-60d66beda41e",
   "metadata": {},
   "outputs": [],
   "source": [
    "C1_folder = \"/Users/Stephanie/Library/CloudStorage/OneDrive-TheUniversityofColoradoDenver/From Dropbox/STED/STED Data/230802/Control/2023-08-02 Pierce S \"\n",
    "Glu1_folder = \"/Users/Stephanie/Library/CloudStorage/OneDrive-TheUniversityofColoradoDenver/From Dropbox/STED/STED Data/230825/Glutamate/2023-08-25 Pierce S \"\n",
    "FAP1_folder = \"/Users/Stephanie/Library/CloudStorage/OneDrive-TheUniversityofColoradoDenver/From Dropbox/STED/STED Data/230908/FAP/2023-09-08 Pierce S \""
   ]
  },
  {
   "cell_type": "code",
   "execution_count": 12,
   "id": "0c334315-e19d-4b28-ae75-c2c8903182d9",
   "metadata": {},
   "outputs": [],
   "source": [
    "C2_folder = \"/Users/Stephanie/Library/CloudStorage/OneDrive-TheUniversityofColoradoDenver/From Dropbox/STED/STED Data/231019/Control/2023-10-19 Pierce S \"\n",
    "#Glu2_folder =\n",
    "FAP2_folder = \"/Users/Stephanie/Library/CloudStorage/OneDrive-TheUniversityofColoradoDenver/From Dropbox/STED/STED Data/231019/4AP_3hours/2023-10-19 Pierce S \""
   ]
  },
  {
   "cell_type": "code",
   "execution_count": 4,
   "id": "d2e55e9f-9626-4766-aad1-b2f4c3ba05a6",
   "metadata": {},
   "outputs": [],
   "source": [
    "#Here list the folders for the final set of data, may need to put more than one folder together for full set of images for each sample"
   ]
  },
  {
   "cell_type": "code",
   "execution_count": 13,
   "id": "a71b584a-958e-452c-9190-52e1644e4278",
   "metadata": {},
   "outputs": [],
   "source": [
    "C_folders = [C1_folder]\n",
    "Glu_folders = [Glu1_folder]\n",
    "FAP_folders = [FAP1_folder, FAP2_folder]"
   ]
  },
  {
   "cell_type": "code",
   "execution_count": 29,
   "id": "5e602950-e233-4ba0-bc54-c9b6c52b8ed1",
   "metadata": {},
   "outputs": [
    {
     "name": "stdout",
     "output_type": "stream",
     "text": [
      "['IMG0021_Control_Classifier2']\n",
      "['IMG0018_Control_STED_stable_decon-2-Tstorm-protocol.txt', 'IMG0016_Control_STED_stable_decon-2-TStorm.tif', 'IMG0021_Control_STED_stable_decon-2-Tstorm-protocol.txt', 'IMG0015_Control_STED_stable_decon-2-TStorm.tif', 'IMG0020_Control_STED_stable_decon-2-TStorm.tif', 'IMG0013_Control_STED_stable_decon-2-TStorm.tif', 'IMG0020_Control_STED_stable_decon-2-Tstorm-protocol.txt', 'IMG0018_Control_STED_stable_decon-2-Tstorm.csv', 'IMG0017_Control_STED_stable_decon-2-Tstorm.csv', 'IMG0007_Control_STED_stable_decon-2-Tstorm.csv', 'IMG0007_Control_STED_stable_decon-2-Tstorm-protocol.txt', 'IMG0014_Control_STED_stable_decon-2-Tstorm.csv', 'IMG0021_Control_STED_stable_decon-2-Tstorm.csv', 'IMG0012_Control_STED_stable_decon-2-Tstorm.csv', 'IMG0009_Control_STED_stable_decon-2-TStorm.tif', 'IMG0011_Control_STED_stable_decon-2-Tstorm.csv', 'IMG0015_Control_STED_stable_decon-2-Tstorm-protocol.txt', 'IMG0011_Control_STED_stable_decon-2-Tstorm-protocol.txt', 'IMG0018_Control_STED_stable_decon-2-TStorm.tif', 'IMG0013_Control_STED_stable_decon-2-Tstorm.csv', 'IMG0015_Control_STED_stable_decon-2-Tstorm.csv', 'IMG0009_Control_STED_stable_decon-2-Tstorm-protocol.txt', 'IMG0014_Control_STED_stable_decon-2-Tstorm-protocol.txt', 'IMG0020_Control_STED_stable_decon-2-Tstorm.csv', 'IMG0016_Control_STED_stable_decon-2-Tstorm.csv', 'IMG0011_Control_STED_stable_decon-2-TStorm.tif', 'IMG0009_Control_STED_stable_decon-2-Tstorm.csv', 'IMG0013_Control_STED_stable_decon-2-Tstorm-protocol.txt', 'IMG0012_Control_STED_stable_decon-2-TStorm.tif', 'IMG0017_Control_STED_stable_decon-2-Tstorm-protocol.txt', 'IMG0014_Control_STED_stable_decon-2-TStorm.tif', 'IMG0007_Control_STED_stable_decon-2-TStorm.tif', 'IMG0021_Control_STED_stable_decon-2-TStorm.tif', 'IMG0016_Control_STED_stable_decon-2-Tstorm-protocol.txt', 'IMG0017_Control_STED_stable_decon-2-TStorm.tif', 'IMG0012_Control_STED_stable_decon-2-Tstorm-protocol.txt']\n",
      "['IMG0018_Control_STED_stable_decon-2-Tstorm.csv', 'IMG0017_Control_STED_stable_decon-2-Tstorm.csv', 'IMG0007_Control_STED_stable_decon-2-Tstorm.csv', 'IMG0014_Control_STED_stable_decon-2-Tstorm.csv', 'IMG0021_Control_STED_stable_decon-2-Tstorm.csv', 'IMG0012_Control_STED_stable_decon-2-Tstorm.csv', 'IMG0011_Control_STED_stable_decon-2-Tstorm.csv', 'IMG0013_Control_STED_stable_decon-2-Tstorm.csv', 'IMG0015_Control_STED_stable_decon-2-Tstorm.csv', 'IMG0020_Control_STED_stable_decon-2-Tstorm.csv', 'IMG0016_Control_STED_stable_decon-2-Tstorm.csv', 'IMG0009_Control_STED_stable_decon-2-Tstorm.csv']\n",
      "<class 'pandas.core.frame.DataFrame'>\n",
      "RangeIndex: 6409 entries, 0 to 6408\n",
      "Data columns (total 9 columns):\n",
      " #   Column              Non-Null Count  Dtype  \n",
      "---  ------              --------------  -----  \n",
      " 0   frame               6409 non-null   float64\n",
      " 1   x [nm]              6409 non-null   float64\n",
      " 2   y [nm]              6409 non-null   float64\n",
      " 3   sigma [nm]          6409 non-null   float64\n",
      " 4   intensity [photon]  6409 non-null   float64\n",
      " 5   offset [photon]     6409 non-null   float64\n",
      " 6   bkgstd [photon]     6409 non-null   float64\n",
      " 7   chi2                6409 non-null   float64\n",
      " 8   uncertainty [nm]    6409 non-null   float64\n",
      "dtypes: float64(9)\n",
      "memory usage: 450.8 KB\n",
      "None\n",
      "<class 'pandas.core.frame.DataFrame'>\n",
      "RangeIndex: 8459 entries, 0 to 8458\n",
      "Data columns (total 9 columns):\n",
      " #   Column              Non-Null Count  Dtype  \n",
      "---  ------              --------------  -----  \n",
      " 0   frame               8459 non-null   float64\n",
      " 1   x [nm]              8459 non-null   float64\n",
      " 2   y [nm]              8459 non-null   float64\n",
      " 3   sigma [nm]          8459 non-null   float64\n",
      " 4   intensity [photon]  8459 non-null   float64\n",
      " 5   offset [photon]     8459 non-null   float64\n",
      " 6   bkgstd [photon]     8459 non-null   float64\n",
      " 7   chi2                8459 non-null   float64\n",
      " 8   uncertainty [nm]    8459 non-null   float64\n",
      "dtypes: float64(9)\n",
      "memory usage: 594.9 KB\n",
      "None\n",
      "<class 'pandas.core.frame.DataFrame'>\n",
      "RangeIndex: 9850 entries, 0 to 9849\n",
      "Data columns (total 9 columns):\n",
      " #   Column              Non-Null Count  Dtype  \n",
      "---  ------              --------------  -----  \n",
      " 0   frame               9850 non-null   float64\n",
      " 1   x [nm]              9850 non-null   float64\n",
      " 2   y [nm]              9850 non-null   float64\n",
      " 3   sigma [nm]          9850 non-null   float64\n",
      " 4   intensity [photon]  9850 non-null   float64\n",
      " 5   offset [photon]     9850 non-null   float64\n",
      " 6   bkgstd [photon]     9850 non-null   float64\n",
      " 7   chi2                9850 non-null   float64\n",
      " 8   uncertainty [nm]    9850 non-null   float64\n",
      "dtypes: float64(9)\n",
      "memory usage: 692.7 KB\n",
      "None\n",
      "<class 'pandas.core.frame.DataFrame'>\n",
      "RangeIndex: 6141 entries, 0 to 6140\n",
      "Data columns (total 9 columns):\n",
      " #   Column              Non-Null Count  Dtype  \n",
      "---  ------              --------------  -----  \n",
      " 0   frame               6141 non-null   float64\n",
      " 1   x [nm]              6141 non-null   float64\n",
      " 2   y [nm]              6141 non-null   float64\n",
      " 3   sigma [nm]          6141 non-null   float64\n",
      " 4   intensity [photon]  6141 non-null   float64\n",
      " 5   offset [photon]     6141 non-null   float64\n",
      " 6   bkgstd [photon]     6141 non-null   float64\n",
      " 7   chi2                6141 non-null   float64\n",
      " 8   uncertainty [nm]    6141 non-null   float64\n",
      "dtypes: float64(9)\n",
      "memory usage: 431.9 KB\n",
      "None\n",
      "<class 'pandas.core.frame.DataFrame'>\n",
      "RangeIndex: 9252 entries, 0 to 9251\n",
      "Data columns (total 9 columns):\n",
      " #   Column              Non-Null Count  Dtype  \n",
      "---  ------              --------------  -----  \n",
      " 0   frame               9252 non-null   float64\n",
      " 1   x [nm]              9252 non-null   float64\n",
      " 2   y [nm]              9252 non-null   float64\n",
      " 3   sigma [nm]          9252 non-null   float64\n",
      " 4   intensity [photon]  9252 non-null   float64\n",
      " 5   offset [photon]     9252 non-null   float64\n",
      " 6   bkgstd [photon]     9252 non-null   float64\n",
      " 7   chi2                9252 non-null   float64\n",
      " 8   uncertainty [nm]    9252 non-null   float64\n",
      "dtypes: float64(9)\n",
      "memory usage: 650.7 KB\n",
      "None\n",
      "<class 'pandas.core.frame.DataFrame'>\n",
      "RangeIndex: 13719 entries, 0 to 13718\n",
      "Data columns (total 9 columns):\n",
      " #   Column              Non-Null Count  Dtype  \n",
      "---  ------              --------------  -----  \n",
      " 0   frame               13719 non-null  float64\n",
      " 1   x [nm]              13719 non-null  float64\n",
      " 2   y [nm]              13719 non-null  float64\n",
      " 3   sigma [nm]          13719 non-null  float64\n",
      " 4   intensity [photon]  13719 non-null  float64\n",
      " 5   offset [photon]     13719 non-null  float64\n",
      " 6   bkgstd [photon]     13719 non-null  float64\n",
      " 7   chi2                13719 non-null  float64\n",
      " 8   uncertainty [nm]    13719 non-null  float64\n",
      "dtypes: float64(9)\n",
      "memory usage: 964.7 KB\n",
      "None\n",
      "<class 'pandas.core.frame.DataFrame'>\n",
      "RangeIndex: 10682 entries, 0 to 10681\n",
      "Data columns (total 9 columns):\n",
      " #   Column              Non-Null Count  Dtype  \n",
      "---  ------              --------------  -----  \n",
      " 0   frame               10682 non-null  float64\n",
      " 1   x [nm]              10682 non-null  float64\n",
      " 2   y [nm]              10682 non-null  float64\n",
      " 3   sigma [nm]          10682 non-null  float64\n",
      " 4   intensity [photon]  10682 non-null  float64\n",
      " 5   offset [photon]     10682 non-null  float64\n",
      " 6   bkgstd [photon]     10682 non-null  float64\n",
      " 7   chi2                10682 non-null  float64\n",
      " 8   uncertainty [nm]    10682 non-null  float64\n",
      "dtypes: float64(9)\n",
      "memory usage: 751.2 KB\n",
      "None\n",
      "<class 'pandas.core.frame.DataFrame'>\n",
      "RangeIndex: 10677 entries, 0 to 10676\n",
      "Data columns (total 9 columns):\n",
      " #   Column              Non-Null Count  Dtype  \n",
      "---  ------              --------------  -----  \n",
      " 0   frame               10677 non-null  float64\n",
      " 1   x [nm]              10677 non-null  float64\n",
      " 2   y [nm]              10677 non-null  float64\n",
      " 3   sigma [nm]          10677 non-null  float64\n",
      " 4   intensity [photon]  10677 non-null  float64\n",
      " 5   offset [photon]     10677 non-null  float64\n",
      " 6   bkgstd [photon]     10677 non-null  float64\n",
      " 7   chi2                10677 non-null  float64\n",
      " 8   uncertainty [nm]    10677 non-null  float64\n",
      "dtypes: float64(9)\n",
      "memory usage: 750.9 KB\n",
      "None\n",
      "<class 'pandas.core.frame.DataFrame'>\n",
      "RangeIndex: 7926 entries, 0 to 7925\n",
      "Data columns (total 9 columns):\n",
      " #   Column              Non-Null Count  Dtype  \n",
      "---  ------              --------------  -----  \n",
      " 0   frame               7926 non-null   float64\n",
      " 1   x [nm]              7926 non-null   float64\n",
      " 2   y [nm]              7926 non-null   float64\n",
      " 3   sigma [nm]          7926 non-null   float64\n",
      " 4   intensity [photon]  7926 non-null   float64\n",
      " 5   offset [photon]     7926 non-null   float64\n",
      " 6   bkgstd [photon]     7926 non-null   float64\n",
      " 7   chi2                7926 non-null   float64\n",
      " 8   uncertainty [nm]    7926 non-null   float64\n",
      "dtypes: float64(9)\n",
      "memory usage: 557.4 KB\n",
      "None\n",
      "<class 'pandas.core.frame.DataFrame'>\n",
      "RangeIndex: 3934 entries, 0 to 3933\n",
      "Data columns (total 9 columns):\n",
      " #   Column              Non-Null Count  Dtype  \n",
      "---  ------              --------------  -----  \n",
      " 0   frame               3934 non-null   float64\n",
      " 1   x [nm]              3934 non-null   float64\n",
      " 2   y [nm]              3934 non-null   float64\n",
      " 3   sigma [nm]          3934 non-null   float64\n",
      " 4   intensity [photon]  3934 non-null   float64\n",
      " 5   offset [photon]     3934 non-null   float64\n",
      " 6   bkgstd [photon]     3934 non-null   float64\n",
      " 7   chi2                3934 non-null   float64\n",
      " 8   uncertainty [nm]    3934 non-null   float64\n",
      "dtypes: float64(9)\n",
      "memory usage: 276.7 KB\n",
      "None\n",
      "<class 'pandas.core.frame.DataFrame'>\n",
      "RangeIndex: 8505 entries, 0 to 8504\n",
      "Data columns (total 9 columns):\n",
      " #   Column              Non-Null Count  Dtype  \n",
      "---  ------              --------------  -----  \n",
      " 0   frame               8505 non-null   float64\n",
      " 1   x [nm]              8505 non-null   float64\n",
      " 2   y [nm]              8505 non-null   float64\n",
      " 3   sigma [nm]          8505 non-null   float64\n",
      " 4   intensity [photon]  8505 non-null   float64\n",
      " 5   offset [photon]     8505 non-null   float64\n",
      " 6   bkgstd [photon]     8505 non-null   float64\n",
      " 7   chi2                8505 non-null   float64\n",
      " 8   uncertainty [nm]    8505 non-null   float64\n",
      "dtypes: float64(9)\n",
      "memory usage: 598.1 KB\n",
      "None\n",
      "<class 'pandas.core.frame.DataFrame'>\n",
      "RangeIndex: 8870 entries, 0 to 8869\n",
      "Data columns (total 9 columns):\n",
      " #   Column              Non-Null Count  Dtype  \n",
      "---  ------              --------------  -----  \n",
      " 0   frame               8870 non-null   float64\n",
      " 1   x [nm]              8870 non-null   float64\n",
      " 2   y [nm]              8870 non-null   float64\n",
      " 3   sigma [nm]          8870 non-null   float64\n",
      " 4   intensity [photon]  8870 non-null   float64\n",
      " 5   offset [photon]     8870 non-null   float64\n",
      " 6   bkgstd [photon]     8870 non-null   float64\n",
      " 7   chi2                8870 non-null   float64\n",
      " 8   uncertainty [nm]    8870 non-null   float64\n",
      "dtypes: float64(9)\n",
      "memory usage: 623.8 KB\n",
      "None\n",
      "       frame        x [nm]        y [nm]  sigma [nm]  intensity [photon]  \\\n",
      "0        1.0    114.074313   5610.171815   27.340693        46230.273151   \n",
      "1        1.0    125.672663    345.098887   28.913571       156484.645605   \n",
      "2        1.0    118.598824   7094.063738   23.865888       195391.516147   \n",
      "3        1.0    116.689335   9255.076748   27.204099       171178.934670   \n",
      "4        1.0    107.044190  14998.678533   25.784547       120390.867474   \n",
      "...      ...           ...           ...         ...                 ...   \n",
      "13714    1.0  46512.648638  17590.824174   42.604419       155853.383454   \n",
      "13715    1.0  46518.450886  17923.696073   29.126754        42024.438982   \n",
      "13716    1.0  46547.953791   8196.228257   24.690536       131211.398270   \n",
      "13717    1.0  46559.695352  10966.981057   20.701093        33897.998923   \n",
      "13718    1.0  46562.499146   8799.345880   24.235521        35080.671448   \n",
      "\n",
      "       offset [photon]  bkgstd [photon]          chi2  uncertainty [nm]  \n",
      "0         0.000000e+00       543.974862   7432.605687          2.226334  \n",
      "1         4.240426e-09      1716.392972  29740.028215          2.318201  \n",
      "2         4.091492e+01      1588.878219  12691.944027          1.171673  \n",
      "3         2.314255e+02      2144.667982  44465.629826          2.343879  \n",
      "4         1.046344e+02       776.189589   7399.170008          1.085779  \n",
      "...                ...              ...           ...               ...  \n",
      "13714     1.480882e-09       694.316920   7920.519193          2.046185  \n",
      "13715     2.647033e-09       264.107576   3791.240322          1.354988  \n",
      "13716     2.979360e+01      1307.738015  11059.727344          1.536877  \n",
      "13717     2.587872e+01       221.481590   3677.868779          0.717057  \n",
      "13718     5.122394e-11       555.566648   9985.074204          2.354209  \n",
      "\n",
      "[13719 rows x 9 columns]\n"
     ]
    }
   ],
   "source": [
    "#For each classifier, list all the .csv files in the Tstorm folder\n",
    "folder_paths = C_folders #list with all folders that have control data\n",
    "file_type = '.csv'\n",
    "\n",
    "# Use the os.listdir() function to list all folders in each path in the list of paths\n",
    "C_subfolders = []\n",
    "C_TStormResults_all = []\n",
    "for folder_path in folder_paths:\n",
    "    folder_path = folder_path+\"TStorm\"\n",
    "    files_and_subfolders = os.listdir(folder_path)\n",
    "    subfolders = [file for file in files_and_subfolders if os.path.isdir(os.path.join(folder_path, file))]\n",
    "    print(subfolders)\n",
    "    C_subfolders = C_subfolders + [subfolders] #list of lists of subfolders for each Control data folder\n",
    "\n",
    "# Use a list comprehension to filter out files that do not match the file type\n",
    "    for subfolder in subfolders:\n",
    "        files = os.listdir(os.path.join(folder_path, subfolder))\n",
    "        print(files)\n",
    "        match_files = [file for file in files if file.endswith(file_type)]\n",
    "# Print the list of matching files\n",
    "        print(match_files)\n",
    "        C_TStorm_Temp = []\n",
    "        C_TStormResults = []\n",
    "        for file in match_files:\n",
    "            temp = pd.read_csv(os.path.join(folder_path, subfolder, file))\n",
    "            print(temp.info())\n",
    "            C_TStorm_Temp = C_TStorm_Temp + [temp] #list of databases for subfolder\n",
    "        C_TStormResults = C_TStormResults +[C_TStorm_Temp]  #list of lists of pandas databases with TStorm results for each\n",
    "    C_TStormResults_all = C_TStormResults_all + [C_TStormResults]\n",
    "\n",
    "print(C_TStormResults_all[0][0][5])\n",
    "\n",
    "\n",
    "                                                         \n",
    "            \n",
    "            \n"
   ]
  },
  {
   "cell_type": "code",
   "execution_count": 331,
   "id": "0612aa43-5a2d-4727-bc90-aa86b6c4b073",
   "metadata": {},
   "outputs": [],
   "source": [
    "df_4AP_4mM_1 = pd.read_csv('/Users/Stephanie/Library/CloudStorage/OneDrive-TheUniversityofColoradoDenver/STED_FultonR_final_20210409/STED_deconv_10iter_seg1_TStorm1/4AP_4mM_1_deconv_10_TStorm1.csv')\n",
    "df_4AP_4mM_2 = pd.read_csv('/Users/Stephanie/Library/CloudStorage/OneDrive-TheUniversityofColoradoDenver/STED_FultonR_final_20210409/STED_deconv_10iter_seg1_TStorm1/4AP_4mM_2_deconv_10_TStorm1.csv')\n",
    "df_4AP_4mM_3 = pd.read_csv('/Users/Stephanie/Library/CloudStorage/OneDrive-TheUniversityofColoradoDenver/STED_FultonR_final_20210409/STED_deconv_10iter_seg1_TStorm1/4AP_4mM_3_deconv_10_TStorm1.csv')\n",
    "df_4AP_4mM_4 = pd.read_csv('/Users/Stephanie/Library/CloudStorage/OneDrive-TheUniversityofColoradoDenver/STED_FultonR_final_20210409/STED_deconv_10iter_seg1_TStorm1/4AP_4mM_4_deconv_10_TStorm1.csv')\n",
    "df_4AP_4mM_5 = pd.read_csv('/Users/Stephanie/Library/CloudStorage/OneDrive-TheUniversityofColoradoDenver/STED_FultonR_final_20210409/STED_deconv_10iter_seg1_TStorm1/4AP_4mM_5_deconv_10_TStorm1.csv')"
   ]
  },
  {
   "cell_type": "code",
   "execution_count": 332,
   "id": "8e187e48-63e2-46a8-a91c-230d2f6c195f",
   "metadata": {},
   "outputs": [],
   "source": [
    "df_4AP_control_1 = pd.read_csv('/Users/Stephanie/Library/CloudStorage/OneDrive-TheUniversityofColoradoDenver/STED_FultonR_final_20210409/STED_deconv_10iter_seg1_TStorm1/4AP_control_1_deconv_10_TStorm1.csv')\n",
    "df_4AP_control_2 = pd.read_csv('/Users/Stephanie/Library/CloudStorage/OneDrive-TheUniversityofColoradoDenver/STED_FultonR_final_20210409/STED_deconv_10iter_seg1_TStorm1/4AP_control_2_deconv_10_TStorm1.csv')\n",
    "df_4AP_control_3 = pd.read_csv('/Users/Stephanie/Library/CloudStorage/OneDrive-TheUniversityofColoradoDenver/STED_FultonR_final_20210409/STED_deconv_10iter_seg1_TStorm1/4AP_control_3_deconv_10_TStorm1.csv')\n",
    "df_4AP_control_4 = pd.read_csv('/Users/Stephanie/Library/CloudStorage/OneDrive-TheUniversityofColoradoDenver/STED_FultonR_final_20210409/STED_deconv_10iter_seg1_TStorm1/4AP_control_4_deconv_10_TStorm1.csv')\n",
    "df_4AP_control_5 = pd.read_csv('/Users/Stephanie/Library/CloudStorage/OneDrive-TheUniversityofColoradoDenver/STED_FultonR_final_20210409/STED_deconv_10iter_seg1_TStorm1/4AP_control_5_deconv_10_TStorm1.csv')"
   ]
  },
  {
   "cell_type": "code",
   "execution_count": 333,
   "id": "1b3d67e7-bef2-4e3a-a012-c771a657499e",
   "metadata": {},
   "outputs": [],
   "source": [
    "df_glutamate_0p1uM_1 = pd.read_csv('/Users/Stephanie/Library/CloudStorage/OneDrive-TheUniversityofColoradoDenver/STED_FultonR_final_20210409/STED_deconv_10iter_seg1_TStorm1/glutamate_0p1uM_1_deconv_10_TStorm1.csv')\n",
    "df_glutamate_0p1uM_2 = pd.read_csv('/Users/Stephanie/Library/CloudStorage/OneDrive-TheUniversityofColoradoDenver/STED_FultonR_final_20210409/STED_deconv_10iter_seg1_TStorm1/glutamate_0p1uM_2_deconv_10_TStorm1.csv')\n",
    "df_glutamate_0p1uM_3 = pd.read_csv('/Users/Stephanie/Library/CloudStorage/OneDrive-TheUniversityofColoradoDenver/STED_FultonR_final_20210409/STED_deconv_10iter_seg1_TStorm1/glutamate_0p1uM_3_deconv_10_TStorm1.csv')\n",
    "df_glutamate_0p1uM_4 = pd.read_csv('/Users/Stephanie/Library/CloudStorage/OneDrive-TheUniversityofColoradoDenver/STED_FultonR_final_20210409/STED_deconv_10iter_seg1_TStorm1/glutamate_0p1uM_4_deconv_10_TStorm1.csv')\n",
    "df_glutamate_0p1uM_5 = pd.read_csv('/Users/Stephanie/Library/CloudStorage/OneDrive-TheUniversityofColoradoDenver/STED_FultonR_final_20210409/STED_deconv_10iter_seg1_TStorm1/glutamate_0p1uM_5_deconv_10_TStorm1.csv')"
   ]
  },
  {
   "cell_type": "code",
   "execution_count": 334,
   "id": "c65c87fb-abfa-4002-84d6-3eada91fe56c",
   "metadata": {},
   "outputs": [],
   "source": [
    "df_glutamate_control_1 = pd.read_csv('/Users/Stephanie/Library/CloudStorage/OneDrive-TheUniversityofColoradoDenver/STED_FultonR_final_20210409/STED_deconv_10iter_seg1_TStorm1/glutamate_control_1_deconv_10_TStorm1.csv')\n",
    "df_glutamate_control_2 = pd.read_csv('/Users/Stephanie/Library/CloudStorage/OneDrive-TheUniversityofColoradoDenver/STED_FultonR_final_20210409/STED_deconv_10iter_seg1_TStorm1/glutamate_control_2_deconv_10_TStorm1.csv')\n",
    "df_glutamate_control_3 = pd.read_csv('/Users/Stephanie/Library/CloudStorage/OneDrive-TheUniversityofColoradoDenver/STED_FultonR_final_20210409/STED_deconv_10iter_seg1_TStorm1/glutamate_control_3_deconv_10_TStorm1.csv')\n",
    "df_glutamate_control_4 = pd.read_csv('/Users/Stephanie/Library/CloudStorage/OneDrive-TheUniversityofColoradoDenver/STED_FultonR_final_20210409/STED_deconv_10iter_seg1_TStorm1/glutamate_control_4_deconv_10_TStorm1.csv')\n",
    "df_glutamate_control_5 = pd.read_csv('/Users/Stephanie/Library/CloudStorage/OneDrive-TheUniversityofColoradoDenver/STED_FultonR_final_20210409/STED_deconv_10iter_seg1_TStorm1/glutamate_control_5_deconv_10_TStorm1.csv')"
   ]
  },
  {
   "cell_type": "code",
   "execution_count": 335,
   "id": "24446951-5be7-453a-8b7a-5019ff84d1fb",
   "metadata": {},
   "outputs": [
    {
     "data": {
      "text/html": [
       "<div>\n",
       "<style scoped>\n",
       "    .dataframe tbody tr th:only-of-type {\n",
       "        vertical-align: middle;\n",
       "    }\n",
       "\n",
       "    .dataframe tbody tr th {\n",
       "        vertical-align: top;\n",
       "    }\n",
       "\n",
       "    .dataframe thead th {\n",
       "        text-align: right;\n",
       "    }\n",
       "</style>\n",
       "<table border=\"1\" class=\"dataframe\">\n",
       "  <thead>\n",
       "    <tr style=\"text-align: right;\">\n",
       "      <th></th>\n",
       "      <th>id</th>\n",
       "      <th>frame</th>\n",
       "      <th>x [nm]</th>\n",
       "      <th>y [nm]</th>\n",
       "      <th>sigma [nm]</th>\n",
       "      <th>intensity [photon]</th>\n",
       "      <th>offset [photon]</th>\n",
       "      <th>bkgstd [photon]</th>\n",
       "      <th>uncertainty [nm]</th>\n",
       "    </tr>\n",
       "  </thead>\n",
       "  <tbody>\n",
       "    <tr>\n",
       "      <th>0</th>\n",
       "      <td>1.0</td>\n",
       "      <td>1.0</td>\n",
       "      <td>90.969748</td>\n",
       "      <td>9059.325328</td>\n",
       "      <td>36.566546</td>\n",
       "      <td>401104.345544</td>\n",
       "      <td>6.101616e-06</td>\n",
       "      <td>4991.943561</td>\n",
       "      <td>4.205333</td>\n",
       "    </tr>\n",
       "    <tr>\n",
       "      <th>1</th>\n",
       "      <td>2.0</td>\n",
       "      <td>1.0</td>\n",
       "      <td>107.353146</td>\n",
       "      <td>11637.561925</td>\n",
       "      <td>29.065654</td>\n",
       "      <td>25986.592325</td>\n",
       "      <td>3.143694e-10</td>\n",
       "      <td>545.869455</td>\n",
       "      <td>4.487891</td>\n",
       "    </tr>\n",
       "    <tr>\n",
       "      <th>2</th>\n",
       "      <td>3.0</td>\n",
       "      <td>1.0</td>\n",
       "      <td>113.354460</td>\n",
       "      <td>12185.406431</td>\n",
       "      <td>33.343629</td>\n",
       "      <td>200835.290914</td>\n",
       "      <td>1.863189e-06</td>\n",
       "      <td>4065.500630</td>\n",
       "      <td>5.687433</td>\n",
       "    </tr>\n",
       "    <tr>\n",
       "      <th>3</th>\n",
       "      <td>4.0</td>\n",
       "      <td>1.0</td>\n",
       "      <td>184.990523</td>\n",
       "      <td>12964.563831</td>\n",
       "      <td>40.166659</td>\n",
       "      <td>76220.904552</td>\n",
       "      <td>1.144780e-07</td>\n",
       "      <td>835.383485</td>\n",
       "      <td>4.470502</td>\n",
       "    </tr>\n",
       "    <tr>\n",
       "      <th>4</th>\n",
       "      <td>5.0</td>\n",
       "      <td>1.0</td>\n",
       "      <td>145.138806</td>\n",
       "      <td>8927.422212</td>\n",
       "      <td>25.289741</td>\n",
       "      <td>108061.970620</td>\n",
       "      <td>4.699717e+03</td>\n",
       "      <td>1627.467235</td>\n",
       "      <td>2.435198</td>\n",
       "    </tr>\n",
       "  </tbody>\n",
       "</table>\n",
       "</div>"
      ],
      "text/plain": [
       "    id  frame      x [nm]        y [nm]  sigma [nm]  intensity [photon]  \\\n",
       "0  1.0    1.0   90.969748   9059.325328   36.566546       401104.345544   \n",
       "1  2.0    1.0  107.353146  11637.561925   29.065654        25986.592325   \n",
       "2  3.0    1.0  113.354460  12185.406431   33.343629       200835.290914   \n",
       "3  4.0    1.0  184.990523  12964.563831   40.166659        76220.904552   \n",
       "4  5.0    1.0  145.138806   8927.422212   25.289741       108061.970620   \n",
       "\n",
       "   offset [photon]  bkgstd [photon]  uncertainty [nm]  \n",
       "0     6.101616e-06      4991.943561          4.205333  \n",
       "1     3.143694e-10       545.869455          4.487891  \n",
       "2     1.863189e-06      4065.500630          5.687433  \n",
       "3     1.144780e-07       835.383485          4.470502  \n",
       "4     4.699717e+03      1627.467235          2.435198  "
      ]
     },
     "execution_count": 335,
     "metadata": {},
     "output_type": "execute_result"
    }
   ],
   "source": [
    "df_glutamate_control_1.head()"
   ]
  },
  {
   "cell_type": "markdown",
   "id": "17abd729-1164-4b58-975d-ce379020526c",
   "metadata": {},
   "source": [
    "## Start with keeping the ROI's separate to see if they look very different, since lots of heterogeneity is seen in the different cells in the paper Ruth sent.  Probably need a lot more data to see this with statistical relevance if it's even an effect in our cells though.."
   ]
  },
  {
   "cell_type": "markdown",
   "id": "de47a436-664d-43cb-858f-82ad4fdd45a8",
   "metadata": {},
   "source": [
    "### 4AP Mean FWHM of Thunderstorm fits"
   ]
  },
  {
   "cell_type": "code",
   "execution_count": 336,
   "id": "a6fd1406-bd67-4dc0-869e-1f4bcb63df65",
   "metadata": {
    "tags": []
   },
   "outputs": [
    {
     "name": "stdout",
     "output_type": "stream",
     "text": [
      "38.9  +/-  16.9\n",
      "38.8  +/-  16.6\n",
      "38.0  +/-  17.2\n",
      "39.3  +/-  16.7\n",
      "37.0  +/-  15.5\n"
     ]
    }
   ],
   "source": [
    "df_4AP_4mM_1_sigma_mean = df_4AP_4mM_1.mean()['sigma [nm]']\n",
    "df_4AP_4mM_1_sigma_std = df_4AP_4mM_1.std()['sigma [nm]']\n",
    "df_4AP_4mM_2_sigma_mean = df_4AP_4mM_2.mean()['sigma [nm]']\n",
    "df_4AP_4mM_2_sigma_std = df_4AP_4mM_2.std()['sigma [nm]']\n",
    "df_4AP_4mM_3_sigma_mean = df_4AP_4mM_3.mean()['sigma [nm]']\n",
    "df_4AP_4mM_3_sigma_std = df_4AP_4mM_3.std()['sigma [nm]']\n",
    "df_4AP_4mM_4_sigma_mean = df_4AP_4mM_4.mean()['sigma [nm]']\n",
    "df_4AP_4mM_4_sigma_std = df_4AP_4mM_4.std()['sigma [nm]']\n",
    "df_4AP_4mM_5_sigma_mean = df_4AP_4mM_5.mean()['sigma [nm]']\n",
    "df_4AP_4mM_5_sigma_std = df_4AP_4mM_5.std()['sigma [nm]']\n",
    "print(f'{df_4AP_4mM_1_sigma_mean:.1f}', ' +/- ', f'{df_4AP_4mM_1_sigma_std:.1f}')\n",
    "print(f'{df_4AP_4mM_2_sigma_mean:.1f}', ' +/- ', f'{df_4AP_4mM_2_sigma_std:.1f}')\n",
    "print(f'{df_4AP_4mM_3_sigma_mean:.1f}', ' +/- ', f'{df_4AP_4mM_3_sigma_std:.1f}')\n",
    "print(f'{df_4AP_4mM_4_sigma_mean:.1f}', ' +/- ', f'{df_4AP_4mM_4_sigma_std:.1f}')\n",
    "print(f'{df_4AP_4mM_5_sigma_mean:.1f}', ' +/- ', f'{df_4AP_4mM_5_sigma_std:.1f}')"
   ]
  },
  {
   "cell_type": "markdown",
   "id": "b3866b8f-ffed-4c05-a3ed-fb6f669463b4",
   "metadata": {},
   "source": [
    "### 4AP Boxplots"
   ]
  },
  {
   "cell_type": "code",
   "execution_count": 337,
   "id": "aa06ad1c-7d75-4aa8-98d7-90cca7bf5a4b",
   "metadata": {},
   "outputs": [
    {
     "data": {
      "image/png": "[encoded data removed]",
      "text/plain": [
       "<Figure size 432x288 with 1 Axes>"
      ]
     },
     "metadata": {
      "needs_background": "light"
     },
     "output_type": "display_data"
    }
   ],
   "source": [
    "data = [df_4AP_4mM_1['sigma [nm]'], df_4AP_4mM_2['sigma [nm]'],df_4AP_4mM_3['sigma [nm]'],df_4AP_4mM_4['sigma [nm]'],df_4AP_4mM_5['sigma [nm]']]\n",
    "fig1, ax1 = plt.subplots()\n",
    "ax1.set_title('4AP 4mM Tom20')\n",
    "ax1.set_xlabel('ROI #')\n",
    "ax1.boxplot(data)\n",
    "ax1.set_ylabel('Fit FWHM of Tom20 clusters (nm)')\n",
    "plt.show()"
   ]
  },
  {
   "cell_type": "markdown",
   "id": "47d22445-6df3-429d-b7de-ac8c2bd3df54",
   "metadata": {},
   "source": [
    "### 4AP Controls Mean FWHM of Thunderstorm fits"
   ]
  },
  {
   "cell_type": "code",
   "execution_count": 338,
   "id": "35ebcb39-14f9-443b-8b89-65e8a534dcc9",
   "metadata": {},
   "outputs": [
    {
     "name": "stdout",
     "output_type": "stream",
     "text": [
      "35.8  +/-  13.3\n",
      "33.9  +/-  11.5\n",
      "36.2  +/-  12.8\n",
      "36.3  +/-  15.1\n",
      "33.6  +/-  12.7\n"
     ]
    }
   ],
   "source": [
    "df_4AP_control_1_sigma_mean = df_4AP_control_1.mean()['sigma [nm]']\n",
    "df_4AP_control_1_sigma_std = df_4AP_control_1.std()['sigma [nm]']\n",
    "df_4AP_control_2_sigma_mean = df_4AP_control_2.mean()['sigma [nm]']\n",
    "df_4AP_control_2_sigma_std = df_4AP_control_2.std()['sigma [nm]']\n",
    "df_4AP_control_3_sigma_mean = df_4AP_control_3.mean()['sigma [nm]']\n",
    "df_4AP_control_3_sigma_std = df_4AP_control_3.std()['sigma [nm]']\n",
    "df_4AP_control_4_sigma_mean = df_4AP_control_4.mean()['sigma [nm]']\n",
    "df_4AP_control_4_sigma_std = df_4AP_control_4.std()['sigma [nm]']\n",
    "df_4AP_control_5_sigma_mean = df_4AP_control_5.mean()['sigma [nm]']\n",
    "df_4AP_control_5_sigma_std = df_4AP_control_5.std()['sigma [nm]']\n",
    "print(f'{df_4AP_control_1_sigma_mean:.1f}', ' +/- ', f'{df_4AP_control_1_sigma_std:.1f}')\n",
    "print(f'{df_4AP_control_2_sigma_mean:.1f}', ' +/- ', f'{df_4AP_control_2_sigma_std:.1f}')\n",
    "print(f'{df_4AP_control_3_sigma_mean:.1f}', ' +/- ', f'{df_4AP_control_3_sigma_std:.1f}')\n",
    "print(f'{df_4AP_control_4_sigma_mean:.1f}', ' +/- ', f'{df_4AP_control_4_sigma_std:.1f}')\n",
    "print(f'{df_4AP_control_5_sigma_mean:.1f}', ' +/- ', f'{df_4AP_control_5_sigma_std:.1f}')"
   ]
  },
  {
   "cell_type": "markdown",
   "id": "61204ccb-26f7-46f7-bc55-ded38fb3795b",
   "metadata": {},
   "source": [
    "### 4AP Controls Boxplot"
   ]
  },
  {
   "cell_type": "code",
   "execution_count": 339,
   "id": "4c18f305-47f4-4302-81ae-f57c438e6ed5",
   "metadata": {},
   "outputs": [
    {
     "data": {
      "image/png": "[encoded data removed]",
      "text/plain": [
       "<Figure size 432x288 with 1 Axes>"
      ]
     },
     "metadata": {
      "needs_background": "light"
     },
     "output_type": "display_data"
    }
   ],
   "source": [
    "data = [df_4AP_control_1['sigma [nm]'], df_4AP_control_2['sigma [nm]'],df_4AP_control_3['sigma [nm]'],df_4AP_control_4['sigma [nm]'],df_4AP_control_5['sigma [nm]']]\n",
    "fig1, ax1 = plt.subplots()\n",
    "ax1.set_title('4AP Control  Tom20')\n",
    "ax1.set_xlabel('ROI #')\n",
    "ax1.boxplot(data)\n",
    "ax1.set_ylabel('Fit FWHM of Tom20 clusters (nm)')\n",
    "plt.show()"
   ]
  },
  {
   "cell_type": "markdown",
   "id": "8c083d72-dc01-4200-bcbc-46610d3e1df9",
   "metadata": {},
   "source": [
    "### Glutamate Mean FWHM of Thunderstorm fits"
   ]
  },
  {
   "cell_type": "code",
   "execution_count": 340,
   "id": "710f1aad-dbce-4bd2-b56a-8476957a2b7e",
   "metadata": {},
   "outputs": [
    {
     "name": "stdout",
     "output_type": "stream",
     "text": [
      "35.9  +/-  13.5\n",
      "34.8  +/-  13.4\n",
      "31.8  +/-  12.2\n",
      "35.7  +/-  13.5\n",
      "36.2  +/-  13.8\n"
     ]
    }
   ],
   "source": [
    "df_glutamate_0p1uM_1_sigma_mean = df_glutamate_0p1uM_1.mean()['sigma [nm]']\n",
    "df_glutamate_0p1uM_1_sigma_std = df_glutamate_0p1uM_1.std()['sigma [nm]']\n",
    "df_glutamate_0p1uM_2_sigma_mean = df_glutamate_0p1uM_2.mean()['sigma [nm]']\n",
    "df_glutamate_0p1uM_2_sigma_std = df_glutamate_0p1uM_2.std()['sigma [nm]']\n",
    "df_glutamate_0p1uM_3_sigma_mean = df_glutamate_0p1uM_3.mean()['sigma [nm]']\n",
    "df_glutamate_0p1uM_3_sigma_std = df_glutamate_0p1uM_3.std()['sigma [nm]']\n",
    "df_glutamate_0p1uM_4_sigma_mean = df_glutamate_0p1uM_4.mean()['sigma [nm]']\n",
    "df_glutamate_0p1uM_4_sigma_std = df_glutamate_0p1uM_4.std()['sigma [nm]']\n",
    "df_glutamate_0p1uM_5_sigma_mean = df_glutamate_0p1uM_5.mean()['sigma [nm]']\n",
    "df_glutamate_0p1uM_5_sigma_std = df_glutamate_0p1uM_5.std()['sigma [nm]']\n",
    "print(f'{df_glutamate_0p1uM_1_sigma_mean:.1f}', ' +/- ', f'{df_glutamate_0p1uM_1_sigma_std:.1f}')\n",
    "print(f'{df_glutamate_0p1uM_2_sigma_mean:.1f}', ' +/- ', f'{df_glutamate_0p1uM_2_sigma_std:.1f}')\n",
    "print(f'{df_glutamate_0p1uM_3_sigma_mean:.1f}', ' +/- ', f'{df_glutamate_0p1uM_3_sigma_std:.1f}')\n",
    "print(f'{df_glutamate_0p1uM_4_sigma_mean:.1f}', ' +/- ', f'{df_glutamate_0p1uM_4_sigma_std:.1f}')\n",
    "print(f'{df_glutamate_0p1uM_5_sigma_mean:.1f}', ' +/- ', f'{df_glutamate_0p1uM_5_sigma_std:.1f}')"
   ]
  },
  {
   "cell_type": "markdown",
   "id": "ba13438c-bc35-44e5-8ae9-dba6d697ea92",
   "metadata": {},
   "source": [
    "### Glutamate Boxplots"
   ]
  },
  {
   "cell_type": "code",
   "execution_count": 341,
   "id": "b332ce0b-325c-4f27-9e43-0cafd9790e69",
   "metadata": {},
   "outputs": [
    {
     "data": {
      "image/png": "[encoded data removed]",
      "text/plain": [
       "<Figure size 432x288 with 1 Axes>"
      ]
     },
     "metadata": {
      "needs_background": "light"
     },
     "output_type": "display_data"
    }
   ],
   "source": [
    "data = [df_glutamate_0p1uM_1['sigma [nm]'], df_glutamate_0p1uM_2['sigma [nm]'],df_glutamate_0p1uM_3['sigma [nm]'],df_glutamate_0p1uM_4['sigma [nm]'],df_glutamate_0p1uM_5['sigma [nm]']]\n",
    "fig1, ax1 = plt.subplots()\n",
    "ax1.set_title('Glutamate 0.1 um Tom20')\n",
    "ax1.set_xlabel('ROI #')\n",
    "ax1.boxplot(data)\n",
    "ax1.set_ylabel('Fit FWHM of Tom20 clusters (nm)')\n",
    "plt.show()"
   ]
  },
  {
   "cell_type": "markdown",
   "id": "b1a54381-eb67-4cf7-83a1-8669f9049fd0",
   "metadata": {},
   "source": [
    "###  Glutmate Controls Mean FWHM of Thunderstorm fits"
   ]
  },
  {
   "cell_type": "code",
   "execution_count": 342,
   "id": "bc590830-c96a-4831-9c82-cc4122889053",
   "metadata": {},
   "outputs": [
    {
     "name": "stdout",
     "output_type": "stream",
     "text": [
      "40.8  +/-  17.4\n",
      "40.7  +/-  15.3\n",
      "36.2  +/-  14.1\n",
      "35.3  +/-  13.1\n",
      "38.8  +/-  15.6\n"
     ]
    }
   ],
   "source": [
    "df_glutamate_control_1_sigma_mean = df_glutamate_control_1.mean()['sigma [nm]']\n",
    "df_glutamate_control_1_sigma_std = df_glutamate_control_1.std()['sigma [nm]']\n",
    "df_glutamate_control_2_sigma_mean = df_glutamate_control_2.mean()['sigma [nm]']\n",
    "df_glutamate_control_2_sigma_std = df_glutamate_control_2.std()['sigma [nm]']\n",
    "df_glutamate_control_3_sigma_mean = df_glutamate_control_3.mean()['sigma [nm]']\n",
    "df_glutamate_control_3_sigma_std = df_glutamate_control_3.std()['sigma [nm]']\n",
    "df_glutamate_control_4_sigma_mean = df_glutamate_control_4.mean()['sigma [nm]']\n",
    "df_glutamate_control_4_sigma_std = df_glutamate_control_4.std()['sigma [nm]']\n",
    "df_glutamate_control_5_sigma_mean = df_glutamate_control_5.mean()['sigma [nm]']\n",
    "df_glutamate_control_5_sigma_std = df_glutamate_control_5.std()['sigma [nm]']\n",
    "print(f'{df_glutamate_control_1_sigma_mean:.1f}', ' +/- ', f'{df_glutamate_control_1_sigma_std:.1f}')\n",
    "print(f'{df_glutamate_control_2_sigma_mean:.1f}', ' +/- ', f'{df_glutamate_control_2_sigma_std:.1f}')\n",
    "print(f'{df_glutamate_control_3_sigma_mean:.1f}', ' +/- ', f'{df_glutamate_control_3_sigma_std:.1f}')\n",
    "print(f'{df_glutamate_control_4_sigma_mean:.1f}', ' +/- ', f'{df_glutamate_control_4_sigma_std:.1f}')\n",
    "print(f'{df_glutamate_control_5_sigma_mean:.1f}', ' +/- ', f'{df_glutamate_control_5_sigma_std:.1f}')"
   ]
  },
  {
   "cell_type": "markdown",
   "id": "02f4c4c5-8457-40da-a6f6-fd22e5a90a49",
   "metadata": {},
   "source": [
    "### Glutamate Controls Boxplot"
   ]
  },
  {
   "cell_type": "code",
   "execution_count": 343,
   "id": "3e1ab1c8-2104-4aef-9fd0-6af89510fd83",
   "metadata": {},
   "outputs": [
    {
     "data": {
      "image/png": "[encoded data removed]",
      "text/plain": [
       "<Figure size 432x288 with 1 Axes>"
      ]
     },
     "metadata": {
      "needs_background": "light"
     },
     "output_type": "display_data"
    }
   ],
   "source": [
    "data = [df_glutamate_control_1['sigma [nm]'], df_glutamate_control_2['sigma [nm]'],df_glutamate_control_3['sigma [nm]'],df_glutamate_control_4['sigma [nm]'],df_glutamate_control_5['sigma [nm]']]\n",
    "fig1, ax1 = plt.subplots()\n",
    "ax1.set_title('Glutamate Control Tom20')\n",
    "ax1.set_xlabel('ROI #')\n",
    "ax1.boxplot(data)\n",
    "ax1.set_ylabel('Fit FWHM of Tom20 clusters (nm)')\n",
    "plt.show()"
   ]
  },
  {
   "cell_type": "markdown",
   "id": "c6724942-1ded-4279-83c1-513f90de3cfc",
   "metadata": {
    "tags": []
   },
   "source": [
    "## Now combine the data from each condition."
   ]
  },
  {
   "cell_type": "code",
   "execution_count": 344,
   "id": "e232d4b6-d98a-424d-8095-ee73588a17ae",
   "metadata": {},
   "outputs": [
    {
     "name": "stdout",
     "output_type": "stream",
     "text": [
      "4AP 4mM sigma mean +/- std\n",
      "38.4  +/-  16.6\n"
     ]
    }
   ],
   "source": [
    "df_4AP_4mM = df_4AP_4mM_1.append(df_4AP_4mM_2, sort=False, ignore_index=True)\n",
    "df_4AP_4mM = df_4AP_4mM.append(df_4AP_4mM_3, sort=False, ignore_index=True)\n",
    "df_4AP_4mM = df_4AP_4mM.append(df_4AP_4mM_4, sort=False, ignore_index=True)\n",
    "df_4AP_4mM = df_4AP_4mM.append(df_4AP_4mM_5, sort=False, ignore_index=True)\n",
    "df_4AP_4mM_sigma_mean = df_4AP_4mM.mean()['sigma [nm]']\n",
    "df_4AP_4mM_sigma_std = df_4AP_4mM.std()['sigma [nm]']\n",
    "print('4AP 4mM sigma mean +/- std')\n",
    "print(f'{df_4AP_4mM_sigma_mean:.1f}', ' +/- ', f'{df_4AP_4mM_sigma_std:.1f}')"
   ]
  },
  {
   "cell_type": "code",
   "execution_count": 345,
   "id": "63fa833f-d308-43b1-9f3f-63e4515ea252",
   "metadata": {},
   "outputs": [
    {
     "name": "stdout",
     "output_type": "stream",
     "text": [
      "4AP Control sigma mean +/- std\n",
      "35.5  +/-  13.7\n"
     ]
    }
   ],
   "source": [
    "df_4AP_control = df_4AP_control_1.append(df_4AP_control_2, sort=False, ignore_index=True)\n",
    "df_4AP_control = df_4AP_control.append(df_4AP_control_3, sort=False, ignore_index=True)\n",
    "df_4AP_control = df_4AP_control.append(df_4AP_control_4, sort=False, ignore_index=True)\n",
    "df_4AP_control = df_4AP_control.append(df_4AP_control_5, sort=False, ignore_index=True)\n",
    "df_4AP_control_sigma_mean = df_4AP_control.mean()['sigma [nm]']\n",
    "df_4AP_control_sigma_std = df_4AP_control.std()['sigma [nm]']\n",
    "print('4AP Control sigma mean +/- std')\n",
    "print(f'{df_4AP_control_sigma_mean:.1f}', ' +/- ', f'{df_4AP_control_sigma_std:.1f}')"
   ]
  },
  {
   "cell_type": "code",
   "execution_count": 346,
   "id": "834a0516-7521-403d-8219-347ab771ea1a",
   "metadata": {},
   "outputs": [
    {
     "name": "stdout",
     "output_type": "stream",
     "text": [
      "Glutamate 0.1 uM sigma mean +/- std\n",
      "35.4  +/-  13.5\n"
     ]
    }
   ],
   "source": [
    "df_glutamate_0p1uM = df_glutamate_0p1uM_1.append(df_glutamate_0p1uM_2, sort=False, ignore_index=True)\n",
    "df_glutamate_0p1uM = df_glutamate_0p1uM.append(df_glutamate_0p1uM_3, sort=False, ignore_index=True)\n",
    "df_glutamate_0p1uM = df_glutamate_0p1uM.append(df_glutamate_0p1uM_4, sort=False, ignore_index=True)\n",
    "df_glutamate_0p1uM = df_glutamate_0p1uM.append(df_glutamate_0p1uM_5, sort=False, ignore_index=True)\n",
    "df_glutamate_0p1uM_sigma_mean = df_glutamate_0p1uM.mean()['sigma [nm]']\n",
    "df_glutamate_0p1uM_sigma_std = df_glutamate_0p1uM.std()['sigma [nm]']\n",
    "print('Glutamate 0.1 uM sigma mean +/- std')\n",
    "print(f'{df_glutamate_0p1uM_sigma_mean:.1f}', ' +/- ', f'{df_glutamate_0p1uM_sigma_std:.1f}')"
   ]
  },
  {
   "cell_type": "code",
   "execution_count": 347,
   "id": "07967d08-5729-4dd7-83c1-d26de4b8bbf8",
   "metadata": {},
   "outputs": [
    {
     "name": "stdout",
     "output_type": "stream",
     "text": [
      "Glutamate Control sigma mean +/- std\n",
      "38.4  +/-  15.4\n"
     ]
    }
   ],
   "source": [
    "df_glutamate_control = df_glutamate_control_1.append(df_glutamate_control_2, sort=False, ignore_index=True)\n",
    "df_glutamate_control = df_glutamate_control.append(df_glutamate_control_3, sort=False, ignore_index=True)\n",
    "df_glutamate_control = df_glutamate_control.append(df_glutamate_control_4, sort=False, ignore_index=True)\n",
    "df_glutamate_control = df_glutamate_control.append(df_glutamate_control_5, sort=False, ignore_index=True)\n",
    "df_glutamate_control_sigma_mean = df_glutamate_control.mean()['sigma [nm]']\n",
    "df_glutamate_control_sigma_std = df_glutamate_control.std()['sigma [nm]']\n",
    "print('Glutamate Control sigma mean +/- std')\n",
    "print(f'{df_glutamate_control_sigma_mean:.1f}', ' +/- ', f'{df_glutamate_control_sigma_std:.1f}')"
   ]
  },
  {
   "cell_type": "code",
   "execution_count": 348,
   "id": "c1b5840b-7d3d-4b8d-ba4e-10dc3ae9fe92",
   "metadata": {},
   "outputs": [
    {
     "data": {
      "image/png": "[encoded data removed]",
      "text/plain": [
       "<Figure size 432x288 with 1 Axes>"
      ]
     },
     "metadata": {
      "needs_background": "light"
     },
     "output_type": "display_data"
    }
   ],
   "source": [
    "data = [df_4AP_4mM['sigma [nm]'], df_4AP_control['sigma [nm]'],df_glutamate_0p1uM['sigma [nm]'],df_glutamate_control['sigma [nm]']]\n",
    "fig1, ax1 = plt.subplots()\n",
    "ax1.set_title('Comparing conditions, combining all ROIs')\n",
    "ax1.boxplot(data, labels=['4AP','4AP control','glutamate','glutamate control'])\n",
    "ax1.set_ylim([0,100])\n",
    "ax1.set_ylabel('Fit FWHM of Tom20 clusters (nm)')\n",
    "plt.show()"
   ]
  },
  {
   "cell_type": "markdown",
   "id": "5817dd93-7baa-4574-ae50-834f44de89d2",
   "metadata": {},
   "source": [
    "# Now find the spot density by using the Mitos masks"
   ]
  },
  {
   "cell_type": "code",
   "execution_count": 349,
   "id": "619ab21d-4011-473e-a67c-3d080e2a605d",
   "metadata": {},
   "outputs": [],
   "source": [
    "mask_4AP_4mM_1 = plt.imread('/Users/Stephanie/Library/CloudStorage/OneDrive-TheUniversityofColoradoDenver/STED_FultonR_final_20210409/STED_deconv_10iter_seg1_FilledOpenMasks/4AP_4mM_1_deconv_10_ClassifierResult.tif')/255\n",
    "mask_4AP_4mM_2 = plt.imread('/Users/Stephanie/Library/CloudStorage/OneDrive-TheUniversityofColoradoDenver/STED_FultonR_final_20210409/STED_deconv_10iter_seg1_FilledOpenMasks/4AP_4mM_2_deconv_10_ClassifierResult.tif')/255\n",
    "mask_4AP_4mM_3 = plt.imread('/Users/Stephanie/Library/CloudStorage/OneDrive-TheUniversityofColoradoDenver/STED_FultonR_final_20210409/STED_deconv_10iter_seg1_FilledOpenMasks/4AP_4mM_3_deconv_10_ClassifierResult.tif')/255\n",
    "mask_4AP_4mM_4 = plt.imread('/Users/Stephanie/Library/CloudStorage/OneDrive-TheUniversityofColoradoDenver/STED_FultonR_final_20210409/STED_deconv_10iter_seg1_FilledOpenMasks/4AP_4mM_4_deconv_10_ClassifierResult.tif')/255\n",
    "mask_4AP_4mM_5 = plt.imread('/Users/Stephanie/Library/CloudStorage/OneDrive-TheUniversityofColoradoDenver/STED_FultonR_final_20210409/STED_deconv_10iter_seg1_FilledOpenMasks/4AP_4mM_5_deconv_10_ClassifierResult.tif')/255"
   ]
  },
  {
   "cell_type": "code",
   "execution_count": 350,
   "id": "c0016971-6c55-4492-8080-7a209e648828",
   "metadata": {},
   "outputs": [],
   "source": [
    "mask_4AP_control_1 = plt.imread('/Users/Stephanie/Library/CloudStorage/OneDrive-TheUniversityofColoradoDenver/STED_FultonR_final_20210409/STED_deconv_10iter_seg1_FilledOpenMasks/4AP_control_1_deconv_10_ClassifierResult.tif')/255\n",
    "mask_4AP_control_2 = plt.imread('/Users/Stephanie/Library/CloudStorage/OneDrive-TheUniversityofColoradoDenver/STED_FultonR_final_20210409/STED_deconv_10iter_seg1_FilledOpenMasks/4AP_control_2_deconv_10_ClassifierResult.tif')/255\n",
    "mask_4AP_control_3 = plt.imread('/Users/Stephanie/Library/CloudStorage/OneDrive-TheUniversityofColoradoDenver/STED_FultonR_final_20210409/STED_deconv_10iter_seg1_FilledOpenMasks/4AP_control_3_deconv_10_ClassifierResult.tif')/255\n",
    "mask_4AP_control_4 = plt.imread('/Users/Stephanie/Library/CloudStorage/OneDrive-TheUniversityofColoradoDenver/STED_FultonR_final_20210409/STED_deconv_10iter_seg1_FilledOpenMasks/4AP_control_4_deconv_10_ClassifierResult.tif')/255\n",
    "mask_4AP_control_5 = plt.imread('/Users/Stephanie/Library/CloudStorage/OneDrive-TheUniversityofColoradoDenver/STED_FultonR_final_20210409/STED_deconv_10iter_seg1_FilledOpenMasks/4AP_control_5_deconv_10_ClassifierResult.tif')/255"
   ]
  },
  {
   "cell_type": "code",
   "execution_count": 351,
   "id": "0e703915-0e7b-477c-8dc3-4d3a4bbdf554",
   "metadata": {},
   "outputs": [],
   "source": [
    "mask_glutamate_0p1uM_1 = plt.imread('/Users/Stephanie/Library/CloudStorage/OneDrive-TheUniversityofColoradoDenver/STED_FultonR_final_20210409/STED_deconv_10iter_seg1_FilledOpenMasks/glutamate_0p1uM_1_deconv_10_ClassifierResult.tif')/255\n",
    "mask_glutamate_0p1uM_2 = plt.imread('/Users/Stephanie/Library/CloudStorage/OneDrive-TheUniversityofColoradoDenver/STED_FultonR_final_20210409/STED_deconv_10iter_seg1_FilledOpenMasks/glutamate_0p1uM_2_deconv_10_ClassifierResult.tif')/255\n",
    "mask_glutamate_0p1uM_3 = plt.imread('/Users/Stephanie/Library/CloudStorage/OneDrive-TheUniversityofColoradoDenver/STED_FultonR_final_20210409/STED_deconv_10iter_seg1_FilledOpenMasks/glutamate_0p1uM_3_deconv_10_ClassifierResult.tif')/255\n",
    "mask_glutamate_0p1uM_4 = plt.imread('/Users/Stephanie/Library/CloudStorage/OneDrive-TheUniversityofColoradoDenver/STED_FultonR_final_20210409/STED_deconv_10iter_seg1_FilledOpenMasks/glutamate_0p1uM_4_deconv_10_ClassifierResult.tif')/255\n",
    "mask_glutamate_0p1uM_5 = plt.imread('/Users/Stephanie/Library/CloudStorage/OneDrive-TheUniversityofColoradoDenver/STED_FultonR_final_20210409/STED_deconv_10iter_seg1_FilledOpenMasks/glutamate_0p1uM_5_deconv_10_ClassifierResult.tif')/255"
   ]
  },
  {
   "cell_type": "code",
   "execution_count": 352,
   "id": "4353b74f-cb25-4bc1-b496-0f8c878825de",
   "metadata": {},
   "outputs": [],
   "source": [
    "mask_glutamate_control_1 = plt.imread('/Users/Stephanie/Library/CloudStorage/OneDrive-TheUniversityofColoradoDenver/STED_FultonR_final_20210409/STED_deconv_10iter_seg1_FilledOpenMasks/glutamate_control_1_deconv_10_ClassifierResult.tif')/255\n",
    "mask_glutamate_control_2 = plt.imread('/Users/Stephanie/Library/CloudStorage/OneDrive-TheUniversityofColoradoDenver/STED_FultonR_final_20210409/STED_deconv_10iter_seg1_FilledOpenMasks/glutamate_control_2_deconv_10_ClassifierResult.tif')/255\n",
    "mask_glutamate_control_3 = plt.imread('/Users/Stephanie/Library/CloudStorage/OneDrive-TheUniversityofColoradoDenver/STED_FultonR_final_20210409/STED_deconv_10iter_seg1_FilledOpenMasks/glutamate_control_3_deconv_10_ClassifierResult.tif')/255\n",
    "mask_glutamate_control_4 = plt.imread('/Users/Stephanie/Library/CloudStorage/OneDrive-TheUniversityofColoradoDenver/STED_FultonR_final_20210409/STED_deconv_10iter_seg1_FilledOpenMasks/glutamate_control_4_deconv_10_ClassifierResult.tif')/255\n",
    "mask_glutamate_control_5 = plt.imread('/Users/Stephanie/Library/CloudStorage/OneDrive-TheUniversityofColoradoDenver/STED_FultonR_final_20210409/STED_deconv_10iter_seg1_FilledOpenMasks/glutamate_control_5_deconv_10_ClassifierResult.tif')/255"
   ]
  },
  {
   "cell_type": "markdown",
   "id": "e2e1c82d-3993-467a-b0e9-ac255d80bd0f",
   "metadata": {
    "tags": []
   },
   "source": [
    "### Find the total area of mitos in spots per pixel of mitos.\n",
    "Scale to spots/micron^2 by dividing by 1 pixel/(.020 um)^2"
   ]
  },
  {
   "cell_type": "code",
   "execution_count": 355,
   "id": "cabc5fdc-8b9a-4512-88b9-7f4d330c8e4f",
   "metadata": {},
   "outputs": [],
   "source": [
    "dens_4AP_4mM_1 = (df_4AP_4mM_1.shape[0]/np.sum(mask_4AP_4mM_1))/(0.02**2)\n",
    "dens_4AP_4mM_2 = (df_4AP_4mM_2.shape[0]/np.sum(mask_4AP_4mM_2))/(0.02**2)\n",
    "dens_4AP_4mM_3 = (df_4AP_4mM_3.shape[0]/np.sum(mask_4AP_4mM_3))/(0.02**2)\n",
    "dens_4AP_4mM_4 = (df_4AP_4mM_4.shape[0]/np.sum(mask_4AP_4mM_4))/(0.02**2)\n",
    "dens_4AP_4mM_5 = (df_4AP_4mM_5.shape[0]/np.sum(mask_4AP_4mM_5))/(0.02**2)\n",
    "#print((df_4AP_4mM_1.shape[0]/np.sum(mask_4AP_4mM_1) + df_4AP_4mM_2.shape[0]/np.sum(mask_4AP_4mM_2)+df_4AP_4mM_3.shape[0]/np.sum(mask_4AP_4mM_3)+df_4AP_4mM_4.shape[0]/np.sum(mask_4AP_4mM_4)+df_4AP_4mM_5.shape[0]/np.sum(mask_4AP_4mM_5))/5)"
   ]
  },
  {
   "cell_type": "code",
   "execution_count": 357,
   "id": "078d76ce-fb92-4a76-ab64-e29264f5f865",
   "metadata": {},
   "outputs": [
    {
     "name": "stdout",
     "output_type": "stream",
     "text": [
      "51.40522498855801\n",
      "47.148409733670086\n",
      "49.71953085160632\n",
      "56.24963355287588\n",
      "52.33065755009265\n",
      "51.3706913353606\n"
     ]
    }
   ],
   "source": [
    "print(dens_4AP_4mM_1)\n",
    "print(dens_4AP_4mM_2)\n",
    "print(dens_4AP_4mM_3)\n",
    "print(dens_4AP_4mM_4)\n",
    "print(dens_4AP_4mM_5)\n",
    "print((dens_4AP_4mM_1+dens_4AP_4mM_2+dens_4AP_4mM_3+dens_4AP_4mM_4+dens_4AP_4mM_5)/5)"
   ]
  },
  {
   "cell_type": "code",
   "execution_count": 358,
   "id": "349fdbae-67f7-4413-a431-fb9688b1fd21",
   "metadata": {
    "tags": []
   },
   "outputs": [],
   "source": [
    "dens_4AP_control_1 = (df_4AP_control_1.shape[0]/np.sum(mask_4AP_control_1))/(0.02**2)\n",
    "dens_4AP_control_2 = (df_4AP_control_2.shape[0]/np.sum(mask_4AP_control_2))/(0.02**2)\n",
    "dens_4AP_control_3 = (df_4AP_control_3.shape[0]/np.sum(mask_4AP_control_3))/(0.02**2)\n",
    "dens_4AP_control_4 = (df_4AP_control_4.shape[0]/np.sum(mask_4AP_control_4))/(0.02**2)\n",
    "dens_4AP_control_5 = (df_4AP_control_5.shape[0]/np.sum(mask_4AP_control_5))/(0.02**2)"
   ]
  },
  {
   "cell_type": "code",
   "execution_count": 359,
   "id": "b29f0897-12a1-4c89-9f67-1baabf9c6d9f",
   "metadata": {},
   "outputs": [
    {
     "name": "stdout",
     "output_type": "stream",
     "text": [
      "61.53059697770684\n",
      "71.35302876386356\n",
      "64.76325687735084\n",
      "50.572447306263065\n",
      "69.45488178507428\n",
      "63.53484234205172\n"
     ]
    }
   ],
   "source": [
    "print(dens_4AP_control_1)\n",
    "print(dens_4AP_control_2)\n",
    "print(dens_4AP_control_3)\n",
    "print(dens_4AP_control_4)\n",
    "print(dens_4AP_control_5)\n",
    "print((dens_4AP_control_1+dens_4AP_control_2+dens_4AP_control_3+dens_4AP_control_4+dens_4AP_control_5)/5)"
   ]
  },
  {
   "cell_type": "code",
   "execution_count": 360,
   "id": "2c62ce4e-536f-4a84-97e0-4fab64844b92",
   "metadata": {},
   "outputs": [],
   "source": [
    "dens_glutamate_0p1uM_1 = (df_glutamate_0p1uM_1.shape[0]/np.sum(mask_glutamate_0p1uM_1))/(0.02**2)\n",
    "dens_glutamate_0p1uM_2 = (df_glutamate_0p1uM_2.shape[0]/np.sum(mask_glutamate_0p1uM_2))/(0.02**2)\n",
    "dens_glutamate_0p1uM_3 = (df_glutamate_0p1uM_3.shape[0]/np.sum(mask_glutamate_0p1uM_3))/(0.02**2)\n",
    "dens_glutamate_0p1uM_4 = (df_glutamate_0p1uM_4.shape[0]/np.sum(mask_glutamate_0p1uM_4))/(0.02**2)\n",
    "dens_glutamate_0p1uM_5 = (df_glutamate_0p1uM_5.shape[0]/np.sum(mask_glutamate_0p1uM_5))/(0.02**2)"
   ]
  },
  {
   "cell_type": "code",
   "execution_count": 361,
   "id": "da979b9c-6b0a-48b6-84e6-f2d1dfb5aed3",
   "metadata": {},
   "outputs": [
    {
     "name": "stdout",
     "output_type": "stream",
     "text": [
      "59.60011225983601\n",
      "68.10516633450867\n",
      "90.36537625054372\n",
      "61.644763582170434\n",
      "58.98678162015755\n",
      "67.74044000944328\n"
     ]
    }
   ],
   "source": [
    "print(dens_glutamate_0p1uM_1)\n",
    "print(dens_glutamate_0p1uM_2)\n",
    "print(dens_glutamate_0p1uM_3)\n",
    "print(dens_glutamate_0p1uM_4)\n",
    "print(dens_glutamate_0p1uM_5)\n",
    "print((dens_glutamate_0p1uM_1+dens_glutamate_0p1uM_2+dens_glutamate_0p1uM_3+dens_glutamate_0p1uM_4+dens_glutamate_0p1uM_5)/5)"
   ]
  },
  {
   "cell_type": "code",
   "execution_count": 362,
   "id": "a6be131f-e035-4f08-a3d9-95e0273fafc9",
   "metadata": {},
   "outputs": [],
   "source": [
    "dens_glutamate_control_1 = (df_glutamate_control_1.shape[0]/np.sum(mask_glutamate_control_1))/(0.02**2)\n",
    "dens_glutamate_control_2 = (df_glutamate_control_2.shape[0]/np.sum(mask_glutamate_control_2))/(0.02**2)\n",
    "dens_glutamate_control_3 = (df_glutamate_control_3.shape[0]/np.sum(mask_glutamate_control_3))/(0.02**2)\n",
    "dens_glutamate_control_4 = (df_glutamate_control_4.shape[0]/np.sum(mask_glutamate_control_4))/(0.02**2)\n",
    "dens_glutamate_control_5 = (df_glutamate_control_5.shape[0]/np.sum(mask_glutamate_control_5))/(0.02**2)"
   ]
  },
  {
   "cell_type": "code",
   "execution_count": 363,
   "id": "0dafec8d-2f4c-4c09-9d54-569dbdd19dc9",
   "metadata": {},
   "outputs": [
    {
     "name": "stdout",
     "output_type": "stream",
     "text": [
      "46.57340694754262\n",
      "48.77445953691871\n",
      "57.45228290921101\n",
      "61.72934234655904\n",
      "49.13716085954765\n",
      "52.7333305199558\n"
     ]
    }
   ],
   "source": [
    "print(dens_glutamate_control_1)\n",
    "print(dens_glutamate_control_2)\n",
    "print(dens_glutamate_control_3)\n",
    "print(dens_glutamate_control_4)\n",
    "print(dens_glutamate_control_5)\n",
    "print((dens_glutamate_control_1+dens_glutamate_control_2+dens_glutamate_control_3+dens_glutamate_control_4+dens_glutamate_control_5)/5)"
   ]
  },
  {
   "cell_type": "markdown",
   "id": "8df8fe62-7246-4ff8-bd87-6ec451d909be",
   "metadata": {},
   "source": [
    "## Mitos variance of fluorescence\n",
    "From the Tom20 STED paper:\n",
    "\"Variance Analysis. To exclude an influence of the image segmen- tation process on the determined variance values, the local variance in the fluorescence intensity of raw STED images was calculated before image segmentation. To this end, the variance was determined in round ROIs with a diameter of seven pixels (∼140 nm). The resulting variance values were assigned to the central pixel of the analyzed ROI. To evaluate the results of the analysis independently from the absolute brightness of the struc- tures,\n",
    "theindividual variancevalues werenormalized to the\n",
    "squared average fluorescence intensity of the respective ROI. The variance calculation was repeated using each pixel successively as an ROI center, leading to an image in which each pixel represents the local variance. Finally, the mitochondria-containing fraction of the image was selected by image segmentation using masks as described above. Then, the median of the variance within the mitochondria was determined.\""
   ]
  },
  {
   "cell_type": "code",
   "execution_count": 4,
   "id": "4fb8d7e1-886b-47d6-ae0f-c3dec1aeb337",
   "metadata": {},
   "outputs": [],
   "source": [
    "raw_4AP_4mM_1 = plt.imread('/Users/Stephanie/Library/CloudStorage/OneDrive-TheUniversityofColoradoDenver/STED_FultonR_final_20210409/STED_raw/4AP_4mM_1_raw.tif')\n",
    "raw_4AP_4mM_2 = plt.imread('/Users/Stephanie/Library/CloudStorage/OneDrive-TheUniversityofColoradoDenver/STED_FultonR_final_20210409/STED_raw/4AP_4mM_2_raw.tif')\n",
    "raw_4AP_4mM_3 = plt.imread('/Users/Stephanie/Library/CloudStorage/OneDrive-TheUniversityofColoradoDenver/STED_FultonR_final_20210409/STED_raw/4AP_4mM_3_raw.tif')\n",
    "raw_4AP_4mM_4 = plt.imread('/Users/Stephanie/Library/CloudStorage/OneDrive-TheUniversityofColoradoDenver/STED_FultonR_final_20210409/STED_raw/4AP_4mM_4_raw.tif')\n",
    "raw_4AP_4mM_5 = plt.imread('/Users/Stephanie/Library/CloudStorage/OneDrive-TheUniversityofColoradoDenver/STED_FultonR_final_20210409/STED_raw/4AP_4mM_5_raw.tif')"
   ]
  },
  {
   "cell_type": "code",
   "execution_count": 5,
   "id": "e8ad9896-db88-4855-a383-ad4bcb5ace32",
   "metadata": {},
   "outputs": [],
   "source": [
    "raw_4AP_control_1 = plt.imread('/Users/Stephanie/Library/CloudStorage/OneDrive-TheUniversityofColoradoDenver/STED_FultonR_final_20210409/STED_raw/4AP_control_1_raw.tif')\n",
    "raw_4AP_control_2 = plt.imread('/Users/Stephanie/Library/CloudStorage/OneDrive-TheUniversityofColoradoDenver/STED_FultonR_final_20210409/STED_raw/4AP_control_2_raw.tif')\n",
    "raw_4AP_control_3 = plt.imread('/Users/Stephanie/Library/CloudStorage/OneDrive-TheUniversityofColoradoDenver/STED_FultonR_final_20210409/STED_raw/4AP_control_3_raw.tif')\n",
    "raw_4AP_control_4 = plt.imread('/Users/Stephanie/Library/CloudStorage/OneDrive-TheUniversityofColoradoDenver/STED_FultonR_final_20210409/STED_raw/4AP_control_4_raw.tif')\n",
    "raw_4AP_control_5 = plt.imread('/Users/Stephanie/Library/CloudStorage/OneDrive-TheUniversityofColoradoDenver/STED_FultonR_final_20210409/STED_raw/4AP_control_5_raw.tif')"
   ]
  },
  {
   "cell_type": "code",
   "execution_count": 6,
   "id": "639b5dc9-1e3a-4b0f-b1a1-652fb377f0d5",
   "metadata": {},
   "outputs": [],
   "source": [
    "raw_glutamate_0p1uM_1 = plt.imread('/Users/Stephanie/Library/CloudStorage/OneDrive-TheUniversityofColoradoDenver/STED_FultonR_final_20210409/STED_raw/glutamate_0p1uM_1_raw.tif')\n",
    "raw_glutamate_0p1uM_2 = plt.imread('/Users/Stephanie/Library/CloudStorage/OneDrive-TheUniversityofColoradoDenver/STED_FultonR_final_20210409/STED_raw/glutamate_0p1uM_2_raw.tif')\n",
    "raw_glutamate_0p1uM_3 = plt.imread('/Users/Stephanie/Library/CloudStorage/OneDrive-TheUniversityofColoradoDenver/STED_FultonR_final_20210409/STED_raw/glutamate_0p1uM_3_raw.tif')\n",
    "raw_glutamate_0p1uM_4 = plt.imread('/Users/Stephanie/Library/CloudStorage/OneDrive-TheUniversityofColoradoDenver/STED_FultonR_final_20210409/STED_raw/glutamate_0p1uM_4_raw.tif')\n",
    "raw_glutamate_0p1uM_5 = plt.imread('/Users/Stephanie/Library/CloudStorage/OneDrive-TheUniversityofColoradoDenver/STED_FultonR_final_20210409/STED_raw/glutamate_0p1uM_5_raw.tif')"
   ]
  },
  {
   "cell_type": "code",
   "execution_count": 7,
   "id": "d7025d56-503f-4b0f-92b3-87a71aececdd",
   "metadata": {},
   "outputs": [],
   "source": [
    "raw_glutamate_control_1 = plt.imread('/Users/Stephanie/Library/CloudStorage/OneDrive-TheUniversityofColoradoDenver/STED_FultonR_final_20210409/STED_raw/glutamate_control_1_raw.tif')\n",
    "raw_glutamate_control_2 = plt.imread('/Users/Stephanie/Library/CloudStorage/OneDrive-TheUniversityofColoradoDenver/STED_FultonR_final_20210409/STED_raw/glutamate_control_2_raw.tif')\n",
    "raw_glutamate_control_3 = plt.imread('/Users/Stephanie/Library/CloudStorage/OneDrive-TheUniversityofColoradoDenver/STED_FultonR_final_20210409/STED_raw/glutamate_control_3_raw.tif')\n",
    "raw_glutamate_control_4 = plt.imread('/Users/Stephanie/Library/CloudStorage/OneDrive-TheUniversityofColoradoDenver/STED_FultonR_final_20210409/STED_raw/glutamate_control_4_raw.tif')\n",
    "raw_glutamate_control_5 = plt.imread('/Users/Stephanie/Library/CloudStorage/OneDrive-TheUniversityofColoradoDenver/STED_FultonR_final_20210409/STED_raw/glutamate_control_5_raw.tif')"
   ]
  },
  {
   "cell_type": "code",
   "execution_count": 8,
   "id": "579516db-f16b-422d-bbf8-a2054d51eabf",
   "metadata": {},
   "outputs": [
    {
     "data": {
      "text/plain": [
       "<matplotlib.image.AxesImage at 0x7fb951259cd0>"
      ]
     },
     "execution_count": 8,
     "metadata": {},
     "output_type": "execute_result"
    },
    {
     "data": {
      "image/png": "[encoded data removed]",
      "text/plain": [
       "<Figure size 432x288 with 1 Axes>"
      ]
     },
     "metadata": {
      "needs_background": "light"
     },
     "output_type": "display_data"
    }
   ],
   "source": [
    "plt.imshow(raw_4AP_4mM_1)\n"
   ]
  },
  {
   "cell_type": "markdown",
   "id": "cef8aaac-99da-4ef3-8f46-04c7893bd4c9",
   "metadata": {},
   "source": [
    "At each point that is far enough from an edge\n",
    "select out the ROI values with pixel centers <= r+1/2 from (i,j)\n",
    "Take the variance\n",
    "put at the center pixel value for the new var matrix."
   ]
  },
  {
   "cell_type": "code",
   "execution_count": 122,
   "id": "4fe25b8c-881a-4030-8e0d-75f600b20c86",
   "metadata": {},
   "outputs": [],
   "source": [
    "# r must be positive\n",
    "### fluo_var_image generates an image of the variance of the fluorescence for an image with an ROI half radius, rounded down, of r.\n",
    "def fluo_var_image(image,r):\n",
    "    (xmax,ymax)=image.shape\n",
    "    var_image = np.zeros((xmax,ymax))\n",
    "    select_mat = np.zeros((2*r+1,2*r+1))\n",
    "    for p in range(2*r+1):\n",
    "        for q in range(2*r+1):\n",
    "            if (m.sqrt((p-(r))**2 + (q-(r))**2) <= (r+0.5)):\n",
    "                select_mat[p,q] = 1\n",
    "            else:\n",
    "                select_mat[p,q] = np.nan\n",
    "    for i in range(xmax):\n",
    "        for j in range(ymax):\n",
    "            if ((i-r) > 0 and (i+r) < (xmax-1)) and ((j-r) > 0 and (j+r) < (ymax-1)):\n",
    "               # roi = np.multiply(image[i-r:i+r+1,j-r:j+r+1],select_mat)\n",
    "                roi = np.multiply(image[i-r:i+r+1,j-r:j+r+1],select_mat)\n",
    "                var_image[i,j] = np.nanvar(roi)/(np.nanmean(roi)**2)\n",
    "    return var_image"
   ]
  },
  {
   "cell_type": "markdown",
   "id": "983d32e3-95a7-4f34-a2a1-bb9249526910",
   "metadata": {},
   "source": [
    "Check if it's all zeros or all ones that I get what I expect (zero and undefined)"
   ]
  },
  {
   "cell_type": "code",
   "execution_count": 123,
   "id": "cd9c564c-e549-4b4f-a701-c95c2cf5534b",
   "metadata": {},
   "outputs": [
    {
     "name": "stdout",
     "output_type": "stream",
     "text": [
      "[[0. 0. 0. ... 0. 0. 0.]\n",
      " [0. 0. 0. ... 0. 0. 0.]\n",
      " [0. 0. 0. ... 0. 0. 0.]\n",
      " ...\n",
      " [0. 0. 0. ... 0. 0. 0.]\n",
      " [0. 0. 0. ... 0. 0. 0.]\n",
      " [0. 0. 0. ... 0. 0. 0.]]\n"
     ]
    },
    {
     "name": "stderr",
     "output_type": "stream",
     "text": [
      "/var/folders/_n/8p0r8jdj1zl2x6wdg499kh000000gn/T/ipykernel_42404/1007249930.py:18: RuntimeWarning: invalid value encountered in double_scalars\n",
      "  var_image[i,j] = np.nanvar(roi)/(np.nanmean(roi)**2)\n"
     ]
    },
    {
     "name": "stdout",
     "output_type": "stream",
     "text": [
      "[[0. 0. 0. ... 0. 0. 0.]\n",
      " [0. 0. 0. ... 0. 0. 0.]\n",
      " [0. 0. 0. ... 0. 0. 0.]\n",
      " ...\n",
      " [0. 0. 0. ... 0. 0. 0.]\n",
      " [0. 0. 0. ... 0. 0. 0.]\n",
      " [0. 0. 0. ... 0. 0. 0.]]\n"
     ]
    }
   ],
   "source": [
    "test_ones = np.ones((128,128))\n",
    "test_zeros = np.zeros((128,128))\n",
    "print(fluo_var_image(test_ones,3))\n",
    "print(fluo_var_image(test_zeros,3))"
   ]
  },
  {
   "cell_type": "markdown",
   "id": "980478e8-8a57-46d6-8c1c-6133a93e9c72",
   "metadata": {
    "tags": []
   },
   "source": [
    "### Test on Random image"
   ]
  },
  {
   "cell_type": "code",
   "execution_count": 124,
   "id": "d2f6de6c-50b8-4229-b8e5-34bed80b544d",
   "metadata": {},
   "outputs": [],
   "source": [
    "a = np.random.rand(10000)\n",
    "a=50 * a\n",
    "image =np.reshape(a,(100,100))\n",
    "test = fluo_var_image(image, 3)"
   ]
  },
  {
   "cell_type": "markdown",
   "id": "51d10c4a-5bf3-41c7-a496-b6903ed61ab4",
   "metadata": {},
   "source": [
    "The Values I'm getting are all below one and most are closer to 0 than 1, as expected from a random number distribution on \\[0,1]"
   ]
  },
  {
   "cell_type": "code",
   "execution_count": 125,
   "id": "140dd10a-173d-483e-ada5-f39325533786",
   "metadata": {},
   "outputs": [
    {
     "name": "stderr",
     "output_type": "stream",
     "text": [
      "/var/folders/_n/8p0r8jdj1zl2x6wdg499kh000000gn/T/ipykernel_42404/2234150431.py:6: MatplotlibDeprecationWarning: Starting from Matplotlib 3.6, colorbar() will steal space from the mappable's axes, rather than from the current axes, to place the colorbar.  To silence this warning, explicitly pass the 'ax' argument to colorbar().\n",
      "  plt.colorbar(im1)\n"
     ]
    },
    {
     "data": {
      "image/png": "[encoded data removed]",
      "text/plain": [
       "<Figure size 1152x1152 with 3 Axes>"
      ]
     },
     "metadata": {
      "needs_background": "light"
     },
     "output_type": "display_data"
    }
   ],
   "source": [
    "fig, ax = plt.subplots(figsize=(16,16), nrows=1,ncols=2)\n",
    "plt.tight_layout() \n",
    "#Gaussian Excitation\n",
    "\n",
    "im1 = ax[0].imshow(test,cmap='jet'); ax[0].set_title('Random Data test')\n",
    "plt.colorbar(im1)\n",
    "plt.show()"
   ]
  },
  {
   "cell_type": "markdown",
   "id": "304801f0-7161-4b0e-8d80-6dc48694d135",
   "metadata": {},
   "source": [
    "### Now run calculation on the images.\n",
    "* First calcualte the normalized fluorescence image\n",
    "* Then use the mito mask to select only the normalized fluorescence values inside the mitos\n",
    "* Then calculate the median normalized fluorescence in each image and for each condition find the total median."
   ]
  },
  {
   "cell_type": "markdown",
   "id": "5fc8655c-888c-4d0e-a87a-6c7bce280319",
   "metadata": {},
   "source": [
    "### 4AP Normalized Variance of Fluorescence Calculation"
   ]
  },
  {
   "cell_type": "code",
   "execution_count": 126,
   "id": "ddca6184-761e-4c5f-9b01-10f70f0ecd4b",
   "metadata": {},
   "outputs": [],
   "source": [
    "normvar_4AP_4mM_1 = fluo_var_image(raw_4AP_4mM_1,3)"
   ]
  },
  {
   "cell_type": "code",
   "execution_count": 127,
   "id": "ddf3a2ff-26d3-4f53-a0ed-3de72a217af0",
   "metadata": {},
   "outputs": [],
   "source": [
    "normvar_4AP_4mM_2 = fluo_var_image(raw_4AP_4mM_2,3)"
   ]
  },
  {
   "cell_type": "code",
   "execution_count": 128,
   "id": "7487811e-5bb9-4f4b-804f-f8581f2cf20d",
   "metadata": {},
   "outputs": [],
   "source": [
    "normvar_4AP_4mM_3 = fluo_var_image(raw_4AP_4mM_3,3)"
   ]
  },
  {
   "cell_type": "code",
   "execution_count": 129,
   "id": "7a2a04ef-2316-4c64-ba46-f535be8e2527",
   "metadata": {},
   "outputs": [],
   "source": [
    "normvar_4AP_4mM_4 = fluo_var_image(raw_4AP_4mM_4,3)"
   ]
  },
  {
   "cell_type": "code",
   "execution_count": 130,
   "id": "6fdfa188-2c0e-487b-bfdb-d39f6dda64c6",
   "metadata": {},
   "outputs": [],
   "source": [
    "normvar_4AP_4mM_5 = fluo_var_image(raw_4AP_4mM_5,3)"
   ]
  },
  {
   "cell_type": "markdown",
   "id": "9273571b-492d-4290-a8af-a2707f8c4a50",
   "metadata": {},
   "source": [
    "### Ok find an array with values of normalized fluoresence for mitos after masking\n",
    "4AP_4mM"
   ]
  },
  {
   "cell_type": "code",
   "execution_count": 75,
   "id": "b9208a85-1aa6-49b6-8603-001b22476b20",
   "metadata": {},
   "outputs": [],
   "source": [
    "mask_4AP_4mM_1 = plt.imread('/Users/Stephanie/Library/CloudStorage/OneDrive-TheUniversityofColoradoDenver/STED_FultonR_final_20210409/STED_deconv_10iter_seg1_FilledOpenMasks/4AP_4mM_1_deconv_10_ClassifierResult.tif')\n",
    "mask_4AP_4mM_2 = plt.imread('/Users/Stephanie/Library/CloudStorage/OneDrive-TheUniversityofColoradoDenver/STED_FultonR_final_20210409/STED_deconv_10iter_seg1_FilledOpenMasks/4AP_4mM_2_deconv_10_ClassifierResult.tif')\n",
    "mask_4AP_4mM_3 = plt.imread('/Users/Stephanie/Library/CloudStorage/OneDrive-TheUniversityofColoradoDenver/STED_FultonR_final_20210409/STED_deconv_10iter_seg1_FilledOpenMasks/4AP_4mM_3_deconv_10_ClassifierResult.tif')\n",
    "mask_4AP_4mM_4 = plt.imread('/Users/Stephanie/Library/CloudStorage/OneDrive-TheUniversityofColoradoDenver/STED_FultonR_final_20210409/STED_deconv_10iter_seg1_FilledOpenMasks/4AP_4mM_4_deconv_10_ClassifierResult.tif')\n",
    "mask_4AP_4mM_5 = plt.imread('/Users/Stephanie/Library/CloudStorage/OneDrive-TheUniversityofColoradoDenver/STED_FultonR_final_20210409/STED_deconv_10iter_seg1_FilledOpenMasks/4AP_4mM_5_deconv_10_ClassifierResult.tif')"
   ]
  },
  {
   "cell_type": "markdown",
   "id": "f64d83d0-f60f-4674-99b9-3ad29e174d8d",
   "metadata": {},
   "source": [
    "Multiply normalized variance image by mask, then divide by 255 since it's 8-bit."
   ]
  },
  {
   "cell_type": "code",
   "execution_count": 131,
   "id": "d70a3f62-c827-4fcc-81c6-e231d2fd7b24",
   "metadata": {},
   "outputs": [],
   "source": [
    "nvarr_m_4AP_4mM_1 = np.multiply(mask_4AP_4mM_1,normvar_4AP_4mM_1)/255 #m=masked, f=final version with 0's removed\n",
    "nvarr_f_4AP_4mM_1 = nvarr_m_4AP_4mM_1[nvarr_m_4AP_4mM_1 != 0]\n",
    "nvarr_m_4AP_4mM_2 = np.multiply(mask_4AP_4mM_2, normvar_4AP_4mM_2)/255\n",
    "nvarr_f_4AP_4mM_2 = nvarr_m_4AP_4mM_2[nvarr_m_4AP_4mM_2 != 0]\n",
    "nvarr_m_4AP_4mM_3 = np.multiply(mask_4AP_4mM_3,normvar_4AP_4mM_3)/255\n",
    "nvarr_f_4AP_4mM_3 = nvarr_m_4AP_4mM_3[nvarr_m_4AP_4mM_3 != 0]\n",
    "nvarr_m_4AP_4mM_4 = np.multiply(mask_4AP_4mM_4,normvar_4AP_4mM_4)/255\n",
    "nvarr_f_4AP_4mM_4 = nvarr_m_4AP_4mM_4[nvarr_m_4AP_4mM_4 != 0]\n",
    "nvarr_m_4AP_4mM_5 = np.multiply(mask_4AP_4mM_5,normvar_4AP_4mM_5)/255\n",
    "nvarr_f_4AP_4mM_5 = nvarr_m_4AP_4mM_5[nvarr_m_4AP_4mM_5 != 0]"
   ]
  },
  {
   "cell_type": "code",
   "execution_count": 132,
   "id": "3757da9e-4fa5-4069-9f44-614ee1425493",
   "metadata": {},
   "outputs": [
    {
     "data": {
      "text/plain": [
       "(array([2.02817e+05, 5.69130e+04, 4.87100e+03, 1.50500e+03, 6.38000e+02,\n",
       "        2.06000e+02, 7.40000e+01, 3.40000e+01, 1.90000e+01, 2.00000e+00]),\n",
       " array([0.01483042, 0.15543722, 0.29604403, 0.43665083, 0.57725763,\n",
       "        0.71786443, 0.85847123, 0.99907803, 1.13968483, 1.28029164,\n",
       "        1.42089844]),\n",
       " <BarContainer object of 10 artists>)"
      ]
     },
     "execution_count": 132,
     "metadata": {},
     "output_type": "execute_result"
    },
    {
     "data": {
      "image/png": "[encoded data removed]",
      "text/plain": [
       "<Figure size 432x288 with 1 Axes>"
      ]
     },
     "metadata": {
      "needs_background": "light"
     },
     "output_type": "display_data"
    }
   ],
   "source": [
    "#nvarr_f_4AP_4mM_1.shape\n",
    "x = np.arange(0,267079, 1)\n",
    "plt.hist(nvarr_f_4AP_4mM_1)"
   ]
  },
  {
   "cell_type": "code",
   "execution_count": 133,
   "id": "3ae8db9d-fe17-4447-8a3a-fa7b8022c9d4",
   "metadata": {},
   "outputs": [
    {
     "data": {
      "image/png": "[encoded data removed]",
      "text/plain": [
       "<Figure size 1152x576 with 5 Axes>"
      ]
     },
     "metadata": {
      "needs_background": "light"
     },
     "output_type": "display_data"
    }
   ],
   "source": [
    "#data = [df_glutamate_control_1['sigma [nm]'], df_glutamate_control_2['sigma [nm]'],df_glutamate_control_3['sigma [nm]'],df_glutamate_control_4['sigma [nm]'],df_glutamate_control_5['sigma [nm]']]\n",
    "fig1, ax1 = plt.subplots(figsize=(16,8), nrows=1,ncols=5)\n",
    "ax1[0].set_title('4AP 4mM Tom20')\n",
    "ax1[0].set_xlabel('1')\n",
    "ax1[0].boxplot(nvarr_f_4AP_4mM_1)\n",
    "ax1[0].set_ylabel('Normalized Fluorescence')\n",
    "ax1[1].set_xlabel('2')\n",
    "ax1[1].boxplot(nvarr_f_4AP_4mM_2)\n",
    "ax1[2].set_xlabel('3')\n",
    "ax1[2].boxplot(nvarr_f_4AP_4mM_3)\n",
    "ax1[3].set_xlabel('4')\n",
    "ax1[3].boxplot(nvarr_f_4AP_4mM_4)\n",
    "ax1[4].set_xlabel('5')\n",
    "ax1[4].boxplot(nvarr_f_4AP_4mM_5)\n",
    "plt.show()"
   ]
  },
  {
   "cell_type": "code",
   "execution_count": 134,
   "id": "923eb80e-3fbd-48b5-9121-bf4ea8d18b92",
   "metadata": {},
   "outputs": [
    {
     "name": "stdout",
     "output_type": "stream",
     "text": [
      "0.11305840059435475\n",
      "0.11722973754191236\n",
      "0.1185429715518706\n",
      "0.11711540304517204\n",
      "0.1303799904532115\n"
     ]
    }
   ],
   "source": [
    "print(np.median(nvarr_f_4AP_4mM_1))\n",
    "print(np.median(nvarr_f_4AP_4mM_2))\n",
    "print(np.median(nvarr_f_4AP_4mM_3))\n",
    "print(np.median(nvarr_f_4AP_4mM_4))\n",
    "print(np.median(nvarr_f_4AP_4mM_5))"
   ]
  },
  {
   "cell_type": "code",
   "execution_count": 137,
   "id": "51009619-5524-4192-a092-7349460681e3",
   "metadata": {},
   "outputs": [
    {
     "name": "stdout",
     "output_type": "stream",
     "text": [
      "0.07510264696275525\n",
      "0.0947317371784894\n",
      "0.2245933342291721\n",
      "0.059147944748770304\n",
      "0.23608146862381962\n"
     ]
    }
   ],
   "source": [
    "print(np.std(nvarr_f_4AP_4mM_1))\n",
    "print(np.std(nvarr_f_4AP_4mM_2))\n",
    "print(np.std(nvarr_f_4AP_4mM_3))\n",
    "print(np.std(nvarr_f_4AP_4mM_4))\n",
    "print(np.std(nvarr_f_4AP_4mM_5))"
   ]
  },
  {
   "cell_type": "markdown",
   "id": "3617b370-a4b2-4c07-beee-849bf528ee28",
   "metadata": {},
   "source": [
    "Wait a second, the standard deviation is higher than the median for some of these images's normalized fluorescence values!  Weird.  It's for the images where there are values really far from the median...might want to throw away some outliers but how to decide?"
   ]
  },
  {
   "cell_type": "markdown",
   "id": "91573777-334e-4040-967a-b196bdb43c5b",
   "metadata": {},
   "source": [
    "### 4AP Control Normalized Variance of Fluorescence Calculation"
   ]
  },
  {
   "cell_type": "code",
   "execution_count": 23,
   "id": "06b1e6b4-069c-47d3-b607-2e954b6fbe27",
   "metadata": {},
   "outputs": [],
   "source": [
    "mask_4AP_control_1 = plt.imread('/Users/Stephanie/Library/CloudStorage/OneDrive-TheUniversityofColoradoDenver/STED_FultonR_final_20210409/STED_deconv_10iter_seg1_FilledOpenMasks/4AP_control_1_deconv_10_ClassifierResult.tif')\n",
    "mask_4AP_control_2 = plt.imread('/Users/Stephanie/Library/CloudStorage/OneDrive-TheUniversityofColoradoDenver/STED_FultonR_final_20210409/STED_deconv_10iter_seg1_FilledOpenMasks/4AP_control_2_deconv_10_ClassifierResult.tif')\n",
    "mask_4AP_control_3 = plt.imread('/Users/Stephanie/Library/CloudStorage/OneDrive-TheUniversityofColoradoDenver/STED_FultonR_final_20210409/STED_deconv_10iter_seg1_FilledOpenMasks/4AP_control_3_deconv_10_ClassifierResult.tif')\n",
    "mask_4AP_control_4 = plt.imread('/Users/Stephanie/Library/CloudStorage/OneDrive-TheUniversityofColoradoDenver/STED_FultonR_final_20210409/STED_deconv_10iter_seg1_FilledOpenMasks/4AP_control_4_deconv_10_ClassifierResult.tif')\n",
    "mask_4AP_control_5 = plt.imread('/Users/Stephanie/Library/CloudStorage/OneDrive-TheUniversityofColoradoDenver/STED_FultonR_final_20210409/STED_deconv_10iter_seg1_FilledOpenMasks/4AP_control_5_deconv_10_ClassifierResult.tif')"
   ]
  },
  {
   "cell_type": "code",
   "execution_count": 144,
   "id": "be99db66-a29d-47c6-bfd7-f1cc8d92f9e4",
   "metadata": {},
   "outputs": [],
   "source": [
    "normvar_4AP_control_1 = fluo_var_image(raw_4AP_control_1,3)"
   ]
  },
  {
   "cell_type": "code",
   "execution_count": 145,
   "id": "bf00f5e6-85de-4075-8cb5-ea564efd3328",
   "metadata": {},
   "outputs": [],
   "source": [
    "normvar_4AP_control_2 = fluo_var_image(raw_4AP_control_2,3)"
   ]
  },
  {
   "cell_type": "code",
   "execution_count": 146,
   "id": "12f89eba-a482-469f-9bd5-a13018e40fcd",
   "metadata": {},
   "outputs": [],
   "source": [
    "normvar_4AP_control_3 = fluo_var_image(raw_4AP_control_3,3)"
   ]
  },
  {
   "cell_type": "code",
   "execution_count": 147,
   "id": "1b7ccb9c-a627-4af2-8f3f-3bc65e8f0187",
   "metadata": {},
   "outputs": [],
   "source": [
    "normvar_4AP_control_4 = fluo_var_image(raw_4AP_control_4,3)"
   ]
  },
  {
   "cell_type": "code",
   "execution_count": 148,
   "id": "7b3aa99b-ddee-4c64-9ffe-ab14c56e621a",
   "metadata": {},
   "outputs": [],
   "source": [
    "normvar_4AP_control_5 = fluo_var_image(raw_4AP_control_5,3)"
   ]
  },
  {
   "cell_type": "code",
   "execution_count": 155,
   "id": "be142511-b7b1-4609-b31a-d4798e410f1a",
   "metadata": {},
   "outputs": [],
   "source": [
    "nvarr_m_4AP_control_1 = np.multiply(mask_4AP_control_1,normvar_4AP_control_1)/255 #m=masked, f=final version with 0's removed\n",
    "nvarr_f_4AP_control_1 = nvarr_m_4AP_control_1[nvarr_m_4AP_control_1 != 0]\n",
    "nvarr_m_4AP_control_2 = np.multiply(mask_4AP_control_2, normvar_4AP_control_2)/255\n",
    "nvarr_f_4AP_control_2 = nvarr_m_4AP_control_2[nvarr_m_4AP_control_2 != 0]\n",
    "nvarr_m_4AP_control_3 = np.multiply(mask_4AP_control_3,normvar_4AP_control_3)/255\n",
    "nvarr_f_4AP_control_3 = nvarr_m_4AP_control_3[nvarr_m_4AP_control_3 != 0]\n",
    "nvarr_m_4AP_control_4 = np.multiply(mask_4AP_control_4,normvar_4AP_control_4)/255\n",
    "nvarr_f_4AP_control_4 = nvarr_m_4AP_control_4[nvarr_m_4AP_control_4 != 0]\n",
    "nvarr_m_4AP_control_5 = np.multiply(mask_4AP_control_5,normvar_4AP_control_5)/255\n",
    "nvarr_f_4AP_control_5 = nvarr_m_4AP_control_5[nvarr_m_4AP_control_5 != 0]"
   ]
  },
  {
   "cell_type": "code",
   "execution_count": 156,
   "id": "585ca5ca-337c-4696-97e2-e99b2322641c",
   "metadata": {},
   "outputs": [
    {
     "data": {
      "image/png": "[encoded data removed]",
      "text/plain": [
       "<Figure size 1152x576 with 5 Axes>"
      ]
     },
     "metadata": {
      "needs_background": "light"
     },
     "output_type": "display_data"
    }
   ],
   "source": [
    "#data = [df_glutamate_control_1['sigma [nm]'], df_glutamate_control_2['sigma [nm]'],df_glutamate_control_3['sigma [nm]'],df_glutamate_control_4['sigma [nm]'],df_glutamate_control_5['sigma [nm]']]\n",
    "fig1, ax1 = plt.subplots(figsize=(16,8), nrows=1,ncols=5)\n",
    "ax1[0].set_title('4AP control Tom20')\n",
    "ax1[0].set_xlabel('1')\n",
    "ax1[0].boxplot(nvarr_f_4AP_control_1)\n",
    "ax1[0].set_ylabel('Normalized Fluorescence')\n",
    "ax1[1].set_xlabel('2')\n",
    "ax1[1].boxplot(nvarr_f_4AP_control_2)\n",
    "ax1[2].set_xlabel('3')\n",
    "ax1[2].boxplot(nvarr_f_4AP_control_3)\n",
    "ax1[3].set_xlabel('4')\n",
    "ax1[3].boxplot(nvarr_f_4AP_control_4)\n",
    "ax1[4].set_xlabel('5')\n",
    "ax1[4].boxplot(nvarr_f_4AP_control_5)\n",
    "plt.show()"
   ]
  },
  {
   "cell_type": "code",
   "execution_count": 157,
   "id": "cac77362-8290-4756-b055-70742459402e",
   "metadata": {},
   "outputs": [
    {
     "name": "stdout",
     "output_type": "stream",
     "text": [
      "0.13810686561466595\n",
      "0.1471525965827792\n",
      "0.14513607991234373\n",
      "0.13204508856682767\n",
      "0.15027573098676433\n"
     ]
    }
   ],
   "source": [
    "print(np.median(nvarr_f_4AP_control_1))\n",
    "print(np.median(nvarr_f_4AP_control_2))\n",
    "print(np.median(nvarr_f_4AP_control_3))\n",
    "print(np.median(nvarr_f_4AP_control_4))\n",
    "print(np.median(nvarr_f_4AP_control_5))"
   ]
  },
  {
   "cell_type": "code",
   "execution_count": 159,
   "id": "590df870-6068-4a93-be11-203fd2f5d366",
   "metadata": {},
   "outputs": [
    {
     "name": "stdout",
     "output_type": "stream",
     "text": [
      "0.07566312747235168\n",
      "0.07666459482406247\n",
      "0.09019896800400647\n",
      "0.07929712449118854\n",
      "0.0825336218831287\n"
     ]
    }
   ],
   "source": [
    "print(np.std(nvarr_f_4AP_control_1))\n",
    "print(np.std(nvarr_f_4AP_control_2))\n",
    "print(np.std(nvarr_f_4AP_control_3))\n",
    "print(np.std(nvarr_f_4AP_control_4))\n",
    "print(np.std(nvarr_f_4AP_control_5))"
   ]
  },
  {
   "cell_type": "markdown",
   "id": "8c56525b-449d-4ace-a547-427849190daf",
   "metadata": {},
   "source": [
    "### Glutamate Normalized Variance of Fluorescence Calculation"
   ]
  },
  {
   "cell_type": "code",
   "execution_count": 138,
   "id": "de9139cf-f398-4e55-8076-e3964a2783e2",
   "metadata": {},
   "outputs": [],
   "source": [
    "mask_glutamate_0p1uM_1 = plt.imread('/Users/Stephanie/Library/CloudStorage/OneDrive-TheUniversityofColoradoDenver/STED_FultonR_final_20210409/STED_deconv_10iter_seg1_FilledOpenMasks/glutamate_0p1uM_1_deconv_10_ClassifierResult.tif')\n",
    "mask_glutamate_0p1uM_2 = plt.imread('/Users/Stephanie/Library/CloudStorage/OneDrive-TheUniversityofColoradoDenver/STED_FultonR_final_20210409/STED_deconv_10iter_seg1_FilledOpenMasks/glutamate_0p1uM_2_deconv_10_ClassifierResult.tif')\n",
    "mask_glutamate_0p1uM_3 = plt.imread('/Users/Stephanie/Library/CloudStorage/OneDrive-TheUniversityofColoradoDenver/STED_FultonR_final_20210409/STED_deconv_10iter_seg1_FilledOpenMasks/glutamate_0p1uM_3_deconv_10_ClassifierResult.tif')\n",
    "mask_glutamate_0p1uM_4 = plt.imread('/Users/Stephanie/Library/CloudStorage/OneDrive-TheUniversityofColoradoDenver/STED_FultonR_final_20210409/STED_deconv_10iter_seg1_FilledOpenMasks/glutamate_0p1uM_4_deconv_10_ClassifierResult.tif')\n",
    "mask_glutamate_0p1uM_5 = plt.imread('/Users/Stephanie/Library/CloudStorage/OneDrive-TheUniversityofColoradoDenver/STED_FultonR_final_20210409/STED_deconv_10iter_seg1_FilledOpenMasks/glutamate_0p1uM_5_deconv_10_ClassifierResult.tif')"
   ]
  },
  {
   "cell_type": "code",
   "execution_count": 139,
   "id": "8ce84f99-926b-43d8-b0d1-8de3e4224b5f",
   "metadata": {},
   "outputs": [],
   "source": [
    "normvar_glutamate_0p1uM_1 = fluo_var_image(raw_glutamate_0p1uM_1,3)"
   ]
  },
  {
   "cell_type": "code",
   "execution_count": 140,
   "id": "cf9df57b-d917-4c50-bc67-e7281d6f7998",
   "metadata": {},
   "outputs": [],
   "source": [
    "normvar_glutamate_0p1uM_2 = fluo_var_image(raw_glutamate_0p1uM_2,3)"
   ]
  },
  {
   "cell_type": "code",
   "execution_count": 141,
   "id": "f3b38bc7-5b82-4f77-9279-41c27f8b8bd4",
   "metadata": {},
   "outputs": [],
   "source": [
    "normvar_glutamate_0p1uM_3 = fluo_var_image(raw_glutamate_0p1uM_3,3)"
   ]
  },
  {
   "cell_type": "code",
   "execution_count": 142,
   "id": "f8bfd80f-b83f-4fe4-9f05-8c065d50adae",
   "metadata": {},
   "outputs": [],
   "source": [
    "normvar_glutamate_0p1uM_4 = fluo_var_image(raw_glutamate_0p1uM_4,3)"
   ]
  },
  {
   "cell_type": "code",
   "execution_count": 143,
   "id": "b825f5c9-2559-42e0-b38f-3a641e2db7f2",
   "metadata": {},
   "outputs": [],
   "source": [
    "normvar_glutamate_0p1uM_5 = fluo_var_image(raw_glutamate_0p1uM_5,3)"
   ]
  },
  {
   "cell_type": "code",
   "execution_count": 160,
   "id": "3607803f-dc59-47a7-84eb-53b6329c220b",
   "metadata": {},
   "outputs": [],
   "source": [
    "nvarr_m_glutamate_0p1uM_1 = np.multiply(mask_glutamate_0p1uM_1,normvar_glutamate_0p1uM_1)/255 #m=masked, f=final version with 0's removed\n",
    "nvarr_f_glutamate_0p1uM_1 = nvarr_m_glutamate_0p1uM_1[nvarr_m_glutamate_0p1uM_1 != 0]\n",
    "nvarr_m_glutamate_0p1uM_2 = np.multiply(mask_glutamate_0p1uM_2, normvar_glutamate_0p1uM_2)/255\n",
    "nvarr_f_glutamate_0p1uM_2 = nvarr_m_glutamate_0p1uM_2[nvarr_m_glutamate_0p1uM_2 != 0]\n",
    "nvarr_m_glutamate_0p1uM_3 = np.multiply(mask_glutamate_0p1uM_3,normvar_glutamate_0p1uM_3)/255\n",
    "nvarr_f_glutamate_0p1uM_3 = nvarr_m_glutamate_0p1uM_3[nvarr_m_glutamate_0p1uM_3 != 0]\n",
    "nvarr_m_glutamate_0p1uM_4 = np.multiply(mask_glutamate_0p1uM_4,normvar_glutamate_0p1uM_4)/255\n",
    "nvarr_f_glutamate_0p1uM_4 = nvarr_m_glutamate_0p1uM_4[nvarr_m_glutamate_0p1uM_4 != 0]\n",
    "nvarr_m_glutamate_0p1uM_5 = np.multiply(mask_glutamate_0p1uM_5,normvar_glutamate_0p1uM_5)/255\n",
    "nvarr_f_glutamate_0p1uM_5 = nvarr_m_glutamate_0p1uM_5[nvarr_m_glutamate_0p1uM_5 != 0]"
   ]
  },
  {
   "cell_type": "code",
   "execution_count": 161,
   "id": "3abb851a-b75c-4f41-bb47-876ada6f4eab",
   "metadata": {},
   "outputs": [
    {
     "data": {
      "image/png": "[encoded data removed]",
      "text/plain": [
       "<Figure size 1152x576 with 5 Axes>"
      ]
     },
     "metadata": {
      "needs_background": "light"
     },
     "output_type": "display_data"
    }
   ],
   "source": [
    "#data = [df_glutamate_control_1['sigma [nm]'], df_glutamate_control_2['sigma [nm]'],df_glutamate_control_3['sigma [nm]'],df_glutamate_control_4['sigma [nm]'],df_glutamate_control_5['sigma [nm]']]\n",
    "fig1, ax1 = plt.subplots(figsize=(16,8), nrows=1,ncols=5)\n",
    "ax1[0].set_title('glutamate 0p1uM Tom20')\n",
    "ax1[0].set_xlabel('1')\n",
    "ax1[0].boxplot(nvarr_f_glutamate_0p1uM_1)\n",
    "ax1[0].set_ylabel('Normalized Fluorescence')\n",
    "ax1[1].set_xlabel('2')\n",
    "ax1[1].boxplot(nvarr_f_glutamate_0p1uM_2)\n",
    "ax1[2].set_xlabel('3')\n",
    "ax1[2].boxplot(nvarr_f_glutamate_0p1uM_3)\n",
    "ax1[3].set_xlabel('4')\n",
    "ax1[3].boxplot(nvarr_f_glutamate_0p1uM_4)\n",
    "ax1[4].set_xlabel('5')\n",
    "ax1[4].boxplot(nvarr_f_glutamate_0p1uM_5)\n",
    "plt.show()"
   ]
  },
  {
   "cell_type": "code",
   "execution_count": 162,
   "id": "20558317-937b-4e3d-a481-a58a262bc6fc",
   "metadata": {},
   "outputs": [
    {
     "name": "stdout",
     "output_type": "stream",
     "text": [
      "0.13418572309683896\n",
      "0.14226077159071898\n",
      "0.14940828402366868\n",
      "0.13900898502537012\n",
      "0.13835294202331164\n"
     ]
    }
   ],
   "source": [
    "print(np.median(nvarr_f_glutamate_0p1uM_1))\n",
    "print(np.median(nvarr_f_glutamate_0p1uM_2))\n",
    "print(np.median(nvarr_f_glutamate_0p1uM_3))\n",
    "print(np.median(nvarr_f_glutamate_0p1uM_4))\n",
    "print(np.median(nvarr_f_glutamate_0p1uM_5))"
   ]
  },
  {
   "cell_type": "code",
   "execution_count": 163,
   "id": "b5256485-1e88-46b5-968e-d129d13b7563",
   "metadata": {},
   "outputs": [
    {
     "name": "stdout",
     "output_type": "stream",
     "text": [
      "0.0755834604084878\n",
      "0.06827660498735977\n",
      "0.08140591821892178\n",
      "0.07601239712897984\n",
      "0.08003538383002907\n"
     ]
    }
   ],
   "source": [
    "print(np.std(nvarr_f_glutamate_0p1uM_1))\n",
    "print(np.std(nvarr_f_glutamate_0p1uM_2))\n",
    "print(np.std(nvarr_f_glutamate_0p1uM_3))\n",
    "print(np.std(nvarr_f_glutamate_0p1uM_4))\n",
    "print(np.std(nvarr_f_glutamate_0p1uM_5))"
   ]
  },
  {
   "cell_type": "markdown",
   "id": "89d9291b-2002-48f9-abe4-56c4e0bfebe9",
   "metadata": {},
   "source": [
    "### Glutamate Control Normalized Variance of the Fluorescence Calculation"
   ]
  },
  {
   "cell_type": "code",
   "execution_count": 149,
   "id": "c5b6397f-2fdd-46d5-a8af-97a5c87fea5c",
   "metadata": {},
   "outputs": [],
   "source": [
    "mask_glutamate_control_1 = plt.imread('/Users/Stephanie/Library/CloudStorage/OneDrive-TheUniversityofColoradoDenver/STED_FultonR_final_20210409/STED_deconv_10iter_seg1_FilledOpenMasks/glutamate_control_1_deconv_10_ClassifierResult.tif')\n",
    "mask_glutamate_control_2 = plt.imread('/Users/Stephanie/Library/CloudStorage/OneDrive-TheUniversityofColoradoDenver/STED_FultonR_final_20210409/STED_deconv_10iter_seg1_FilledOpenMasks/glutamate_control_2_deconv_10_ClassifierResult.tif')\n",
    "mask_glutamate_control_3 = plt.imread('/Users/Stephanie/Library/CloudStorage/OneDrive-TheUniversityofColoradoDenver/STED_FultonR_final_20210409/STED_deconv_10iter_seg1_FilledOpenMasks/glutamate_control_3_deconv_10_ClassifierResult.tif')\n",
    "mask_glutamate_control_4 = plt.imread('/Users/Stephanie/Library/CloudStorage/OneDrive-TheUniversityofColoradoDenver/STED_FultonR_final_20210409/STED_deconv_10iter_seg1_FilledOpenMasks/glutamate_control_4_deconv_10_ClassifierResult.tif')\n",
    "mask_glutamate_control_5 = plt.imread('/Users/Stephanie/Library/CloudStorage/OneDrive-TheUniversityofColoradoDenver/STED_FultonR_final_20210409/STED_deconv_10iter_seg1_FilledOpenMasks/glutamate_control_5_deconv_10_ClassifierResult.tif')"
   ]
  },
  {
   "cell_type": "code",
   "execution_count": 150,
   "id": "7f6a695b-8274-4e97-97c1-0cd1cf8a32b5",
   "metadata": {},
   "outputs": [],
   "source": [
    "normvar_glutamate_control_1 = fluo_var_image(raw_glutamate_control_1,3)"
   ]
  },
  {
   "cell_type": "code",
   "execution_count": 151,
   "id": "b07a2567-ffc0-480d-b4bb-0f9931641d34",
   "metadata": {},
   "outputs": [],
   "source": [
    "normvar_glutamate_control_2 = fluo_var_image(raw_glutamate_control_2,3)"
   ]
  },
  {
   "cell_type": "code",
   "execution_count": 152,
   "id": "64a659f5-522c-405d-ac31-e8e8b424e762",
   "metadata": {},
   "outputs": [],
   "source": [
    "normvar_glutamate_control_3 = fluo_var_image(raw_glutamate_control_3,3)"
   ]
  },
  {
   "cell_type": "code",
   "execution_count": 153,
   "id": "6fa3973f-3d45-4392-8b42-4b6ed576bf97",
   "metadata": {},
   "outputs": [],
   "source": [
    "normvar_glutamate_control_4 = fluo_var_image(raw_glutamate_control_4,3)"
   ]
  },
  {
   "cell_type": "code",
   "execution_count": 154,
   "id": "5582f45b-b378-423c-87c3-519ccf26417f",
   "metadata": {},
   "outputs": [],
   "source": [
    "normvar_glutamate_control_5 = fluo_var_image(raw_glutamate_control_5,3)"
   ]
  },
  {
   "cell_type": "code",
   "execution_count": 164,
   "id": "c02281ce-bb20-4cc1-bc6a-597cd71c5b33",
   "metadata": {},
   "outputs": [],
   "source": [
    "nvarr_m_glutamate_control_1 = np.multiply(mask_glutamate_control_1,normvar_glutamate_control_1)/255 #m=masked, f=final version with 0's removed\n",
    "nvarr_f_glutamate_control_1 = nvarr_m_glutamate_control_1[nvarr_m_glutamate_control_1 != 0]\n",
    "nvarr_m_glutamate_control_2 = np.multiply(mask_glutamate_control_2, normvar_glutamate_control_2)/255\n",
    "nvarr_f_glutamate_control_2 = nvarr_m_glutamate_control_2[nvarr_m_glutamate_control_2 != 0]\n",
    "nvarr_m_glutamate_control_3 = np.multiply(mask_glutamate_control_3,normvar_glutamate_control_3)/255\n",
    "nvarr_f_glutamate_control_3 = nvarr_m_glutamate_control_3[nvarr_m_glutamate_control_3 != 0]\n",
    "nvarr_m_glutamate_control_4 = np.multiply(mask_glutamate_control_4,normvar_glutamate_control_4)/255\n",
    "nvarr_f_glutamate_control_4 = nvarr_m_glutamate_control_4[nvarr_m_glutamate_control_4 != 0]\n",
    "nvarr_m_glutamate_control_5 = np.multiply(mask_glutamate_control_5,normvar_glutamate_control_5)/255\n",
    "nvarr_f_glutamate_control_5 = nvarr_m_glutamate_control_5[nvarr_m_glutamate_control_5 != 0]"
   ]
  },
  {
   "cell_type": "code",
   "execution_count": 165,
   "id": "f1d66c31-f676-4115-8b5c-3fb3af6f6ab0",
   "metadata": {},
   "outputs": [
    {
     "data": {
      "image/png": "[encoded data removed]",
      "text/plain": [
       "<Figure size 1152x576 with 5 Axes>"
      ]
     },
     "metadata": {
      "needs_background": "light"
     },
     "output_type": "display_data"
    }
   ],
   "source": [
    "#data = [df_glutamate_control_1['sigma [nm]'], df_glutamate_control_2['sigma [nm]'],df_glutamate_control_3['sigma [nm]'],df_glutamate_control_4['sigma [nm]'],df_glutamate_control_5['sigma [nm]']]\n",
    "fig1, ax1 = plt.subplots(figsize=(16,8), nrows=1,ncols=5)\n",
    "ax1[0].set_title('glutamate control Tom20')\n",
    "ax1[0].set_xlabel('1')\n",
    "ax1[0].boxplot(nvarr_f_glutamate_control_1)\n",
    "ax1[0].set_ylabel('Normalized Fluorescence')\n",
    "ax1[1].set_xlabel('2')\n",
    "ax1[1].boxplot(nvarr_f_glutamate_control_2)\n",
    "ax1[2].set_xlabel('3')\n",
    "ax1[2].boxplot(nvarr_f_glutamate_control_3)\n",
    "ax1[3].set_xlabel('4')\n",
    "ax1[3].boxplot(nvarr_f_glutamate_control_4)\n",
    "ax1[4].set_xlabel('5')\n",
    "ax1[4].boxplot(nvarr_f_glutamate_control_5)\n",
    "plt.show()"
   ]
  },
  {
   "cell_type": "code",
   "execution_count": 166,
   "id": "b1290360-bbc6-4ae5-8767-6e2c8298aa77",
   "metadata": {},
   "outputs": [
    {
     "name": "stdout",
     "output_type": "stream",
     "text": [
      "0.10212672672494748\n",
      "0.11870985270430244\n",
      "0.13952282139717076\n",
      "0.14142716049382714\n",
      "0.12306564411445495\n"
     ]
    }
   ],
   "source": [
    "print(np.median(nvarr_f_glutamate_control_1))\n",
    "print(np.median(nvarr_f_glutamate_control_2))\n",
    "print(np.median(nvarr_f_glutamate_control_3))\n",
    "print(np.median(nvarr_f_glutamate_control_4))\n",
    "print(np.median(nvarr_f_glutamate_control_5))"
   ]
  },
  {
   "cell_type": "code",
   "execution_count": 167,
   "id": "e500c9ed-ec30-4fe7-a5d4-3ff3b24ae106",
   "metadata": {},
   "outputs": [
    {
     "name": "stdout",
     "output_type": "stream",
     "text": [
      "0.07248782801247376\n",
      "0.09244430856710895\n",
      "0.08205606764036125\n",
      "0.08363577927296112\n",
      "0.09546446951930129\n"
     ]
    }
   ],
   "source": [
    "print(np.std(nvarr_f_glutamate_control_1))\n",
    "print(np.std(nvarr_f_glutamate_control_2))\n",
    "print(np.std(nvarr_f_glutamate_control_3))\n",
    "print(np.std(nvarr_f_glutamate_control_4))\n",
    "print(np.std(nvarr_f_glutamate_control_5))"
   ]
  },
  {
   "cell_type": "markdown",
   "id": "a83fbe18-9a9d-44d2-80f2-9219c3cebeaa",
   "metadata": {},
   "source": [
    "## Now calculate the median and generate boxplots of each type of condition"
   ]
  },
  {
   "cell_type": "code",
   "execution_count": 168,
   "id": "25326a74-7461-4545-93c2-dba7adb1df2f",
   "metadata": {},
   "outputs": [
    {
     "name": "stdout",
     "output_type": "stream",
     "text": [
      "0.11904444444444444\n"
     ]
    }
   ],
   "source": [
    "print(np.median(np.concatenate((nvarr_f_4AP_4mM_1,nvarr_f_4AP_4mM_2,nvarr_f_4AP_4mM_3,nvarr_f_4AP_4mM_4,nvarr_f_4AP_4mM_5), axis=0)))"
   ]
  },
  {
   "cell_type": "code",
   "execution_count": 169,
   "id": "104ca799-888f-406f-b5be-b4a7a79ce455",
   "metadata": {},
   "outputs": [
    {
     "name": "stdout",
     "output_type": "stream",
     "text": [
      "0.13882082126680034\n"
     ]
    }
   ],
   "source": [
    "print(np.median(np.concatenate((nvarr_f_4AP_control_1,nvarr_f_4AP_control_2,nvarr_f_4AP_control_3,nvarr_f_4AP_control_4,nvarr_f_4AP_control_5), axis=0)))"
   ]
  },
  {
   "cell_type": "code",
   "execution_count": 170,
   "id": "110d379e-bdca-468f-9318-af76c98edf1a",
   "metadata": {},
   "outputs": [
    {
     "name": "stdout",
     "output_type": "stream",
     "text": [
      "0.1389676494034077\n"
     ]
    }
   ],
   "source": [
    "print(np.median(np.concatenate((nvarr_f_glutamate_0p1uM_1,nvarr_f_glutamate_0p1uM_2,nvarr_f_glutamate_0p1uM_3,nvarr_f_glutamate_0p1uM_4,nvarr_f_glutamate_0p1uM_5), axis=0)))"
   ]
  },
  {
   "cell_type": "code",
   "execution_count": 171,
   "id": "7bd42ead-0c61-4cc6-8b85-223a583ad8ed",
   "metadata": {},
   "outputs": [
    {
     "name": "stdout",
     "output_type": "stream",
     "text": [
      "0.12349465257596683\n"
     ]
    }
   ],
   "source": [
    "print(np.median(np.concatenate((nvarr_f_glutamate_control_1,nvarr_f_glutamate_control_2,nvarr_f_glutamate_control_3,nvarr_f_glutamate_control_4,nvarr_f_glutamate_control_5), axis=0)))"
   ]
  },
  {
   "cell_type": "markdown",
   "id": "b9b9d105-ad14-4ab6-9c21-9fe81c247325",
   "metadata": {},
   "source": [
    "# Now save the numpy arrays with the normalized fluorescence values for Emily, then she can compare the images to one another and the conditions to one another by binning the data together"
   ]
  },
  {
   "cell_type": "markdown",
   "id": "ba057bd1-620c-45e8-bd0e-c25564a35956",
   "metadata": {},
   "source": [
    "4AP 4mM data:"
   ]
  },
  {
   "cell_type": "code",
   "execution_count": 172,
   "id": "7bab506a-84e4-400b-9033-73e5e674ef9e",
   "metadata": {},
   "outputs": [],
   "source": [
    "np.savetxt('/Users/Stephanie/Library/CloudStorage/OneDrive-TheUniversityofColoradoDenver/STED_FultonR_final_20210409/For Emily/nvarr_4AP_4mM_1.csv', nvarr_f_4AP_4mM_1, delimiter=',')\n",
    "np.savetxt('/Users/Stephanie/Library/CloudStorage/OneDrive-TheUniversityofColoradoDenver/STED_FultonR_final_20210409/For Emily/nvarr_4AP_4mM_2.csv', nvarr_f_4AP_4mM_2, delimiter=',')\n",
    "np.savetxt('/Users/Stephanie/Library/CloudStorage/OneDrive-TheUniversityofColoradoDenver/STED_FultonR_final_20210409/For Emily/nvarr_4AP_4mM_3.csv', nvarr_f_4AP_4mM_3, delimiter=',')\n",
    "np.savetxt('/Users/Stephanie/Library/CloudStorage/OneDrive-TheUniversityofColoradoDenver/STED_FultonR_final_20210409/For Emily/nvarr_4AP_4mM_4.csv', nvarr_f_4AP_4mM_4, delimiter=',')\n",
    "np.savetxt('/Users/Stephanie/Library/CloudStorage/OneDrive-TheUniversityofColoradoDenver/STED_FultonR_final_20210409/For Emily/nvarr_4AP_4mM_5.csv', nvarr_f_4AP_4mM_5, delimiter=',')"
   ]
  },
  {
   "cell_type": "markdown",
   "id": "7eba1c47-00ee-440e-860a-cb08b851dd3e",
   "metadata": {},
   "source": [
    "4AP control data:"
   ]
  },
  {
   "cell_type": "code",
   "execution_count": 173,
   "id": "84a74580-99ff-4375-8625-e8803fa5692f",
   "metadata": {},
   "outputs": [],
   "source": [
    "np.savetxt('/Users/Stephanie/Library/CloudStorage/OneDrive-TheUniversityofColoradoDenver/STED_FultonR_final_20210409/For Emily/nvarr_4AP_control_1.csv', nvarr_f_4AP_control_1, delimiter=',')\n",
    "np.savetxt('/Users/Stephanie/Library/CloudStorage/OneDrive-TheUniversityofColoradoDenver/STED_FultonR_final_20210409/For Emily/nvarr_4AP_control_2.csv', nvarr_f_4AP_control_2, delimiter=',')\n",
    "np.savetxt('/Users/Stephanie/Library/CloudStorage/OneDrive-TheUniversityofColoradoDenver/STED_FultonR_final_20210409/For Emily/nvarr_4AP_control_3.csv', nvarr_f_4AP_control_3, delimiter=',')\n",
    "np.savetxt('/Users/Stephanie/Library/CloudStorage/OneDrive-TheUniversityofColoradoDenver/STED_FultonR_final_20210409/For Emily/nvarr_4AP_control_4.csv', nvarr_f_4AP_control_4, delimiter=',')\n",
    "np.savetxt('/Users/Stephanie/Library/CloudStorage/OneDrive-TheUniversityofColoradoDenver/STED_FultonR_final_20210409/For Emily/nvarr_4AP_control_5.csv', nvarr_f_4AP_control_5, delimiter=',')"
   ]
  },
  {
   "cell_type": "code",
   "execution_count": 174,
   "id": "049907a3-69db-4e93-972b-b84aeb9b230b",
   "metadata": {},
   "outputs": [],
   "source": [
    "np.savetxt('/Users/Stephanie/Library/CloudStorage/OneDrive-TheUniversityofColoradoDenver/STED_FultonR_final_20210409/For Emily/nvarr_glutamate_0p1uM_1.csv', nvarr_f_glutamate_0p1uM_1, delimiter=',')\n",
    "np.savetxt('/Users/Stephanie/Library/CloudStorage/OneDrive-TheUniversityofColoradoDenver/STED_FultonR_final_20210409/For Emily/nvarr_glutamate_0p1uM_2.csv', nvarr_f_glutamate_0p1uM_2, delimiter=',')\n",
    "np.savetxt('/Users/Stephanie/Library/CloudStorage/OneDrive-TheUniversityofColoradoDenver/STED_FultonR_final_20210409/For Emily/nvarr_glutamate_0p1uM_3.csv', nvarr_f_glutamate_0p1uM_3, delimiter=',')\n",
    "np.savetxt('/Users/Stephanie/Library/CloudStorage/OneDrive-TheUniversityofColoradoDenver/STED_FultonR_final_20210409/For Emily/nvarr_glutamate_0p1uM_4.csv', nvarr_f_glutamate_0p1uM_4, delimiter=',')\n",
    "np.savetxt('/Users/Stephanie/Library/CloudStorage/OneDrive-TheUniversityofColoradoDenver/STED_FultonR_final_20210409/For Emily/nvarr_glutamate_0p1uM_5.csv', nvarr_f_glutamate_0p1uM_5, delimiter=',')"
   ]
  },
  {
   "cell_type": "code",
   "execution_count": 175,
   "id": "1dfe5e5f-866e-4b0e-a132-89e324db07b1",
   "metadata": {},
   "outputs": [],
   "source": [
    "np.savetxt('/Users/Stephanie/Library/CloudStorage/OneDrive-TheUniversityofColoradoDenver/STED_FultonR_final_20210409/For Emily/nvarr_glutamate_control_1.csv', nvarr_f_glutamate_control_1, delimiter=',')\n",
    "np.savetxt('/Users/Stephanie/Library/CloudStorage/OneDrive-TheUniversityofColoradoDenver/STED_FultonR_final_20210409/For Emily/nvarr_glutamate_control_2.csv', nvarr_f_glutamate_control_2, delimiter=',')\n",
    "np.savetxt('/Users/Stephanie/Library/CloudStorage/OneDrive-TheUniversityofColoradoDenver/STED_FultonR_final_20210409/For Emily/nvarr_glutamate_control_3.csv', nvarr_f_glutamate_control_3, delimiter=',')\n",
    "np.savetxt('/Users/Stephanie/Library/CloudStorage/OneDrive-TheUniversityofColoradoDenver/STED_FultonR_final_20210409/For Emily/nvarr_glutamate_control_4.csv', nvarr_f_glutamate_control_4, delimiter=',')\n",
    "np.savetxt('/Users/Stephanie/Library/CloudStorage/OneDrive-TheUniversityofColoradoDenver/STED_FultonR_final_20210409/For Emily/nvarr_glutamate_control_5.csv', nvarr_f_glutamate_control_5, delimiter=',')"
   ]
  },
  {
   "cell_type": "code",
   "execution_count": null,
   "id": "483ad74c-5e43-4e7d-8efd-42e5c812a93d",
   "metadata": {},
   "outputs": [],
   "source": []
  }
 ],
 "metadata": {
  "kernelspec": {
   "display_name": "Python 3 (ipykernel)",
   "language": "python",
   "name": "python3"
  },
  "language_info": {
   "codemirror_mode": {
    "name": "ipython",
    "version": 3
   },
   "file_extension": ".py",
   "mimetype": "text/x-python",
   "name": "python",
   "nbconvert_exporter": "python",
   "pygments_lexer": "ipython3",
   "version": "3.8.5"
  }
 },
 "nbformat": 4,
 "nbformat_minor": 5
}
